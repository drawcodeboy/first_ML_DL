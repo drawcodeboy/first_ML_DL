{
  "nbformat": 4,
  "nbformat_minor": 0,
  "metadata": {
    "colab": {
      "name": "firstMLDL_03_3.ipynb",
      "provenance": [],
      "collapsed_sections": [],
      "authorship_tag": "ABX9TyNi54Hn0HmvNudYbE+rwykV",
      "include_colab_link": true
    },
    "kernelspec": {
      "name": "python3",
      "display_name": "Python 3"
    },
    "language_info": {
      "name": "python"
    }
  },
  "cells": [
    {
      "cell_type": "markdown",
      "metadata": {
        "id": "view-in-github",
        "colab_type": "text"
      },
      "source": [
        "<a href=\"https://colab.research.google.com/github/drawcodeboy/first_ML_DL/blob/main/firstMLDL_03_3.ipynb\" target=\"_parent\"><img src=\"https://colab.research.google.com/assets/colab-badge.svg\" alt=\"Open In Colab\"/></a>"
      ]
    },
    {
      "cell_type": "markdown",
      "source": [
        "#특성 공학과 규제 (Feature Engineering and Regularization)\n",
        ">* 하나의 feature를 사용하여 선형 회귀 모델을 만들어 보았다. 하지만, Underfitting이 생겼기 때문에 여러 개의 feature를 이용하여 선형 회귀를 시켜 모델을 만들어보자. 이를 <b>다중 회귀(Multiple Regression)</b>이라 한다.\n",
        ">* 여러 개의 feature를 사용한다고 해서 선형 회귀가 다중 회귀보다 무조건 성능이 낮을 거라고 오해해서는 안 된다.\n",
        ">* 특성 공학이란?"
      ],
      "metadata": {
        "id": "61enpt_FGeG_"
      }
    },
    {
      "cell_type": "code",
      "source": [
        "# 데이터 준비\n",
        "\n",
        "# 이번엔 pandas(데이터 분석 라이브러리)를 이용하여 dataframe을 활용해 데이터를 가져와보자.\n",
        "\n",
        "import pandas as pd\n",
        "\n",
        "df = pd.read_csv('http://bit.ly/perch_csv_data') # read_csv: 주소를 parameter로 넣음으로써 data를 가져옴, 기본적으로 sep이 ','로 되어있음\n",
        "perch_full = df.to_numpy() # dataframe 메서드 to_numpy: 데이터프레임을 넘파이 배열로 변환하는 메서드\n",
        "print(perch_full)"
      ],
      "metadata": {
        "id": "P9mifUxyIwCq",
        "colab": {
          "base_uri": "https://localhost:8080/"
        },
        "outputId": "2b40e6f6-4937-4a4e-9623-abb3deed7ccf"
      },
      "execution_count": 2,
      "outputs": [
        {
          "output_type": "stream",
          "name": "stdout",
          "text": [
            "[[ 8.4   2.11  1.41]\n",
            " [13.7   3.53  2.  ]\n",
            " [15.    3.82  2.43]\n",
            " [16.2   4.59  2.63]\n",
            " [17.4   4.59  2.94]\n",
            " [18.    5.22  3.32]\n",
            " [18.7   5.2   3.12]\n",
            " [19.    5.64  3.05]\n",
            " [19.6   5.14  3.04]\n",
            " [20.    5.08  2.77]\n",
            " [21.    5.69  3.56]\n",
            " [21.    5.92  3.31]\n",
            " [21.    5.69  3.67]\n",
            " [21.3   6.38  3.53]\n",
            " [22.    6.11  3.41]\n",
            " [22.    5.64  3.52]\n",
            " [22.    6.11  3.52]\n",
            " [22.    5.88  3.52]\n",
            " [22.    5.52  4.  ]\n",
            " [22.5   5.86  3.62]\n",
            " [22.5   6.79  3.62]\n",
            " [22.7   5.95  3.63]\n",
            " [23.    5.22  3.63]\n",
            " [23.5   6.28  3.72]\n",
            " [24.    7.29  3.72]\n",
            " [24.    6.38  3.82]\n",
            " [24.6   6.73  4.17]\n",
            " [25.    6.44  3.68]\n",
            " [25.6   6.56  4.24]\n",
            " [26.5   7.17  4.14]\n",
            " [27.3   8.32  5.14]\n",
            " [27.5   7.17  4.34]\n",
            " [27.5   7.05  4.34]\n",
            " [27.5   7.28  4.57]\n",
            " [28.    7.82  4.2 ]\n",
            " [28.7   7.59  4.64]\n",
            " [30.    7.62  4.77]\n",
            " [32.8  10.03  6.02]\n",
            " [34.5  10.26  6.39]\n",
            " [35.   11.49  7.8 ]\n",
            " [36.5  10.88  6.86]\n",
            " [36.   10.61  6.74]\n",
            " [37.   10.84  6.26]\n",
            " [37.   10.57  6.37]\n",
            " [39.   11.14  7.49]\n",
            " [39.   11.14  6.  ]\n",
            " [39.   12.43  7.35]\n",
            " [40.   11.93  7.11]\n",
            " [40.   11.73  7.22]\n",
            " [40.   12.38  7.46]\n",
            " [40.   11.14  6.63]\n",
            " [42.   12.8   6.87]\n",
            " [43.   11.93  7.28]\n",
            " [43.   12.51  7.42]\n",
            " [43.5  12.6   8.14]\n",
            " [44.   12.49  7.6 ]]\n"
          ]
        }
      ]
    },
    {
      "cell_type": "code",
      "source": [
        "# 타깃 데이터 준비\n",
        "\n",
        "import numpy as np\n",
        "\n",
        "perch_weight = np.array(\n",
        "    [5.9, 32.0, 40.0, 51.5, 70.0, 100.0, 78.0, 80.0, 85.0, 85.0, \n",
        "     110.0, 115.0, 125.0, 130.0, 120.0, 120.0, 130.0, 135.0, 110.0, \n",
        "     130.0, 150.0, 145.0, 150.0, 170.0, 225.0, 145.0, 188.0, 180.0, \n",
        "     197.0, 218.0, 300.0, 260.0, 265.0, 250.0, 250.0, 300.0, 320.0, \n",
        "     514.0, 556.0, 840.0, 685.0, 700.0, 700.0, 690.0, 900.0, 650.0, \n",
        "     820.0, 850.0, 900.0, 1015.0, 820.0, 1100.0, 1000.0, 1100.0, \n",
        "     1000.0, 1000.0]\n",
        "     )"
      ],
      "metadata": {
        "id": "FocQCVDUJy70"
      },
      "execution_count": 3,
      "outputs": []
    },
    {
      "cell_type": "code",
      "source": [
        "from sklearn.model_selection import train_test_split\n",
        "\n",
        "train_input, test_input, train_target, test_target = train_test_split(\n",
        "    perch_full, perch_weight, random_state = 42\n",
        ")"
      ],
      "metadata": {
        "id": "MCSEPV0iKHL6"
      },
      "execution_count": 4,
      "outputs": []
    },
    {
      "cell_type": "markdown",
      "source": [
        "#특성 공학(Feature Engineering)\n",
        ">* 기존의 특성을 사용하여 새로운 특성을 뽑아내는 작업"
      ],
      "metadata": {
        "id": "SA5OfiK1Ixwt"
      }
    },
    {
      "cell_type": "markdown",
      "source": [
        "#사이킷런의 변환기(Transformer)\n",
        "\n",
        ">* 사이킷런은 특성을 만들거나 전처리하기 위한 다양한 클래스를 제공한다.\n",
        ">* 모델 클래스에 일관 되게 <b>fit(), score(), predict() </b>메서드가 있는 것처럼 변환기 클래스는 모두 <b>fit(), transform()</b> 메서드를 제공한다.\n",
        ">* 모델 클래스는 추정기(Estimator)라고도 부른다."
      ],
      "metadata": {
        "id": "kI6Lsqa3LigB"
      }
    },
    {
      "cell_type": "code",
      "source": [
        "# 사이킷런의 변환기 (Transformer)\n",
        "# 이번에 사용할 변환기 는 PolynomialFeatures이다.\n",
        "\n",
        "from sklearn.preprocessing import PolynomialFeatures\n",
        "\n",
        "poly = PolynomialFeatures(include_bias = False) # include_bias: 절편이 굳이 필요없음.\n",
        "poly.fit(train_input) # 새롭게 만들 feature 조합을 찾는다. \n",
        "train_poly = poly.transform(train_input) # 조합을 찾은 뒤 transform\n",
        "print(train_poly.shape)"
      ],
      "metadata": {
        "colab": {
          "base_uri": "https://localhost:8080/"
        },
        "id": "UB2sox1QKZNw",
        "outputId": "86410bc9-9cee-479c-af7a-becd959fd9ca"
      },
      "execution_count": 5,
      "outputs": [
        {
          "output_type": "stream",
          "name": "stdout",
          "text": [
            "(42, 9)\n"
          ]
        }
      ]
    },
    {
      "cell_type": "code",
      "source": [
        "# 변환기에서 만든 조합을 보기 위한 메서드\n",
        "poly.get_feature_names_out()"
      ],
      "metadata": {
        "colab": {
          "base_uri": "https://localhost:8080/"
        },
        "id": "BoJutL3lMhDK",
        "outputId": "a37e5062-e1bf-482d-c1be-fb7476360cbe"
      },
      "execution_count": 6,
      "outputs": [
        {
          "output_type": "execute_result",
          "data": {
            "text/plain": [
              "array(['x0', 'x1', 'x2', 'x0^2', 'x0 x1', 'x0 x2', 'x1^2', 'x1 x2',\n",
              "       'x2^2'], dtype=object)"
            ]
          },
          "metadata": {},
          "execution_count": 6
        }
      ]
    },
    {
      "cell_type": "code",
      "source": [
        "test_poly = poly.transform(test_input)\n",
        "\n",
        "# 테스트 세트를 따로 변환해도 되지만 항상 훈련 세트를 기준으로 변환하는 습관을 들이는 게 좋다."
      ],
      "metadata": {
        "id": "BEWIEDKTMu0q"
      },
      "execution_count": 7,
      "outputs": []
    },
    {
      "cell_type": "code",
      "source": [
        "from sklearn.linear_model import LinearRegression\n",
        "\n",
        "lr = LinearRegression()\n",
        "lr.fit(train_poly, train_target)\n",
        "print(lr.score(train_poly, train_target))\n",
        "print(lr.score(test_poly, test_target))\n",
        "\n",
        "# 더 많은 특성을 사용하고(Multiple Regression), 특성 공학을 활용하여 새로운 특성들을 만들어 사용한 결과\n",
        "# 점수가 꽤 높게 나오며 과소적합 문제를 해결했다."
      ],
      "metadata": {
        "colab": {
          "base_uri": "https://localhost:8080/"
        },
        "id": "TuV7RszVM_pI",
        "outputId": "b8aa1807-2b96-494f-c97b-318069e9769c"
      },
      "execution_count": 8,
      "outputs": [
        {
          "output_type": "stream",
          "name": "stdout",
          "text": [
            "0.9903183436982124\n",
            "0.9714559911594134\n"
          ]
        }
      ]
    },
    {
      "cell_type": "markdown",
      "source": [
        "# 그렇다면 특성이 많아진다면 점수가 더 높아질까?\n",
        "\\>\\> 고차항의 최대 차수를 높여 모델을 다시 만들어보자."
      ],
      "metadata": {
        "id": "RzIervQ6NvqT"
      }
    },
    {
      "cell_type": "code",
      "source": [
        "# 최고 차항을 5로 올림\n",
        "poly = PolynomialFeatures(degree = 5, include_bias = False)\n",
        "poly.fit(train_input)\n",
        "\n",
        "# transform\n",
        "train_poly = poly.transform(train_input)\n",
        "test_poly = poly.transform(test_input)\n",
        "\n",
        "# 55개의 feature가 생긴 것을 확인\n",
        "print(train_poly.shape)\n",
        "\n",
        "# 선형회귀 모델 다시 fit\n",
        "lr.fit(train_poly, train_target)\n",
        "print(lr.score(train_poly, train_target))\n",
        "print(lr.score(test_poly, test_target))\n",
        "\n",
        "# 훈련세트에만 너무 Overfitting된 현상이 일어남.\n",
        "# 이러한 경우 규제(Regularization)이 필요함."
      ],
      "metadata": {
        "colab": {
          "base_uri": "https://localhost:8080/"
        },
        "id": "W2BlOiHFN9eK",
        "outputId": "8e3ba6ec-a8f8-45a8-db71-35db111cb10b"
      },
      "execution_count": 9,
      "outputs": [
        {
          "output_type": "stream",
          "name": "stdout",
          "text": [
            "(42, 55)\n",
            "0.9999999999991097\n",
            "-144.40579242684848\n"
          ]
        }
      ]
    },
    {
      "cell_type": "markdown",
      "source": [
        "# 규제(Regularization)\n",
        ">* 모델이 훈련 세트를 너무 과도하게 학습하지 못하도록 훼방하는 것 -> <b>Overfitting</b>이 일어나지 않게 하는 것\n",
        ">* <b>선형 회귀 모델의 경우 특성에 곱해지는 계수의 크기를 작게 만드는 일</b>\n",
        ">* 기울기를 줄여 보다 <b>보편적인 패턴을 학습</b>하게끔 한다.\n",
        "\n"
      ],
      "metadata": {
        "id": "jGCkZGVCPLi-"
      }
    },
    {
      "cell_type": "code",
      "source": [
        "# Normalization, Standardization\n",
        "# Data Preprocessing\n",
        "\n",
        "from sklearn.preprocessing import StandardScaler\n",
        "\n",
        "ss = StandardScaler()\n",
        "ss.fit(train_poly) # 2장에서 나온 Scaling과 같으나 사용하는 이유는 다르다.\n",
        "# 2장: 각 Feature의 Scale이 큰 차이가 나서\n",
        "# 이번 장: 규제를 할 때, 계수 값의 크기가 서로 많이 다르면 공정하게 제어되지 않기 때문이다.\n",
        "\n",
        "train_scaled = ss.transform(train_poly)\n",
        "test_scaled = ss.transform(test_poly)"
      ],
      "metadata": {
        "id": "rqpY1q37QDSt"
      },
      "execution_count": 10,
      "outputs": []
    },
    {
      "cell_type": "markdown",
      "source": [
        "#Ridge vs Lasso\n",
        ">* 릿지는 계수를 제곱한 값을 기준으로 규제를 적용\n",
        ">* 라쏘는 계수의 절댓값을 기준으로 규제를 적용\n",
        ">* 일반적으로 릿지를 선호\n",
        ">* 두 알고리즘 모두 계수의 크기를 줄이지만 Lasso는 계수를 아예 0으로 만들 수도 있다.\n",
        "#Hyperparameter\n",
        ">* 릿지와 라쏘는 규제의 양을 임의로 조절할 수 있다.\n",
        ">* 모델 객체를 만들 때, alpha 매개변수로 규제의 강도를 조절한다.\n",
        ">* 이렇게 모델이 학습할 수 없고, 사람이 알려줘야 하는 파라미터를 하이퍼파라미터라고 한다.\n",
        ">* alpha 값이 크면 규제 강도가 세지므로 계수 값을 더 줄이고, 조금 더 과소적합이 되도록 유도한다.\n",
        ">* alpha 값이 작으면 규제 강도가 작아지므로 계수 값을 줄이는 역할이 줄어들고 선형 회귀 모델과 유사해지므로 과대적합될 가능성이 크다."
      ],
      "metadata": {
        "id": "Bdph4Y0mp-Rz"
      }
    },
    {
      "cell_type": "code",
      "source": [
        "from sklearn.linear_model import Ridge\n",
        "ridge = Ridge()\n",
        "ridge.fit(train_scaled, train_target)\n",
        "print(ridge.score(train_scaled, train_target))\n",
        "print(ridge.score(test_scaled, test_target))\n",
        "\n",
        "# Overfitting이나 Underfitting 모두 없이 좋은 성능을 내고 있음"
      ],
      "metadata": {
        "colab": {
          "base_uri": "https://localhost:8080/"
        },
        "id": "y9xwjsTNp8wJ",
        "outputId": "5d390c0b-13de-4d10-f05d-8949b951f355"
      },
      "execution_count": 11,
      "outputs": [
        {
          "output_type": "stream",
          "name": "stdout",
          "text": [
            "0.9896101671037343\n",
            "0.9790693977615391\n"
          ]
        }
      ]
    },
    {
      "cell_type": "code",
      "source": [
        "# 적절한 alpha 값 찾기 -> 각 alpha 값에 대한 R^2 그래프 그려보기\n",
        "# 훈련 세트와 테스트 세트의 점수가 가장 가까운 지점이 최적의 alpha 값이 됨\n",
        "\n",
        "import matplotlib.pyplot as plt\n",
        "train_score = []\n",
        "test_score = []\n",
        "\n",
        "alpha_list = [0.001, 0.01, 0.1, 1, 10, 100]\n",
        "\n",
        "for alpha in alpha_list:\n",
        "    ridge = Ridge(alpha = alpha)\n",
        "    ridge.fit(train_scaled, train_target)\n",
        "    train_score.append(ridge.score(train_scaled, train_target))\n",
        "    test_score.append(ridge.score(test_scaled, test_target))"
      ],
      "metadata": {
        "id": "rxwZWAAOsqNT"
      },
      "execution_count": 12,
      "outputs": []
    },
    {
      "cell_type": "code",
      "source": [
        "#이대로 그래프를 그리기엔 scale이 너무 차이나서 한계가 있음 상용로그를 통해 x축을 바꿔주자\n",
        "\n",
        "plt.plot(np.log10(alpha_list), train_score)\n",
        "plt.plot(np.log10(alpha_list), test_score)\n",
        "plt.xlabel('alpha')\n",
        "plt.ylabel('R^2')\n",
        "plt.show()\n",
        "\n",
        "# alpha가 0.1일 때, 최적의 Regularization이 된다."
      ],
      "metadata": {
        "colab": {
          "base_uri": "https://localhost:8080/",
          "height": 278
        },
        "id": "zqkn9CJduot6",
        "outputId": "39c78566-d9c1-4c4b-a396-2d901a95b582"
      },
      "execution_count": 13,
      "outputs": [
        {
          "output_type": "display_data",
          "data": {
            "text/plain": [
              "<Figure size 432x288 with 1 Axes>"
            ],
            "image/png": "[encoded data removed]"
          },
          "metadata": {
            "needs_background": "light"
          }
        }
      ]
    },
    {
      "cell_type": "code",
      "source": [
        "# Ridge Regression\n",
        "\n",
        "ridge = Ridge(alpha = 0.1)\n",
        "ridge.fit(train_scaled, train_target)\n",
        "print(ridge.score(train_scaled, train_target))\n",
        "print(ridge.score(test_scaled, test_target))\n",
        "\n",
        "# 과대소적합 X, 둘 다 높음 => 성능 좋음"
      ],
      "metadata": {
        "colab": {
          "base_uri": "https://localhost:8080/"
        },
        "id": "__uCyz8OvTyc",
        "outputId": "008bb605-ed3e-45c4-8ef4-40373425f517"
      },
      "execution_count": 18,
      "outputs": [
        {
          "output_type": "stream",
          "name": "stdout",
          "text": [
            "0.9903815817570365\n",
            "0.9827976465386884\n"
          ]
        }
      ]
    },
    {
      "cell_type": "code",
      "source": [
        "# Lasso Regression\n",
        "\n",
        "from sklearn.linear_model import Lasso\n",
        "\n",
        "# 최적의 alpha값(Hyperparameter)찾기\n",
        "train_score = []\n",
        "test_score = []\n",
        "\n",
        "for alpha in alpha_list:\n",
        "    lasso = Lasso(alpha = alpha)\n",
        "    lasso.fit(train_scaled, train_target)\n",
        "    train_score.append(lasso.score(train_scaled, train_target))\n",
        "    test_score.append(lasso.score(test_scaled, test_target))\n",
        "\n",
        "\n",
        "plt.plot(np.log10(alpha_list), train_score)\n",
        "plt.plot(np.log10(alpha_list), test_score)\n",
        "plt.xlabel('alpha')\n",
        "plt.ylabel('R^2')\n",
        "plt.show()\n",
        "\n",
        "# 최적의 alpha 값 = 1(10^1) => 10"
      ],
      "metadata": {
        "colab": {
          "base_uri": "https://localhost:8080/",
          "height": 411
        },
        "id": "I1ETOe2piXBJ",
        "outputId": "3f6e9fbd-85fc-4c41-a87b-460196afa715"
      },
      "execution_count": 20,
      "outputs": [
        {
          "output_type": "stream",
          "name": "stderr",
          "text": [
            "/usr/local/lib/python3.7/dist-packages/sklearn/linear_model/_coordinate_descent.py:648: ConvergenceWarning: Objective did not converge. You might want to increase the number of iterations, check the scale of the features or consider increasing regularisation. Duality gap: 2.336e+04, tolerance: 5.183e+02\n",
            "  coef_, l1_reg, l2_reg, X, y, max_iter, tol, rng, random, positive\n",
            "/usr/local/lib/python3.7/dist-packages/sklearn/linear_model/_coordinate_descent.py:648: ConvergenceWarning: Objective did not converge. You might want to increase the number of iterations, check the scale of the features or consider increasing regularisation. Duality gap: 2.025e+04, tolerance: 5.183e+02\n",
            "  coef_, l1_reg, l2_reg, X, y, max_iter, tol, rng, random, positive\n",
            "/usr/local/lib/python3.7/dist-packages/sklearn/linear_model/_coordinate_descent.py:648: ConvergenceWarning: Objective did not converge. You might want to increase the number of iterations, check the scale of the features or consider increasing regularisation. Duality gap: 8.062e+02, tolerance: 5.183e+02\n",
            "  coef_, l1_reg, l2_reg, X, y, max_iter, tol, rng, random, positive\n"
          ]
        },
        {
          "output_type": "display_data",
          "data": {
            "text/plain": [
              "<Figure size 432x288 with 1 Axes>"
            ],
            "image/png": "[encoded data removed]"
          },
          "metadata": {
            "needs_background": "light"
          }
        }
      ]
    },
    {
      "cell_type": "code",
      "source": [
        "# 최적의 Hyperparameter로 Lasso Regression Model을 훈련시킴\n",
        "\n",
        "lasso = Lasso(alpha = 10)\n",
        "lasso.fit(train_scaled, train_target)\n",
        "print(lasso.score(train_scaled, train_target))\n",
        "print(lasso.score(test_scaled, test_target))"
      ],
      "metadata": {
        "colab": {
          "base_uri": "https://localhost:8080/"
        },
        "id": "yK9llM2ekuQA",
        "outputId": "ba7dd93e-b7fb-4597-dc8c-5dcb623320c6"
      },
      "execution_count": 21,
      "outputs": [
        {
          "output_type": "stream",
          "name": "stdout",
          "text": [
            "0.9888067471131867\n",
            "0.9824470598706695\n"
          ]
        }
      ]
    },
    {
      "cell_type": "code",
      "source": [
        "# Lasso는 계수를 완전히 0으로 만들어버릴 수 있다고 함.\n",
        "# 계수가 0인 것이 개수를 알아보자.\n",
        "\n",
        "print(np.sum(lasso.coef_ == 0))"
      ],
      "metadata": {
        "colab": {
          "base_uri": "https://localhost:8080/"
        },
        "id": "QAIr31XAlDzJ",
        "outputId": "8f573c56-9002-4767-bfa6-898abf8bc0cb"
      },
      "execution_count": 22,
      "outputs": [
        {
          "output_type": "stream",
          "name": "stdout",
          "text": [
            "40\n"
          ]
        }
      ]
    }
  ]
}