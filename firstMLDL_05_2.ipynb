{
  "nbformat": 4,
  "nbformat_minor": 0,
  "metadata": {
    "colab": {
      "provenance": [],
      "authorship_tag": "ABX9TyNvTUDndrs2Xrsp7zz9nhst",
      "include_colab_link": true
    },
    "kernelspec": {
      "name": "python3",
      "display_name": "Python 3"
    },
    "language_info": {
      "name": "python"
    }
  },
  "cells": [
    {
      "cell_type": "markdown",
      "metadata": {
        "id": "view-in-github",
        "colab_type": "text"
      },
      "source": [
        "<a href=\"https://colab.research.google.com/github/drawcodeboy/first_ML_DL/blob/main/firstMLDL_05_2.ipynb\" target=\"_parent\"><img src=\"https://colab.research.google.com/assets/colab-badge.svg\" alt=\"Open In Colab\"/></a>"
      ]
    },
    {
      "cell_type": "markdown",
      "source": [
        "# Cross Validation & Grid Search\n",
        "\n",
        ">* Validation Set\n",
        ">* Cross Valitation\n",
        ">* Hyperparameter Tuning\n",
        ">* Grid Search\n",
        ">* Randomized Search"
      ],
      "metadata": {
        "id": "D-gn1drKbbsN"
      }
    },
    {
      "cell_type": "code",
      "execution_count": 2,
      "metadata": {
        "id": "_0ne2R2TIq1G"
      },
      "outputs": [],
      "source": [
        "# 데이터 가져오기\n",
        "\n",
        "import pandas as pd\n",
        "wine = pd.read_csv('http://bit.ly/wine_csv_data')"
      ]
    },
    {
      "cell_type": "code",
      "source": [
        "# 데이터 정보 가져오기\n",
        "\n",
        "wine.info()"
      ],
      "metadata": {
        "colab": {
          "base_uri": "https://localhost:8080/"
        },
        "id": "Wpk9Yv8EI8X9",
        "outputId": "0e0091d3-559d-4a35-e8d5-14a399abf2c9"
      },
      "execution_count": 3,
      "outputs": [
        {
          "output_type": "stream",
          "name": "stdout",
          "text": [
            "<class 'pandas.core.frame.DataFrame'>\n",
            "RangeIndex: 6497 entries, 0 to 6496\n",
            "Data columns (total 4 columns):\n",
            " #   Column   Non-Null Count  Dtype  \n",
            "---  ------   --------------  -----  \n",
            " 0   alcohol  6497 non-null   float64\n",
            " 1   sugar    6497 non-null   float64\n",
            " 2   pH       6497 non-null   float64\n",
            " 3   class    6497 non-null   float64\n",
            "dtypes: float64(4)\n",
            "memory usage: 203.2 KB\n"
          ]
        }
      ]
    },
    {
      "cell_type": "code",
      "source": [
        "# input, target 분리\n",
        "\n",
        "data = wine[['alcohol', 'sugar', 'pH']].to_numpy()\n",
        "target = wine['class'].to_numpy()"
      ],
      "metadata": {
        "id": "ddjCWcX1I-qx"
      },
      "execution_count": 5,
      "outputs": []
    },
    {
      "cell_type": "code",
      "source": [
        "# train, test 분리\n",
        "\n",
        "from sklearn.model_selection import train_test_split\n",
        "\n",
        "train_input, test_input, train_target, test_target = train_test_split(\n",
        "    data, target, random_state = 42\n",
        ")"
      ],
      "metadata": {
        "id": "_RpA0unkJL3p"
      },
      "execution_count": 6,
      "outputs": []
    },
    {
      "cell_type": "code",
      "source": [
        "# train(sub), validation 분리\n",
        "\n",
        "sub_input, val_input, sub_target, val_target = train_test_split(\n",
        "    train_input, train_target, random_state = 42\n",
        ")"
      ],
      "metadata": {
        "id": "xoQiRbkAJg7i"
      },
      "execution_count": 7,
      "outputs": []
    },
    {
      "cell_type": "code",
      "source": [
        "# 결정 트리 모델 선언, 훈련 세트 훈련 및 검증 세트로 검증\n",
        "\n",
        "from sklearn.tree import DecisionTreeClassifier\n",
        "dt = DecisionTreeClassifier(random_state = 42)\n",
        "dt.fit(sub_input, sub_target)\n",
        "print(dt.score(sub_input, sub_target))\n",
        "print(dt.score(val_input, val_target))"
      ],
      "metadata": {
        "colab": {
          "base_uri": "https://localhost:8080/"
        },
        "id": "Mc94tWp3Jr7q",
        "outputId": "6211e98e-0fbf-4a80-e1c0-665b27184307"
      },
      "execution_count": 15,
      "outputs": [
        {
          "output_type": "stream",
          "name": "stdout",
          "text": [
            "0.9978106185002736\n",
            "0.8571428571428571\n"
          ]
        }
      ]
    },
    {
      "cell_type": "code",
      "source": [
        "# Cross Validation\n",
        "\n",
        "from sklearn.model_selection import cross_validate\n",
        "scores = cross_validate(dt, train_input, train_target)\n",
        "print(scores)"
      ],
      "metadata": {
        "colab": {
          "base_uri": "https://localhost:8080/"
        },
        "id": "oOSLz4_4KEld",
        "outputId": "4864e476-734d-4fdb-c742-b22a8a085133"
      },
      "execution_count": 22,
      "outputs": [
        {
          "output_type": "stream",
          "name": "stdout",
          "text": [
            "{'fit_time': array([0.01004791, 0.00678229, 0.00733495, 0.00750184, 0.00695252]), 'score_time': array([0.00085378, 0.00067592, 0.00071907, 0.00067043, 0.00066423]), 'test_score': array([0.85128205, 0.84820513, 0.8788501 , 0.85112936, 0.84394251])}\n"
          ]
        }
      ]
    },
    {
      "cell_type": "code",
      "source": [
        "# 교차 검증했을 때, 각 score의 평균 구하기\n",
        "\n",
        "import numpy as np\n",
        "print(np.mean(scores['test_score']))"
      ],
      "metadata": {
        "colab": {
          "base_uri": "https://localhost:8080/"
        },
        "id": "T7oBpM6_K52T",
        "outputId": "c936bba2-4ff8-4dfc-e3ac-11b87c7ba9ca"
      },
      "execution_count": 24,
      "outputs": [
        {
          "output_type": "stream",
          "name": "stdout",
          "text": [
            "0.8546818301479492\n"
          ]
        }
      ]
    },
    {
      "cell_type": "code",
      "source": [
        "# Splitter(훈련 세트 섞기)를 Cross Validation\n",
        "\n",
        "from sklearn.model_selection import StratifiedKFold\n",
        "scores = cross_validate(dt, train_input, train_target, cv = StratifiedKFold())\n",
        "print(np.mean(scores['test_score']))"
      ],
      "metadata": {
        "colab": {
          "base_uri": "https://localhost:8080/"
        },
        "id": "qHM7nL4gLBqq",
        "outputId": "07983efe-15dd-4129-e69c-aea6272ce8dd"
      },
      "execution_count": 25,
      "outputs": [
        {
          "output_type": "stream",
          "name": "stdout",
          "text": [
            "0.8546818301479492\n"
          ]
        }
      ]
    },
    {
      "cell_type": "code",
      "source": [
        "# Splitter 매개변수를 통해 분할 수 지정 가능 = n_splits\n",
        "\n",
        "splitter = StratifiedKFold(n_splits = 10, shuffle = True, random_state = 42)\n",
        "scores = cross_validate(dt, train_input, train_target, cv = splitter)\n",
        "print(np.mean(scores['test_score']))"
      ],
      "metadata": {
        "colab": {
          "base_uri": "https://localhost:8080/"
        },
        "id": "iMz63QmVL4SM",
        "outputId": "77412700-3443-4217-887d-3ce873bc4f25"
      },
      "execution_count": 26,
      "outputs": [
        {
          "output_type": "stream",
          "name": "stdout",
          "text": [
            "0.8585800484734237\n"
          ]
        }
      ]
    },
    {
      "cell_type": "code",
      "source": [
        "# Hyperparameter Tuning\n",
        "\n",
        "from sklearn.model_selection import GridSearchCV\n",
        "\n",
        "params = {'min_impurity_decrease' : [0.0001, 0.0002, 0.0003, 0.0004, 0.0005]}"
      ],
      "metadata": {
        "id": "P_0ed_L3MFs5"
      },
      "execution_count": 33,
      "outputs": []
    },
    {
      "cell_type": "code",
      "source": [
        "# 모델 객체 그리드 서치\n",
        "# min_impurtiy_decrease 값마다 cv 기본 값이 5이므로 총 25개의 모델을 만든다.\n",
        "\n",
        "# n_jobs는 병렬 실행에 사용할 CPU 코어 수다.\n",
        "# -1로 지정하면 시스템에 있는 모든 코어를 사용한다는 뜻\n",
        "\n",
        "gs = GridSearchCV(DecisionTreeClassifier(random_state = 42), params, n_jobs = -1)"
      ],
      "metadata": {
        "id": "swlWhMaBOSCs"
      },
      "execution_count": 35,
      "outputs": []
    },
    {
      "cell_type": "code",
      "source": [
        "gs.fit(train_input, train_target)"
      ],
      "metadata": {
        "colab": {
          "base_uri": "https://localhost:8080/"
        },
        "id": "DD77LaZUOepy",
        "outputId": "c3c7bed6-842b-482e-c9cb-85a176c88301"
      },
      "execution_count": 36,
      "outputs": [
        {
          "output_type": "execute_result",
          "data": {
            "text/plain": [
              "GridSearchCV(estimator=DecisionTreeClassifier(random_state=42), n_jobs=-1,\n",
              "             param_grid={'min_impurity_decrease': [0.0001, 0.0002, 0.0003,\n",
              "                                                   0.0004, 0.0005]})"
            ]
          },
          "metadata": {},
          "execution_count": 36
        }
      ]
    },
    {
      "cell_type": "code",
      "source": [
        "# GridSearchCV에는 가장 점수가 높은 모델의 매개변수 조합으로 자동으로\n",
        "# 모델을 다시 훈련한다.\n",
        "\n",
        "# 이 모델은 gs 객체의 best_estimator_ 속성에 저장되어있다.\n",
        "\n",
        "dt = gs.best_estimator_\n",
        "print(dt.score(train_input, train_target))"
      ],
      "metadata": {
        "colab": {
          "base_uri": "https://localhost:8080/"
        },
        "id": "I-8W5ss5QD7Q",
        "outputId": "994901db-2979-4d2e-e9f0-5d45ef3f012b"
      },
      "execution_count": 38,
      "outputs": [
        {
          "output_type": "stream",
          "name": "stdout",
          "text": [
            "0.9137931034482759\n"
          ]
        }
      ]
    },
    {
      "cell_type": "code",
      "source": [
        "# 최적의 매개변수 탐색\n",
        "\n",
        "print(gs.best_params_)"
      ],
      "metadata": {
        "colab": {
          "base_uri": "https://localhost:8080/"
        },
        "id": "aI5e63ogSFhR",
        "outputId": "535895bd-6a4b-4464-9baa-1d80b61fca97"
      },
      "execution_count": 40,
      "outputs": [
        {
          "output_type": "stream",
          "name": "stdout",
          "text": [
            "{'min_impurity_decrease': 0.0003}\n"
          ]
        }
      ]
    },
    {
      "cell_type": "code",
      "source": [
        "# 최적의 교차 검증 점수\n",
        "\n",
        "print(gs.cv_results_['mean_test_score'])"
      ],
      "metadata": {
        "colab": {
          "base_uri": "https://localhost:8080/"
        },
        "id": "4qAkgnQbSNAS",
        "outputId": "de4e8d37-0028-4622-bbbf-db92f4081c5a"
      },
      "execution_count": 41,
      "outputs": [
        {
          "output_type": "stream",
          "name": "stdout",
          "text": [
            "[0.86843111 0.86925267 0.87315179 0.87212531 0.87130627]\n"
          ]
        }
      ]
    },
    {
      "cell_type": "code",
      "source": [
        "# argmax는 가장 큰 값에 대한 인덱스\n",
        "\n",
        "best_index = np.argmax(gs.cv_results_['mean_test_score'])\n",
        "print(gs.cv_results_['params'][best_index])"
      ],
      "metadata": {
        "colab": {
          "base_uri": "https://localhost:8080/"
        },
        "id": "OScm20dQSR0K",
        "outputId": "be9d5a07-5df9-4f6a-a4fb-9c4070b283cc"
      },
      "execution_count": 42,
      "outputs": [
        {
          "output_type": "stream",
          "name": "stdout",
          "text": [
            "{'min_impurity_decrease': 0.0003}\n"
          ]
        }
      ]
    },
    {
      "cell_type": "code",
      "source": [
        "# cv_result_가 어떤 속성으로 이루어진 딕셔너리인지 확인\n",
        "# 여러 Key를 가지고 있음\n",
        "# params라는 Key 안에도 여러 Dictionary가 존재\n",
        "\n",
        "print(gs.cv_results_)"
      ],
      "metadata": {
        "colab": {
          "base_uri": "https://localhost:8080/"
        },
        "id": "XISON67GSwIi",
        "outputId": "61c05dbc-5ab0-491e-9818-072d1ea6cd4c"
      },
      "execution_count": 44,
      "outputs": [
        {
          "output_type": "stream",
          "name": "stdout",
          "text": [
            "{'mean_fit_time': array([0.00839486, 0.00856357, 0.01043258, 0.01073947, 0.00708952]), 'std_fit_time': array([0.00044858, 0.00119385, 0.00104193, 0.00274907, 0.00228627]), 'mean_score_time': array([0.00099974, 0.0009068 , 0.00097861, 0.00132275, 0.00090075]), 'std_score_time': array([8.94716537e-05, 4.04844576e-05, 1.55908659e-04, 4.88356868e-04,\n",
            "       2.44085811e-04]), 'param_min_impurity_decrease': masked_array(data=[0.0001, 0.0002, 0.0003, 0.0004, 0.0005],\n",
            "             mask=[False, False, False, False, False],\n",
            "       fill_value='?',\n",
            "            dtype=object), 'params': [{'min_impurity_decrease': 0.0001}, {'min_impurity_decrease': 0.0002}, {'min_impurity_decrease': 0.0003}, {'min_impurity_decrease': 0.0004}, {'min_impurity_decrease': 0.0005}], 'split0_test_score': array([0.87384615, 0.87076923, 0.87282051, 0.86461538, 0.86051282]), 'split1_test_score': array([0.86666667, 0.86871795, 0.87794872, 0.88512821, 0.87794872]), 'split2_test_score': array([0.88603696, 0.88295688, 0.8798768 , 0.8788501 , 0.88295688]), 'split3_test_score': array([0.85728953, 0.862423  , 0.86344969, 0.86755647, 0.8613963 ]), 'split4_test_score': array([0.85831622, 0.8613963 , 0.87166324, 0.86447639, 0.87371663]), 'mean_test_score': array([0.86843111, 0.86925267, 0.87315179, 0.87212531, 0.87130627]), 'std_test_score': array([0.01066628, 0.00772992, 0.00573921, 0.00836753, 0.00894846]), 'rank_test_score': array([5, 4, 1, 2, 3], dtype=int32)}\n"
          ]
        }
      ]
    },
    {
      "cell_type": "code",
      "source": [
        "# 더 복잡한 매개변수 조합으로 GridSearch(Hyperparameter 튜닝)\n",
        "\n",
        "params = {\n",
        "    'min_impurity_decrease': np.arange(0.0001, 0.001, 0.0001),\n",
        "    'max_depth': range(5, 20 ,1),\n",
        "    'min_samples_split': range(2, 100, 1)\n",
        "}"
      ],
      "metadata": {
        "id": "90ZrxR90UiRl"
      },
      "execution_count": 45,
      "outputs": []
    },
    {
      "cell_type": "code",
      "source": [
        "gs = GridSearchCV(DecisionTreeClassifier(random_state = 42), params, n_jobs = -1)\n",
        "gs.fit(train_input, train_target)"
      ],
      "metadata": {
        "colab": {
          "base_uri": "https://localhost:8080/"
        },
        "id": "Nx1c1q6-U5zx",
        "outputId": "f1daea6b-d448-42fb-d672-cca3b9bef91a"
      },
      "execution_count": 46,
      "outputs": [
        {
          "output_type": "execute_result",
          "data": {
            "text/plain": [
              "GridSearchCV(estimator=DecisionTreeClassifier(random_state=42), n_jobs=-1,\n",
              "             param_grid={'max_depth': range(5, 20),\n",
              "                         'min_impurity_decrease': array([0.0001, 0.0002, 0.0003, 0.0004, 0.0005, 0.0006, 0.0007, 0.0008,\n",
              "       0.0009]),\n",
              "                         'min_samples_split': range(2, 100)})"
            ]
          },
          "metadata": {},
          "execution_count": 46
        }
      ]
    },
    {
      "cell_type": "code",
      "source": [
        "# 최적의 매개변수 값\n",
        "\n",
        "print(gs.best_params_)"
      ],
      "metadata": {
        "colab": {
          "base_uri": "https://localhost:8080/"
        },
        "id": "VVDHQ6TnVGRq",
        "outputId": "c8b3f57f-026d-4bee-df42-09577b71897d"
      },
      "execution_count": 47,
      "outputs": [
        {
          "output_type": "stream",
          "name": "stdout",
          "text": [
            "{'max_depth': 15, 'min_impurity_decrease': 0.0001, 'min_samples_split': 22}\n"
          ]
        }
      ]
    },
    {
      "cell_type": "code",
      "source": [
        "# 교차 검증 점수 중에 제일 높은 값\n",
        "\n",
        "print(np.max(gs.cv_results_['mean_test_score']))"
      ],
      "metadata": {
        "colab": {
          "base_uri": "https://localhost:8080/"
        },
        "id": "4zCqPxJ2WOr6",
        "outputId": "adaa1acc-ee83-4b3a-cc4f-652536d5ba96"
      },
      "execution_count": 49,
      "outputs": [
        {
          "output_type": "stream",
          "name": "stdout",
          "text": [
            "0.8752056020639183\n"
          ]
        }
      ]
    },
    {
      "cell_type": "code",
      "source": [
        "# Random Search\n",
        "# 매개변수의 값이 수치일 때 값의 범위나 간격을 미리 정하기 어려울 수 있음\n",
        "# 또 너무 많은 매개변수 조건이 있어 그리드 서치 수행 시간이 오래 걸림\n",
        "\n",
        "from scipy.stats import uniform, randint"
      ],
      "metadata": {
        "id": "06Pj294mW6Xw"
      },
      "execution_count": 50,
      "outputs": []
    },
    {
      "cell_type": "code",
      "source": [
        "# randit, 정수 범위 내에서 난수를 생성하는 객체\n",
        "# rvs를 통해 몇 개를 생성할 건지 지정 가능\n",
        "\n",
        "rgen = randint(0, 10)\n",
        "rgen.rvs(10)"
      ],
      "metadata": {
        "colab": {
          "base_uri": "https://localhost:8080/"
        },
        "id": "GidtynCCYJUX",
        "outputId": "a059e434-39c1-494a-9cb3-e3b625dbb335"
      },
      "execution_count": 51,
      "outputs": [
        {
          "output_type": "execute_result",
          "data": {
            "text/plain": [
              "array([4, 7, 7, 8, 1, 5, 1, 8, 9, 5])"
            ]
          },
          "metadata": {},
          "execution_count": 51
        }
      ]
    },
    {
      "cell_type": "code",
      "source": [
        "# unique를 통해 확인해보면 난수들이 '균등 분포'하게 분포됨\n",
        "np.unique(rgen.rvs(1000), return_counts = True)"
      ],
      "metadata": {
        "colab": {
          "base_uri": "https://localhost:8080/"
        },
        "id": "rxEBuSGWYM8a",
        "outputId": "d86fa0bb-a06d-4218-9ee9-049b6659b29f"
      },
      "execution_count": 52,
      "outputs": [
        {
          "output_type": "execute_result",
          "data": {
            "text/plain": [
              "(array([0, 1, 2, 3, 4, 5, 6, 7, 8, 9]),\n",
              " array([ 92, 106, 105, 102,  94, 104, 102,  89, 103, 103]))"
            ]
          },
          "metadata": {},
          "execution_count": 52
        }
      ]
    },
    {
      "cell_type": "code",
      "source": [
        "# uniform, 실수 범위 실수 난수 생성기\n",
        "\n",
        "ugen = uniform(0, 1)\n",
        "ugen.rvs(10)"
      ],
      "metadata": {
        "colab": {
          "base_uri": "https://localhost:8080/"
        },
        "id": "x5Hs-TRFYTMC",
        "outputId": "15690a00-9e29-47c2-84e5-933d9dc01899"
      },
      "execution_count": 53,
      "outputs": [
        {
          "output_type": "execute_result",
          "data": {
            "text/plain": [
              "array([0.10659313, 0.49254489, 0.76841026, 0.28077236, 0.83312623,\n",
              "       0.73584339, 0.91422881, 0.27083397, 0.12285257, 0.85908663])"
            ]
          },
          "metadata": {},
          "execution_count": 53
        }
      ]
    },
    {
      "cell_type": "code",
      "source": [
        "# 랜덤으로 주어진 범위에서 파라미터 생성\n",
        "\n",
        "params = {\n",
        "    'min_impurity_decrease': uniform(0.0001, 0.001),\n",
        "    'max_depth': randint(20, 50),\n",
        "    'min_samples_split': randint(2, 25),\n",
        "    'min_samples_leaf': randint(1, 25)\n",
        "}"
      ],
      "metadata": {
        "id": "UuhrNIx8Yp7K"
      },
      "execution_count": 54,
      "outputs": []
    },
    {
      "cell_type": "code",
      "source": [
        "# Random Search 모델\n",
        "# n_iter를 통해 몇 번만 Cross Validation을 하고, 최적의 파라미터를 찾을 수 있다.\n",
        "\n",
        "from sklearn.model_selection import RandomizedSearchCV\n",
        "gs = RandomizedSearchCV(DecisionTreeClassifier(random_state = 42), params,\n",
        "                    n_iter = 100, n_jobs = -1, random_state = 42)\n",
        "gs.fit(train_input, train_target)"
      ],
      "metadata": {
        "colab": {
          "base_uri": "https://localhost:8080/"
        },
        "id": "tfyTdpaYZCOi",
        "outputId": "4efa7c4b-a8ed-4a05-c1f6-1f6447c29a96"
      },
      "execution_count": 56,
      "outputs": [
        {
          "output_type": "execute_result",
          "data": {
            "text/plain": [
              "RandomizedSearchCV(estimator=DecisionTreeClassifier(random_state=42),\n",
              "                   n_iter=100, n_jobs=-1,\n",
              "                   param_distributions={'max_depth': <scipy.stats._distn_infrastructure.rv_frozen object at 0x7f45ecb30210>,\n",
              "                                        'min_impurity_decrease': <scipy.stats._distn_infrastructure.rv_frozen object at 0x7f45ecb30a10>,\n",
              "                                        'min_samples_leaf': <scipy.stats._distn_infrastructure.rv_frozen object at 0x7f45ed0e76d0>,\n",
              "                                        'min_samples_split': <scipy.stats._distn_infrastructure.rv_frozen object at 0x7f45ee2af290>},\n",
              "                   random_state=42)"
            ]
          },
          "metadata": {},
          "execution_count": 56
        }
      ]
    },
    {
      "cell_type": "code",
      "source": [
        "print(gs.best_params_)"
      ],
      "metadata": {
        "colab": {
          "base_uri": "https://localhost:8080/"
        },
        "id": "A6vRJnm6ZWhZ",
        "outputId": "76b153e9-bbaf-4380-8801-d136e8bce990"
      },
      "execution_count": 57,
      "outputs": [
        {
          "output_type": "stream",
          "name": "stdout",
          "text": [
            "{'max_depth': 42, 'min_impurity_decrease': 0.00037864646423661145, 'min_samples_leaf': 1, 'min_samples_split': 2}\n"
          ]
        }
      ]
    },
    {
      "cell_type": "code",
      "source": [
        "print(np.max(gs.cv_results_['mean_test_score']))"
      ],
      "metadata": {
        "colab": {
          "base_uri": "https://localhost:8080/"
        },
        "id": "4oH74nhWZiQb",
        "outputId": "5eb78e32-1661-470b-869e-c508343f1fd9"
      },
      "execution_count": 58,
      "outputs": [
        {
          "output_type": "stream",
          "name": "stdout",
          "text": [
            "0.874178065603117\n"
          ]
        }
      ]
    },
    {
      "cell_type": "code",
      "source": [
        "dt = gs.best_estimator_\n",
        "print(dt.score(test_input, test_target))"
      ],
      "metadata": {
        "colab": {
          "base_uri": "https://localhost:8080/"
        },
        "id": "fLl9OnUtZpEk",
        "outputId": "b8179eb8-be38-4849-bcdd-c4c0f6cd6f8b"
      },
      "execution_count": 59,
      "outputs": [
        {
          "output_type": "stream",
          "name": "stdout",
          "text": [
            "0.8633846153846154\n"
          ]
        }
      ]
    }
  ]
}