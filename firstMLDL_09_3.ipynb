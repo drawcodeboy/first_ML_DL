{
  "nbformat": 4,
  "nbformat_minor": 0,
  "metadata": {
    "colab": {
      "provenance": [],
      "authorship_tag": "ABX9TyObD8nVw1G2+83cbki1DtaN",
      "include_colab_link": true
    },
    "kernelspec": {
      "name": "python3",
      "display_name": "Python 3"
    },
    "language_info": {
      "name": "python"
    }
  },
  "cells": [
    {
      "cell_type": "markdown",
      "metadata": {
        "id": "view-in-github",
        "colab_type": "text"
      },
      "source": [
        "<a href=\"https://colab.research.google.com/github/drawcodeboy/first_ML_DL/blob/main/firstMLDL_09_3.ipynb\" target=\"_parent\"><img src=\"https://colab.research.google.com/assets/colab-badge.svg\" alt=\"Open In Colab\"/></a>"
      ]
    },
    {
      "cell_type": "markdown",
      "source": [
        "# LSTM(Long Short-Term Memory), GRU(Gated Recurrent Unit)\n",
        ">* LSTM 동작 원리 및 효과\n",
        ">* GRU, LSTM의 간소화 버전\n",
        ">* Dropout으로 overfitting 줄이기\n",
        ">* 하나의 층을 더 사용함으로써 hidden state를 모두 출력해줘야 한다.\n",
        ">* 각 모델의 모델 파라미터 개수"
      ],
      "metadata": {
        "id": "bd8AxGY0BjhG"
      }
    },
    {
      "cell_type": "code",
      "execution_count": 1,
      "metadata": {
        "colab": {
          "base_uri": "https://localhost:8080/"
        },
        "id": "HHAIzklty9d1",
        "outputId": "3820ba05-0115-404d-efb9-34b398e430ad"
      },
      "outputs": [
        {
          "output_type": "stream",
          "name": "stdout",
          "text": [
            "Downloading data from https://storage.googleapis.com/tensorflow/tf-keras-datasets/imdb.npz\n",
            "17465344/17464789 [==============================] - 1s 0us/step\n",
            "17473536/17464789 [==============================] - 1s 0us/step\n"
          ]
        }
      ],
      "source": [
        "from tensorflow.keras.datasets import imdb\n",
        "from sklearn.model_selection import train_test_split\n",
        "(train_input, train_target), (test_input, test_target) = imdb.load_data(num_words=500)\n",
        "train_input, val_input, train_target, val_target = train_test_split(\n",
        "    train_input, train_target, test_size=0.2, random_state=42\n",
        ")"
      ]
    },
    {
      "cell_type": "code",
      "source": [
        "from tensorflow.keras.preprocessing.sequence import pad_sequences\n",
        "train_seq = pad_sequences(train_input, maxlen=100)\n",
        "val_seq = pad_sequences(val_input, maxlen=100)"
      ],
      "metadata": {
        "id": "n8gLh7Ni1ZoN"
      },
      "execution_count": 2,
      "outputs": []
    },
    {
      "cell_type": "code",
      "source": [
        "from tensorflow import keras\n",
        "model = keras.Sequential()\n",
        "model.add(keras.layers.Embedding(500, 16, input_length=100))\n",
        "model.add(keras.layers.LSTM(8))\n",
        "model.add(keras.layers.Dense(1, activation='sigmoid'))"
      ],
      "metadata": {
        "id": "wlRFvUWT1m7A"
      },
      "execution_count": 3,
      "outputs": []
    },
    {
      "cell_type": "code",
      "source": [
        "model.summary()"
      ],
      "metadata": {
        "colab": {
          "base_uri": "https://localhost:8080/"
        },
        "id": "26wEWDa52Ij4",
        "outputId": "f4c774e7-9615-4d43-a242-7ca2e9665f80"
      },
      "execution_count": 5,
      "outputs": [
        {
          "output_type": "stream",
          "name": "stdout",
          "text": [
            "Model: \"sequential\"\n",
            "_________________________________________________________________\n",
            " Layer (type)                Output Shape              Param #   \n",
            "=================================================================\n",
            " embedding (Embedding)       (None, 100, 16)           8000      \n",
            "                                                                 \n",
            " lstm (LSTM)                 (None, 8)                 800       \n",
            "                                                                 \n",
            " dense (Dense)               (None, 1)                 9         \n",
            "                                                                 \n",
            "=================================================================\n",
            "Total params: 8,809\n",
            "Trainable params: 8,809\n",
            "Non-trainable params: 0\n",
            "_________________________________________________________________\n"
          ]
        }
      ]
    },
    {
      "cell_type": "code",
      "source": [
        "rmsprop = keras.optimizers.RMSprop(learning_rate=1e-4)\n",
        "model.compile(optimizer=rmsprop, loss='binary_crossentropy', metrics=['accuracy'])\n",
        "checkpoint_cb = keras.callbacks.ModelCheckpoint('best-rnn-model.h5', save_best_only = True)\n",
        "early_stopping_cb = keras.callbacks.EarlyStopping(patience=3, restore_best_weights=True)\n",
        "history = model.fit(train_seq, train_target, epochs=100, batch_size=64,\n",
        "                    validation_data=(val_seq, val_target),\n",
        "                    callbacks=[checkpoint_cb, early_stopping_cb])"
      ],
      "metadata": {
        "colab": {
          "base_uri": "https://localhost:8080/"
        },
        "id": "r_2G7RTO2NcF",
        "outputId": "856b658f-8915-46db-9ced-9f618e3d630f"
      },
      "execution_count": 6,
      "outputs": [
        {
          "output_type": "stream",
          "name": "stdout",
          "text": [
            "Epoch 1/100\n",
            "313/313 [==============================] - 15s 40ms/step - loss: 0.6921 - accuracy: 0.5527 - val_loss: 0.6910 - val_accuracy: 0.5856\n",
            "Epoch 2/100\n",
            "313/313 [==============================] - 14s 45ms/step - loss: 0.6877 - accuracy: 0.6299 - val_loss: 0.6842 - val_accuracy: 0.6324\n",
            "Epoch 3/100\n",
            "313/313 [==============================] - 25s 79ms/step - loss: 0.6635 - accuracy: 0.6136 - val_loss: 0.6340 - val_accuracy: 0.7006\n",
            "Epoch 4/100\n",
            "313/313 [==============================] - 21s 67ms/step - loss: 0.6039 - accuracy: 0.7344 - val_loss: 0.5943 - val_accuracy: 0.7368\n",
            "Epoch 5/100\n",
            "313/313 [==============================] - 20s 65ms/step - loss: 0.5757 - accuracy: 0.7491 - val_loss: 0.5749 - val_accuracy: 0.7378\n",
            "Epoch 6/100\n",
            "313/313 [==============================] - 13s 41ms/step - loss: 0.5579 - accuracy: 0.7591 - val_loss: 0.5574 - val_accuracy: 0.7536\n",
            "Epoch 7/100\n",
            "313/313 [==============================] - 15s 49ms/step - loss: 0.5415 - accuracy: 0.7686 - val_loss: 0.5471 - val_accuracy: 0.7648\n",
            "Epoch 8/100\n",
            "313/313 [==============================] - 16s 52ms/step - loss: 0.5262 - accuracy: 0.7748 - val_loss: 0.5284 - val_accuracy: 0.7616\n",
            "Epoch 9/100\n",
            "313/313 [==============================] - 15s 48ms/step - loss: 0.5117 - accuracy: 0.7800 - val_loss: 0.5166 - val_accuracy: 0.7640\n",
            "Epoch 10/100\n",
            "313/313 [==============================] - 13s 42ms/step - loss: 0.4985 - accuracy: 0.7833 - val_loss: 0.5040 - val_accuracy: 0.7710\n",
            "Epoch 11/100\n",
            "313/313 [==============================] - 14s 45ms/step - loss: 0.4868 - accuracy: 0.7875 - val_loss: 0.4929 - val_accuracy: 0.7784\n",
            "Epoch 12/100\n",
            "313/313 [==============================] - 12s 39ms/step - loss: 0.4759 - accuracy: 0.7926 - val_loss: 0.4855 - val_accuracy: 0.7804\n",
            "Epoch 13/100\n",
            "313/313 [==============================] - 12s 39ms/step - loss: 0.4667 - accuracy: 0.7951 - val_loss: 0.4763 - val_accuracy: 0.7832\n",
            "Epoch 14/100\n",
            "313/313 [==============================] - 12s 39ms/step - loss: 0.4587 - accuracy: 0.7994 - val_loss: 0.4688 - val_accuracy: 0.7884\n",
            "Epoch 15/100\n",
            "313/313 [==============================] - 12s 39ms/step - loss: 0.4513 - accuracy: 0.8022 - val_loss: 0.4640 - val_accuracy: 0.7882\n",
            "Epoch 16/100\n",
            "313/313 [==============================] - 12s 39ms/step - loss: 0.4450 - accuracy: 0.8036 - val_loss: 0.4586 - val_accuracy: 0.7932\n",
            "Epoch 17/100\n",
            "313/313 [==============================] - 17s 54ms/step - loss: 0.4396 - accuracy: 0.8060 - val_loss: 0.4548 - val_accuracy: 0.7914\n",
            "Epoch 18/100\n",
            "313/313 [==============================] - 12s 40ms/step - loss: 0.4349 - accuracy: 0.8065 - val_loss: 0.4517 - val_accuracy: 0.7928\n",
            "Epoch 19/100\n",
            "313/313 [==============================] - 15s 49ms/step - loss: 0.4311 - accuracy: 0.8093 - val_loss: 0.4475 - val_accuracy: 0.7948\n",
            "Epoch 20/100\n",
            "313/313 [==============================] - 12s 39ms/step - loss: 0.4278 - accuracy: 0.8106 - val_loss: 0.4468 - val_accuracy: 0.7980\n",
            "Epoch 21/100\n",
            "313/313 [==============================] - 12s 39ms/step - loss: 0.4248 - accuracy: 0.8104 - val_loss: 0.4469 - val_accuracy: 0.7962\n",
            "Epoch 22/100\n",
            "313/313 [==============================] - 12s 39ms/step - loss: 0.4225 - accuracy: 0.8110 - val_loss: 0.4444 - val_accuracy: 0.7956\n",
            "Epoch 23/100\n",
            "313/313 [==============================] - 12s 39ms/step - loss: 0.4206 - accuracy: 0.8112 - val_loss: 0.4411 - val_accuracy: 0.7998\n",
            "Epoch 24/100\n",
            "313/313 [==============================] - 12s 39ms/step - loss: 0.4190 - accuracy: 0.8120 - val_loss: 0.4393 - val_accuracy: 0.7952\n",
            "Epoch 25/100\n",
            "313/313 [==============================] - 13s 42ms/step - loss: 0.4174 - accuracy: 0.8143 - val_loss: 0.4388 - val_accuracy: 0.7996\n",
            "Epoch 26/100\n",
            "313/313 [==============================] - 12s 40ms/step - loss: 0.4159 - accuracy: 0.8126 - val_loss: 0.4375 - val_accuracy: 0.7966\n",
            "Epoch 27/100\n",
            "313/313 [==============================] - 12s 38ms/step - loss: 0.4144 - accuracy: 0.8130 - val_loss: 0.4371 - val_accuracy: 0.8020\n",
            "Epoch 28/100\n",
            "313/313 [==============================] - 22s 71ms/step - loss: 0.4135 - accuracy: 0.8134 - val_loss: 0.4345 - val_accuracy: 0.7982\n",
            "Epoch 29/100\n",
            "313/313 [==============================] - 17s 55ms/step - loss: 0.4124 - accuracy: 0.8135 - val_loss: 0.4337 - val_accuracy: 0.8010\n",
            "Epoch 30/100\n",
            "313/313 [==============================] - 17s 55ms/step - loss: 0.4114 - accuracy: 0.8148 - val_loss: 0.4337 - val_accuracy: 0.7988\n",
            "Epoch 31/100\n",
            "313/313 [==============================] - 12s 39ms/step - loss: 0.4102 - accuracy: 0.8155 - val_loss: 0.4325 - val_accuracy: 0.8024\n",
            "Epoch 32/100\n",
            "313/313 [==============================] - 12s 39ms/step - loss: 0.4096 - accuracy: 0.8140 - val_loss: 0.4353 - val_accuracy: 0.8036\n",
            "Epoch 33/100\n",
            "313/313 [==============================] - 12s 39ms/step - loss: 0.4087 - accuracy: 0.8144 - val_loss: 0.4336 - val_accuracy: 0.7986\n",
            "Epoch 34/100\n",
            "313/313 [==============================] - 12s 39ms/step - loss: 0.4080 - accuracy: 0.8155 - val_loss: 0.4333 - val_accuracy: 0.8008\n"
          ]
        }
      ]
    },
    {
      "cell_type": "code",
      "source": [
        "import matplotlib.pyplot as plt\n",
        "plt.plot(history.history['loss'])\n",
        "plt.plot(history.history['val_loss'])\n",
        "plt.xlabel('epoch')\n",
        "plt.ylabel('loss')\n",
        "plt.legend(['train', 'val'])\n",
        "plt.show()"
      ],
      "metadata": {
        "colab": {
          "base_uri": "https://localhost:8080/",
          "height": 279
        },
        "id": "-qDAoe0D3Xu0",
        "outputId": "7442422d-39a7-4af9-865d-babb062d0e37"
      },
      "execution_count": 7,
      "outputs": [
        {
          "output_type": "display_data",
          "data": {
            "text/plain": [
              "<Figure size 432x288 with 1 Axes>"
            ],
            "image/png": "[encoded data removed]"
          },
          "metadata": {
            "needs_background": "light"
          }
        }
      ]
    },
    {
      "cell_type": "code",
      "source": [
        "# LSTM에 Dropout 적용하여 overfitting 줄이기\n",
        "\n",
        "model2 = keras.Sequential()\n",
        "model2.add(keras.layers.Embedding(500, 16, input_length=100))\n",
        "model2.add(keras.layers.LSTM(8, dropout=0.3))\n",
        "model2.add(keras.layers.Dense(1, activation='sigmoid'))"
      ],
      "metadata": {
        "id": "nMcB751U3vNP"
      },
      "execution_count": 8,
      "outputs": []
    },
    {
      "cell_type": "code",
      "source": [
        "rmsprop = keras.optimizers.RMSprop(learning_rate=1e-4)\n",
        "model2.compile(optimizer=rmsprop, loss='binary_crossentropy', metrics=['accuracy'])\n",
        "checkpoint_cb = keras.callbacks.ModelCheckpoint('best-rnn-model.h5', save_best_only = True)\n",
        "early_stopping_cb = keras.callbacks.EarlyStopping(patience=3, restore_best_weights=True)\n",
        "history = model2.fit(train_seq, train_target, epochs=100, batch_size=64,\n",
        "                    validation_data=(val_seq, val_target),\n",
        "                    callbacks=[checkpoint_cb, early_stopping_cb])"
      ],
      "metadata": {
        "colab": {
          "base_uri": "https://localhost:8080/"
        },
        "id": "DJerM29h3_k5",
        "outputId": "26f496bf-3875-4208-849d-bdcb387f32b2"
      },
      "execution_count": 9,
      "outputs": [
        {
          "output_type": "stream",
          "name": "stdout",
          "text": [
            "Epoch 1/100\n",
            "313/313 [==============================] - 16s 44ms/step - loss: 0.6919 - accuracy: 0.5630 - val_loss: 0.6908 - val_accuracy: 0.6104\n",
            "Epoch 2/100\n",
            "313/313 [==============================] - 17s 56ms/step - loss: 0.6888 - accuracy: 0.6166 - val_loss: 0.6863 - val_accuracy: 0.6482\n",
            "Epoch 3/100\n",
            "313/313 [==============================] - 16s 52ms/step - loss: 0.6813 - accuracy: 0.6532 - val_loss: 0.6743 - val_accuracy: 0.6820\n",
            "Epoch 4/100\n",
            "313/313 [==============================] - 15s 47ms/step - loss: 0.6562 - accuracy: 0.6891 - val_loss: 0.6260 - val_accuracy: 0.7184\n",
            "Epoch 5/100\n",
            "313/313 [==============================] - 14s 44ms/step - loss: 0.5975 - accuracy: 0.7214 - val_loss: 0.5788 - val_accuracy: 0.7312\n",
            "Epoch 6/100\n",
            "313/313 [==============================] - 15s 49ms/step - loss: 0.5705 - accuracy: 0.7322 - val_loss: 0.5604 - val_accuracy: 0.7476\n",
            "Epoch 7/100\n",
            "313/313 [==============================] - 13s 41ms/step - loss: 0.5514 - accuracy: 0.7478 - val_loss: 0.5437 - val_accuracy: 0.7518\n",
            "Epoch 8/100\n",
            "313/313 [==============================] - 13s 41ms/step - loss: 0.5332 - accuracy: 0.7587 - val_loss: 0.5263 - val_accuracy: 0.7626\n",
            "Epoch 9/100\n",
            "313/313 [==============================] - 13s 43ms/step - loss: 0.5197 - accuracy: 0.7647 - val_loss: 0.5117 - val_accuracy: 0.7726\n",
            "Epoch 10/100\n",
            "313/313 [==============================] - 13s 41ms/step - loss: 0.5058 - accuracy: 0.7731 - val_loss: 0.5019 - val_accuracy: 0.7716\n",
            "Epoch 11/100\n",
            "313/313 [==============================] - 13s 41ms/step - loss: 0.4943 - accuracy: 0.7790 - val_loss: 0.4930 - val_accuracy: 0.7762\n",
            "Epoch 12/100\n",
            "313/313 [==============================] - 16s 53ms/step - loss: 0.4875 - accuracy: 0.7821 - val_loss: 0.4857 - val_accuracy: 0.7806\n",
            "Epoch 13/100\n",
            "313/313 [==============================] - 13s 41ms/step - loss: 0.4789 - accuracy: 0.7865 - val_loss: 0.4790 - val_accuracy: 0.7800\n",
            "Epoch 14/100\n",
            "313/313 [==============================] - 14s 46ms/step - loss: 0.4737 - accuracy: 0.7867 - val_loss: 0.4729 - val_accuracy: 0.7850\n",
            "Epoch 15/100\n",
            "313/313 [==============================] - 14s 46ms/step - loss: 0.4668 - accuracy: 0.7906 - val_loss: 0.4693 - val_accuracy: 0.7858\n",
            "Epoch 16/100\n",
            "313/313 [==============================] - 17s 53ms/step - loss: 0.4623 - accuracy: 0.7951 - val_loss: 0.4661 - val_accuracy: 0.7866\n",
            "Epoch 17/100\n",
            "313/313 [==============================] - 14s 43ms/step - loss: 0.4591 - accuracy: 0.7933 - val_loss: 0.4633 - val_accuracy: 0.7840\n",
            "Epoch 18/100\n",
            "313/313 [==============================] - 15s 48ms/step - loss: 0.4536 - accuracy: 0.7983 - val_loss: 0.4602 - val_accuracy: 0.7894\n",
            "Epoch 19/100\n",
            "313/313 [==============================] - 16s 52ms/step - loss: 0.4513 - accuracy: 0.7974 - val_loss: 0.4561 - val_accuracy: 0.7942\n",
            "Epoch 20/100\n",
            "313/313 [==============================] - 15s 49ms/step - loss: 0.4474 - accuracy: 0.7993 - val_loss: 0.4534 - val_accuracy: 0.7946\n",
            "Epoch 21/100\n",
            "313/313 [==============================] - 13s 41ms/step - loss: 0.4426 - accuracy: 0.8034 - val_loss: 0.4549 - val_accuracy: 0.7910\n",
            "Epoch 22/100\n",
            "313/313 [==============================] - 13s 42ms/step - loss: 0.4425 - accuracy: 0.8016 - val_loss: 0.4504 - val_accuracy: 0.7922\n",
            "Epoch 23/100\n",
            "313/313 [==============================] - 16s 51ms/step - loss: 0.4402 - accuracy: 0.8027 - val_loss: 0.4487 - val_accuracy: 0.7932\n",
            "Epoch 24/100\n",
            "313/313 [==============================] - 14s 44ms/step - loss: 0.4388 - accuracy: 0.8036 - val_loss: 0.4465 - val_accuracy: 0.7962\n",
            "Epoch 25/100\n",
            "313/313 [==============================] - 16s 50ms/step - loss: 0.4345 - accuracy: 0.8035 - val_loss: 0.4464 - val_accuracy: 0.7950\n",
            "Epoch 26/100\n",
            "313/313 [==============================] - 13s 41ms/step - loss: 0.4328 - accuracy: 0.8062 - val_loss: 0.4449 - val_accuracy: 0.7968\n",
            "Epoch 27/100\n",
            "313/313 [==============================] - 13s 42ms/step - loss: 0.4325 - accuracy: 0.8063 - val_loss: 0.4441 - val_accuracy: 0.7948\n",
            "Epoch 28/100\n",
            "313/313 [==============================] - 13s 41ms/step - loss: 0.4301 - accuracy: 0.8052 - val_loss: 0.4413 - val_accuracy: 0.7964\n",
            "Epoch 29/100\n",
            "313/313 [==============================] - 13s 41ms/step - loss: 0.4299 - accuracy: 0.8072 - val_loss: 0.4403 - val_accuracy: 0.7982\n",
            "Epoch 30/100\n",
            "313/313 [==============================] - 13s 41ms/step - loss: 0.4290 - accuracy: 0.8077 - val_loss: 0.4394 - val_accuracy: 0.7974\n",
            "Epoch 31/100\n",
            "313/313 [==============================] - 13s 41ms/step - loss: 0.4275 - accuracy: 0.8073 - val_loss: 0.4442 - val_accuracy: 0.7956\n",
            "Epoch 32/100\n",
            "313/313 [==============================] - 13s 41ms/step - loss: 0.4251 - accuracy: 0.8073 - val_loss: 0.4392 - val_accuracy: 0.7998\n",
            "Epoch 33/100\n",
            "313/313 [==============================] - 13s 41ms/step - loss: 0.4257 - accuracy: 0.8094 - val_loss: 0.4375 - val_accuracy: 0.7984\n",
            "Epoch 34/100\n",
            "313/313 [==============================] - 13s 41ms/step - loss: 0.4247 - accuracy: 0.8096 - val_loss: 0.4368 - val_accuracy: 0.7994\n",
            "Epoch 35/100\n",
            "313/313 [==============================] - 13s 42ms/step - loss: 0.4234 - accuracy: 0.8083 - val_loss: 0.4367 - val_accuracy: 0.8020\n",
            "Epoch 36/100\n",
            "313/313 [==============================] - 13s 42ms/step - loss: 0.4219 - accuracy: 0.8109 - val_loss: 0.4352 - val_accuracy: 0.8008\n",
            "Epoch 37/100\n",
            "313/313 [==============================] - 13s 42ms/step - loss: 0.4223 - accuracy: 0.8087 - val_loss: 0.4363 - val_accuracy: 0.8006\n",
            "Epoch 38/100\n",
            "313/313 [==============================] - 13s 42ms/step - loss: 0.4208 - accuracy: 0.8113 - val_loss: 0.4336 - val_accuracy: 0.8016\n",
            "Epoch 39/100\n",
            "313/313 [==============================] - 13s 41ms/step - loss: 0.4206 - accuracy: 0.8084 - val_loss: 0.4332 - val_accuracy: 0.8018\n",
            "Epoch 40/100\n",
            "313/313 [==============================] - 13s 41ms/step - loss: 0.4211 - accuracy: 0.8090 - val_loss: 0.4332 - val_accuracy: 0.8036\n",
            "Epoch 41/100\n",
            "313/313 [==============================] - 13s 41ms/step - loss: 0.4171 - accuracy: 0.8133 - val_loss: 0.4325 - val_accuracy: 0.8018\n",
            "Epoch 42/100\n",
            "313/313 [==============================] - 13s 41ms/step - loss: 0.4177 - accuracy: 0.8103 - val_loss: 0.4318 - val_accuracy: 0.8032\n",
            "Epoch 43/100\n",
            "313/313 [==============================] - 13s 42ms/step - loss: 0.4173 - accuracy: 0.8120 - val_loss: 0.4316 - val_accuracy: 0.8026\n",
            "Epoch 44/100\n",
            "313/313 [==============================] - 13s 41ms/step - loss: 0.4162 - accuracy: 0.8116 - val_loss: 0.4328 - val_accuracy: 0.7986\n",
            "Epoch 45/100\n",
            "313/313 [==============================] - 13s 42ms/step - loss: 0.4155 - accuracy: 0.8126 - val_loss: 0.4304 - val_accuracy: 0.8024\n",
            "Epoch 46/100\n",
            "313/313 [==============================] - 13s 42ms/step - loss: 0.4151 - accuracy: 0.8138 - val_loss: 0.4305 - val_accuracy: 0.8026\n",
            "Epoch 47/100\n",
            "313/313 [==============================] - 13s 41ms/step - loss: 0.4156 - accuracy: 0.8145 - val_loss: 0.4306 - val_accuracy: 0.8030\n",
            "Epoch 48/100\n",
            "313/313 [==============================] - 13s 42ms/step - loss: 0.4146 - accuracy: 0.8106 - val_loss: 0.4301 - val_accuracy: 0.8040\n",
            "Epoch 49/100\n",
            "313/313 [==============================] - 13s 42ms/step - loss: 0.4127 - accuracy: 0.8127 - val_loss: 0.4292 - val_accuracy: 0.8014\n",
            "Epoch 50/100\n",
            "313/313 [==============================] - 13s 41ms/step - loss: 0.4134 - accuracy: 0.8137 - val_loss: 0.4299 - val_accuracy: 0.8034\n",
            "Epoch 51/100\n",
            "313/313 [==============================] - 13s 41ms/step - loss: 0.4110 - accuracy: 0.8125 - val_loss: 0.4293 - val_accuracy: 0.8028\n",
            "Epoch 52/100\n",
            "313/313 [==============================] - 13s 41ms/step - loss: 0.4122 - accuracy: 0.8126 - val_loss: 0.4284 - val_accuracy: 0.8050\n",
            "Epoch 53/100\n",
            "313/313 [==============================] - 13s 41ms/step - loss: 0.4118 - accuracy: 0.8148 - val_loss: 0.4289 - val_accuracy: 0.8036\n",
            "Epoch 54/100\n",
            "313/313 [==============================] - 13s 41ms/step - loss: 0.4099 - accuracy: 0.8133 - val_loss: 0.4279 - val_accuracy: 0.8016\n",
            "Epoch 55/100\n",
            "313/313 [==============================] - 13s 41ms/step - loss: 0.4096 - accuracy: 0.8148 - val_loss: 0.4319 - val_accuracy: 0.7982\n",
            "Epoch 56/100\n",
            "313/313 [==============================] - 13s 41ms/step - loss: 0.4106 - accuracy: 0.8111 - val_loss: 0.4272 - val_accuracy: 0.8044\n",
            "Epoch 57/100\n",
            "313/313 [==============================] - 13s 41ms/step - loss: 0.4061 - accuracy: 0.8165 - val_loss: 0.4274 - val_accuracy: 0.8024\n",
            "Epoch 58/100\n",
            "313/313 [==============================] - 13s 41ms/step - loss: 0.4097 - accuracy: 0.8141 - val_loss: 0.4280 - val_accuracy: 0.8026\n",
            "Epoch 59/100\n",
            "313/313 [==============================] - 13s 41ms/step - loss: 0.4076 - accuracy: 0.8155 - val_loss: 0.4288 - val_accuracy: 0.8044\n"
          ]
        }
      ]
    },
    {
      "cell_type": "code",
      "source": [
        "plt.plot(history.history['loss'])\n",
        "plt.plot(history.history['val_loss'])\n",
        "plt.xlabel('epoch')\n",
        "plt.ylabel('loss')\n",
        "plt.legend(['train', 'val'])\n",
        "plt.show()"
      ],
      "metadata": {
        "colab": {
          "base_uri": "https://localhost:8080/",
          "height": 279
        },
        "id": "wjCajXpx6BQt",
        "outputId": "59550ffb-270f-4a9a-c7ff-b9cdcdcc72cb"
      },
      "execution_count": 12,
      "outputs": [
        {
          "output_type": "display_data",
          "data": {
            "text/plain": [
              "<Figure size 432x288 with 1 Axes>"
            ],
            "image/png": "[encoded data removed]"
          },
          "metadata": {
            "needs_background": "light"
          }
        }
      ]
    },
    {
      "cell_type": "code",
      "source": [
        "# 2개의 층 연결하기\n",
        "\n",
        "\"\"\"\n",
        "기존 RNN은 출력할 때 마지막 time step의 hidden state만 출력하기 때문에\n",
        "return_sequences 파라미터를 통해 모든 hidden state를 출력하게 해줘야 한다.\n",
        "\"\"\"\n",
        "\n",
        "model3 = keras.Sequential()\n",
        "model3.add(keras.layers.Embedding(500, 16, input_length=100))\n",
        "model3.add(keras.layers.LSTM(8, dropout=0.3, return_sequences=True))\n",
        "model3.add(keras.layers.LSTM(8, dropout=0.3))\n",
        "model3.add(keras.layers.Dense(1, activation='sigmoid'))"
      ],
      "metadata": {
        "id": "lSY-f7q14aQM"
      },
      "execution_count": 11,
      "outputs": []
    },
    {
      "cell_type": "code",
      "source": [
        "model3.summary()"
      ],
      "metadata": {
        "colab": {
          "base_uri": "https://localhost:8080/"
        },
        "id": "pFRLFK_U5lNE",
        "outputId": "c308adc5-8dd1-40e5-a3d3-8c779d627a86"
      },
      "execution_count": 13,
      "outputs": [
        {
          "output_type": "stream",
          "name": "stdout",
          "text": [
            "Model: \"sequential_2\"\n",
            "_________________________________________________________________\n",
            " Layer (type)                Output Shape              Param #   \n",
            "=================================================================\n",
            " embedding_2 (Embedding)     (None, 100, 16)           8000      \n",
            "                                                                 \n",
            " lstm_2 (LSTM)               (None, 100, 8)            800       \n",
            "                                                                 \n",
            " lstm_3 (LSTM)               (None, 8)                 544       \n",
            "                                                                 \n",
            " dense_2 (Dense)             (None, 1)                 9         \n",
            "                                                                 \n",
            "=================================================================\n",
            "Total params: 9,353\n",
            "Trainable params: 9,353\n",
            "Non-trainable params: 0\n",
            "_________________________________________________________________\n"
          ]
        }
      ]
    },
    {
      "cell_type": "code",
      "source": [
        "rmsprop = keras.optimizers.RMSprop(learning_rate=1e-4)\n",
        "model3.compile(optimizer=rmsprop, loss='binary_crossentropy', metrics=['accuracy'])\n",
        "checkpoint_cb = keras.callbacks.ModelCheckpoint('best-2rnn-model.h5', save_best_only = True)\n",
        "early_stopping_cb = keras.callbacks.EarlyStopping(patience=3, restore_best_weights=True)\n",
        "history = model3.fit(train_seq, train_target, epochs=100, batch_size=64,\n",
        "                    validation_data=(val_seq, val_target),\n",
        "                    callbacks=[checkpoint_cb, early_stopping_cb])"
      ],
      "metadata": {
        "colab": {
          "base_uri": "https://localhost:8080/"
        },
        "id": "JkncGnWR56Ff",
        "outputId": "9acd46c9-fde7-4830-c4c3-99a47d273dfc"
      },
      "execution_count": 14,
      "outputs": [
        {
          "output_type": "stream",
          "name": "stdout",
          "text": [
            "Epoch 1/100\n",
            "313/313 [==============================] - 29s 80ms/step - loss: 0.6929 - accuracy: 0.5272 - val_loss: 0.6927 - val_accuracy: 0.4904\n",
            "Epoch 2/100\n",
            "313/313 [==============================] - 24s 78ms/step - loss: 0.6913 - accuracy: 0.5228 - val_loss: 0.6900 - val_accuracy: 0.5674\n",
            "Epoch 3/100\n",
            "313/313 [==============================] - 24s 78ms/step - loss: 0.6828 - accuracy: 0.5967 - val_loss: 0.6720 - val_accuracy: 0.5962\n",
            "Epoch 4/100\n",
            "313/313 [==============================] - 24s 78ms/step - loss: 0.6303 - accuracy: 0.6665 - val_loss: 0.5923 - val_accuracy: 0.7146\n",
            "Epoch 5/100\n",
            "313/313 [==============================] - 24s 78ms/step - loss: 0.5696 - accuracy: 0.7288 - val_loss: 0.5566 - val_accuracy: 0.7440\n",
            "Epoch 6/100\n",
            "313/313 [==============================] - 24s 77ms/step - loss: 0.5397 - accuracy: 0.7473 - val_loss: 0.5250 - val_accuracy: 0.7542\n",
            "Epoch 7/100\n",
            "313/313 [==============================] - 24s 78ms/step - loss: 0.5174 - accuracy: 0.7585 - val_loss: 0.5056 - val_accuracy: 0.7658\n",
            "Epoch 8/100\n",
            "313/313 [==============================] - 24s 78ms/step - loss: 0.5014 - accuracy: 0.7667 - val_loss: 0.4908 - val_accuracy: 0.7770\n",
            "Epoch 9/100\n",
            "313/313 [==============================] - 25s 79ms/step - loss: 0.4869 - accuracy: 0.7756 - val_loss: 0.4792 - val_accuracy: 0.7822\n",
            "Epoch 10/100\n",
            "313/313 [==============================] - 25s 78ms/step - loss: 0.4769 - accuracy: 0.7824 - val_loss: 0.4727 - val_accuracy: 0.7882\n",
            "Epoch 11/100\n",
            "313/313 [==============================] - 24s 78ms/step - loss: 0.4694 - accuracy: 0.7859 - val_loss: 0.4642 - val_accuracy: 0.7874\n",
            "Epoch 12/100\n",
            "313/313 [==============================] - 24s 78ms/step - loss: 0.4640 - accuracy: 0.7855 - val_loss: 0.4630 - val_accuracy: 0.7860\n",
            "Epoch 13/100\n",
            "313/313 [==============================] - 25s 79ms/step - loss: 0.4580 - accuracy: 0.7904 - val_loss: 0.4554 - val_accuracy: 0.7920\n",
            "Epoch 14/100\n",
            "313/313 [==============================] - 25s 79ms/step - loss: 0.4495 - accuracy: 0.7970 - val_loss: 0.4517 - val_accuracy: 0.7922\n",
            "Epoch 15/100\n",
            "313/313 [==============================] - 25s 79ms/step - loss: 0.4495 - accuracy: 0.7951 - val_loss: 0.4518 - val_accuracy: 0.7920\n",
            "Epoch 16/100\n",
            "313/313 [==============================] - 25s 78ms/step - loss: 0.4462 - accuracy: 0.7971 - val_loss: 0.4456 - val_accuracy: 0.7940\n",
            "Epoch 17/100\n",
            "313/313 [==============================] - 24s 78ms/step - loss: 0.4425 - accuracy: 0.7975 - val_loss: 0.4476 - val_accuracy: 0.7916\n",
            "Epoch 18/100\n",
            "313/313 [==============================] - 24s 78ms/step - loss: 0.4397 - accuracy: 0.7974 - val_loss: 0.4429 - val_accuracy: 0.7914\n",
            "Epoch 19/100\n",
            "313/313 [==============================] - 25s 78ms/step - loss: 0.4363 - accuracy: 0.8037 - val_loss: 0.4430 - val_accuracy: 0.7926\n",
            "Epoch 20/100\n",
            "313/313 [==============================] - 29s 92ms/step - loss: 0.4322 - accuracy: 0.8034 - val_loss: 0.4391 - val_accuracy: 0.7942\n",
            "Epoch 21/100\n",
            "313/313 [==============================] - 33s 107ms/step - loss: 0.4322 - accuracy: 0.8018 - val_loss: 0.4387 - val_accuracy: 0.8016\n",
            "Epoch 22/100\n",
            "313/313 [==============================] - 33s 105ms/step - loss: 0.4298 - accuracy: 0.8055 - val_loss: 0.4364 - val_accuracy: 0.8016\n",
            "Epoch 23/100\n",
            "313/313 [==============================] - 27s 85ms/step - loss: 0.4295 - accuracy: 0.8048 - val_loss: 0.4348 - val_accuracy: 0.8016\n",
            "Epoch 24/100\n",
            "313/313 [==============================] - 25s 78ms/step - loss: 0.4266 - accuracy: 0.8072 - val_loss: 0.4378 - val_accuracy: 0.7932\n",
            "Epoch 25/100\n",
            "313/313 [==============================] - 24s 78ms/step - loss: 0.4259 - accuracy: 0.8070 - val_loss: 0.4341 - val_accuracy: 0.8018\n",
            "Epoch 26/100\n",
            "313/313 [==============================] - 25s 80ms/step - loss: 0.4247 - accuracy: 0.8078 - val_loss: 0.4333 - val_accuracy: 0.8036\n",
            "Epoch 27/100\n",
            "313/313 [==============================] - 26s 82ms/step - loss: 0.4240 - accuracy: 0.8062 - val_loss: 0.4361 - val_accuracy: 0.7950\n",
            "Epoch 28/100\n",
            "313/313 [==============================] - 24s 78ms/step - loss: 0.4228 - accuracy: 0.8095 - val_loss: 0.4312 - val_accuracy: 0.8024\n",
            "Epoch 29/100\n",
            "313/313 [==============================] - 25s 78ms/step - loss: 0.4209 - accuracy: 0.8081 - val_loss: 0.4305 - val_accuracy: 0.8022\n",
            "Epoch 30/100\n",
            "313/313 [==============================] - 24s 78ms/step - loss: 0.4213 - accuracy: 0.8090 - val_loss: 0.4360 - val_accuracy: 0.7918\n",
            "Epoch 31/100\n",
            "313/313 [==============================] - 25s 78ms/step - loss: 0.4193 - accuracy: 0.8090 - val_loss: 0.4321 - val_accuracy: 0.8040\n",
            "Epoch 32/100\n",
            "313/313 [==============================] - 25s 79ms/step - loss: 0.4165 - accuracy: 0.8103 - val_loss: 0.4309 - val_accuracy: 0.8050\n"
          ]
        }
      ]
    },
    {
      "cell_type": "code",
      "source": [
        "plt.plot(history.history['loss'])\n",
        "plt.plot(history.history['val_loss'])\n",
        "plt.xlabel('epoch')\n",
        "plt.ylabel('loss')\n",
        "plt.legend(['train', 'val'])\n",
        "plt.show()"
      ],
      "metadata": {
        "colab": {
          "base_uri": "https://localhost:8080/",
          "height": 279
        },
        "id": "Olb6zEz-6F6q",
        "outputId": "4643bee2-f137-4bc0-d319-923bf320eb01"
      },
      "execution_count": 15,
      "outputs": [
        {
          "output_type": "display_data",
          "data": {
            "text/plain": [
              "<Figure size 432x288 with 1 Axes>"
            ],
            "image/png": "[encoded data removed]"
          },
          "metadata": {
            "needs_background": "light"
          }
        }
      ]
    },
    {
      "cell_type": "code",
      "source": [
        "# GRU 신경망 훈련\n",
        "\n",
        "model4 = keras.Sequential()\n",
        "model4.add(keras.layers.Embedding(500, 16, input_length=100))\n",
        "model4.add(keras.layers.GRU(8))\n",
        "model4.add(keras.layers.Dense(1, activation='sigmoid'))"
      ],
      "metadata": {
        "id": "FL8q5vvU6HJj"
      },
      "execution_count": 16,
      "outputs": []
    },
    {
      "cell_type": "code",
      "source": [
        "model4.summary()"
      ],
      "metadata": {
        "colab": {
          "base_uri": "https://localhost:8080/"
        },
        "id": "ih6mkPbo6Wg9",
        "outputId": "f9d86610-1e64-4d06-c2d4-f5a90d3d142b"
      },
      "execution_count": 17,
      "outputs": [
        {
          "output_type": "stream",
          "name": "stdout",
          "text": [
            "Model: \"sequential_3\"\n",
            "_________________________________________________________________\n",
            " Layer (type)                Output Shape              Param #   \n",
            "=================================================================\n",
            " embedding_3 (Embedding)     (None, 100, 16)           8000      \n",
            "                                                                 \n",
            " gru (GRU)                   (None, 8)                 624       \n",
            "                                                                 \n",
            " dense_3 (Dense)             (None, 1)                 9         \n",
            "                                                                 \n",
            "=================================================================\n",
            "Total params: 8,633\n",
            "Trainable params: 8,633\n",
            "Non-trainable params: 0\n",
            "_________________________________________________________________\n"
          ]
        }
      ]
    },
    {
      "cell_type": "code",
      "source": [
        "rmsprop = keras.optimizers.RMSprop(learning_rate=1e-4)\n",
        "model4.compile(optimizer=rmsprop, loss='binary_crossentropy', metrics=['accuracy'])\n",
        "checkpoint_cb = keras.callbacks.ModelCheckpoint('best-gru-model.h5', save_best_only = True)\n",
        "early_stopping_cb = keras.callbacks.EarlyStopping(patience=3, restore_best_weights=True)\n",
        "history = model4.fit(train_seq, train_target, epochs=100, batch_size=64,\n",
        "                    validation_data=(val_seq, val_target),\n",
        "                    callbacks=[checkpoint_cb, early_stopping_cb])"
      ],
      "metadata": {
        "colab": {
          "base_uri": "https://localhost:8080/"
        },
        "id": "7Haz1sXW6YO_",
        "outputId": "0b62d966-83c7-4d49-f422-fb75430b5c26"
      },
      "execution_count": 18,
      "outputs": [
        {
          "output_type": "stream",
          "name": "stdout",
          "text": [
            "Epoch 1/100\n",
            "313/313 [==============================] - 16s 45ms/step - loss: 0.6926 - accuracy: 0.5264 - val_loss: 0.6917 - val_accuracy: 0.5486\n",
            "Epoch 2/100\n",
            "313/313 [==============================] - 14s 44ms/step - loss: 0.6909 - accuracy: 0.5630 - val_loss: 0.6899 - val_accuracy: 0.5684\n",
            "Epoch 3/100\n",
            "313/313 [==============================] - 14s 43ms/step - loss: 0.6882 - accuracy: 0.5871 - val_loss: 0.6867 - val_accuracy: 0.6038\n",
            "Epoch 4/100\n",
            "313/313 [==============================] - 14s 43ms/step - loss: 0.6839 - accuracy: 0.6074 - val_loss: 0.6816 - val_accuracy: 0.6138\n",
            "Epoch 5/100\n",
            "313/313 [==============================] - 14s 43ms/step - loss: 0.6769 - accuracy: 0.6230 - val_loss: 0.6736 - val_accuracy: 0.6202\n",
            "Epoch 6/100\n",
            "313/313 [==============================] - 13s 43ms/step - loss: 0.6656 - accuracy: 0.6431 - val_loss: 0.6598 - val_accuracy: 0.6410\n",
            "Epoch 7/100\n",
            "313/313 [==============================] - 14s 43ms/step - loss: 0.6447 - accuracy: 0.6656 - val_loss: 0.6325 - val_accuracy: 0.6740\n",
            "Epoch 8/100\n",
            "313/313 [==============================] - 14s 44ms/step - loss: 0.5950 - accuracy: 0.7030 - val_loss: 0.5583 - val_accuracy: 0.7228\n",
            "Epoch 9/100\n",
            "313/313 [==============================] - 14s 44ms/step - loss: 0.5294 - accuracy: 0.7437 - val_loss: 0.5231 - val_accuracy: 0.7422\n",
            "Epoch 10/100\n",
            "313/313 [==============================] - 14s 44ms/step - loss: 0.5056 - accuracy: 0.7581 - val_loss: 0.5060 - val_accuracy: 0.7508\n",
            "Epoch 11/100\n",
            "313/313 [==============================] - 14s 44ms/step - loss: 0.4881 - accuracy: 0.7698 - val_loss: 0.4894 - val_accuracy: 0.7680\n",
            "Epoch 12/100\n",
            "313/313 [==============================] - 14s 44ms/step - loss: 0.4744 - accuracy: 0.7804 - val_loss: 0.4781 - val_accuracy: 0.7772\n",
            "Epoch 13/100\n",
            "313/313 [==============================] - 14s 43ms/step - loss: 0.4632 - accuracy: 0.7860 - val_loss: 0.4710 - val_accuracy: 0.7766\n",
            "Epoch 14/100\n",
            "313/313 [==============================] - 14s 44ms/step - loss: 0.4540 - accuracy: 0.7924 - val_loss: 0.4615 - val_accuracy: 0.7862\n",
            "Epoch 15/100\n",
            "313/313 [==============================] - 14s 43ms/step - loss: 0.4467 - accuracy: 0.7965 - val_loss: 0.4563 - val_accuracy: 0.7854\n",
            "Epoch 16/100\n",
            "313/313 [==============================] - 14s 43ms/step - loss: 0.4413 - accuracy: 0.8009 - val_loss: 0.4528 - val_accuracy: 0.7896\n",
            "Epoch 17/100\n",
            "313/313 [==============================] - 14s 43ms/step - loss: 0.4363 - accuracy: 0.8031 - val_loss: 0.4521 - val_accuracy: 0.7896\n",
            "Epoch 18/100\n",
            "313/313 [==============================] - 14s 43ms/step - loss: 0.4327 - accuracy: 0.8041 - val_loss: 0.4466 - val_accuracy: 0.7926\n",
            "Epoch 19/100\n",
            "313/313 [==============================] - 14s 44ms/step - loss: 0.4298 - accuracy: 0.8068 - val_loss: 0.4452 - val_accuracy: 0.7928\n",
            "Epoch 20/100\n",
            "313/313 [==============================] - 14s 44ms/step - loss: 0.4270 - accuracy: 0.8083 - val_loss: 0.4436 - val_accuracy: 0.7964\n",
            "Epoch 21/100\n",
            "313/313 [==============================] - 14s 44ms/step - loss: 0.4249 - accuracy: 0.8115 - val_loss: 0.4431 - val_accuracy: 0.7936\n",
            "Epoch 22/100\n",
            "313/313 [==============================] - 13s 43ms/step - loss: 0.4228 - accuracy: 0.8123 - val_loss: 0.4431 - val_accuracy: 0.7964\n",
            "Epoch 23/100\n",
            "313/313 [==============================] - 14s 43ms/step - loss: 0.4211 - accuracy: 0.8122 - val_loss: 0.4421 - val_accuracy: 0.7936\n",
            "Epoch 24/100\n",
            "313/313 [==============================] - 13s 43ms/step - loss: 0.4197 - accuracy: 0.8125 - val_loss: 0.4428 - val_accuracy: 0.7972\n",
            "Epoch 25/100\n",
            "313/313 [==============================] - 14s 43ms/step - loss: 0.4185 - accuracy: 0.8131 - val_loss: 0.4406 - val_accuracy: 0.7964\n",
            "Epoch 26/100\n",
            "313/313 [==============================] - 14s 43ms/step - loss: 0.4172 - accuracy: 0.8145 - val_loss: 0.4413 - val_accuracy: 0.7936\n",
            "Epoch 27/100\n",
            "313/313 [==============================] - 14s 43ms/step - loss: 0.4162 - accuracy: 0.8134 - val_loss: 0.4398 - val_accuracy: 0.7990\n",
            "Epoch 28/100\n",
            "313/313 [==============================] - 14s 44ms/step - loss: 0.4150 - accuracy: 0.8149 - val_loss: 0.4405 - val_accuracy: 0.7972\n",
            "Epoch 29/100\n",
            "313/313 [==============================] - 14s 44ms/step - loss: 0.4144 - accuracy: 0.8151 - val_loss: 0.4399 - val_accuracy: 0.7946\n",
            "Epoch 30/100\n",
            "313/313 [==============================] - 14s 44ms/step - loss: 0.4136 - accuracy: 0.8153 - val_loss: 0.4412 - val_accuracy: 0.7928\n"
          ]
        }
      ]
    },
    {
      "cell_type": "code",
      "source": [
        "plt.plot(history.history['loss'])\n",
        "plt.plot(history.history['val_loss'])\n",
        "plt.xlabel('epoch')\n",
        "plt.ylabel('loss')\n",
        "plt.legend(['train', 'val'])\n",
        "plt.show()"
      ],
      "metadata": {
        "colab": {
          "base_uri": "https://localhost:8080/",
          "height": 279
        },
        "id": "oqIFMYiABdM5",
        "outputId": "f5b606aa-3d88-402e-fe80-f0780a4286f9"
      },
      "execution_count": 20,
      "outputs": [
        {
          "output_type": "display_data",
          "data": {
            "text/plain": [
              "<Figure size 432x288 with 1 Axes>"
            ],
            "image/png": "[encoded data removed]"
          },
          "metadata": {
            "needs_background": "light"
          }
        }
      ]
    },
    {
      "cell_type": "code",
      "source": [
        "test_seq = pad_sequences(test_input, maxlen=100)\n",
        "rnn_model = keras.models.load_model('best-2rnn-model.h5')\n",
        "rnn_model.evaluate(test_seq, test_target)"
      ],
      "metadata": {
        "colab": {
          "base_uri": "https://localhost:8080/"
        },
        "id": "r6VCdsqM-j1r",
        "outputId": "fec5d888-0c84-4bfa-af71-d5509edede8b"
      },
      "execution_count": 19,
      "outputs": [
        {
          "output_type": "stream",
          "name": "stdout",
          "text": [
            "782/782 [==============================] - 12s 14ms/step - loss: 0.4277 - accuracy: 0.8015\n"
          ]
        },
        {
          "output_type": "execute_result",
          "data": {
            "text/plain": [
              "[0.427741676568985, 0.8014799952507019]"
            ]
          },
          "metadata": {},
          "execution_count": 19
        }
      ]
    }
  ]
}