{
  "nbformat": 4,
  "nbformat_minor": 0,
  "metadata": {
    "colab": {
      "provenance": [],
      "collapsed_sections": [],
      "authorship_tag": "ABX9TyMM4l05oQE9+qPPjGMnwoxp",
      "include_colab_link": true
    },
    "kernelspec": {
      "name": "python3",
      "display_name": "Python 3"
    },
    "language_info": {
      "name": "python"
    },
    "accelerator": "GPU"
  },
  "cells": [
    {
      "cell_type": "markdown",
      "metadata": {
        "id": "view-in-github",
        "colab_type": "text"
      },
      "source": [
        "<a href=\"https://colab.research.google.com/github/drawcodeboy/first_ML_DL/blob/main/firstMLDL_09_2.ipynb\" target=\"_parent\"><img src=\"https://colab.research.google.com/assets/colab-badge.svg\" alt=\"Open In Colab\"/></a>"
      ]
    },
    {
      "cell_type": "markdown",
      "source": [
        "# RNN(Recurrent Neural Network), 순환 신경망\n",
        "\n",
        ">* IMDB 데이터 셋의 구성 (숫자로 이루어짐, 왜 숫자인가?)\n",
        ">* Padding이나 Truncating이 앞에서 진행되는 이유\n",
        ">* RNN에서 One-hot encoding을 사용하는 이유: 숫자의 크기 속성을 없애기 위해 one-hot encoding을 사용함으로써 activation function을 거쳐도 수의 크기가 아무런 영향을 끼치지 않게 하는 것이다.\n",
        ">* One-hot encoding의 단점: 입력 데이터의 크기가 너무 커진다.\n",
        ">* Word Embedding: 숫자마다 고유 실수 벡터를 부여함으로써 입력의 크기 부담을 줄인다."
      ],
      "metadata": {
        "id": "VkEmI5klcyBq"
      }
    },
    {
      "cell_type": "code",
      "execution_count": null,
      "metadata": {
        "colab": {
          "base_uri": "https://localhost:8080/",
          "height": 93
        },
        "id": "-_Z6-ibhcf1t",
        "outputId": "d8fd0f55-6a59-4d12-e20d-38f2a4545597"
      },
      "outputs": [
        {
          "output_type": "stream",
          "name": "stdout",
          "text": [
            "Downloading data from https://storage.googleapis.com/tensorflow/tf-keras-datasets/imdb.npz\n",
            "17465344/17464789 [==============================] - 0s 0us/step\n",
            "17473536/17464789 [==============================] - 0s 0us/step\n"
          ]
        },
        {
          "output_type": "execute_result",
          "data": {
            "text/plain": [
              "'\\n가장 자주 사용하는 단어를 500개만 가져오기 위해 데이터를 가져올 때,\\nnum_words를 통해 지정\\n'"
            ],
            "application/vnd.google.colaboratory.intrinsic+json": {
              "type": "string"
            }
          },
          "metadata": {},
          "execution_count": 1
        }
      ],
      "source": [
        "from tensorflow.keras.datasets import imdb\n",
        "(train_input, train_target), (test_input, test_target) = imdb.load_data(num_words=500)\n",
        "\n",
        "\"\"\"\n",
        "가장 자주 사용하는 단어를 500개만 가져오기 위해 데이터를 가져올 때,\n",
        "num_words를 통해 지정\n",
        "\"\"\""
      ]
    },
    {
      "cell_type": "code",
      "source": [
        "print(train_input.shape, train_target.shape)\n",
        "\n",
        "\"\"\"\n",
        "shape가 1차원적으로 25000개가 들어가있다.\n",
        "이 뜻은 25000개의 샘플이 들어가있는데 각 샘플마다 숫자들로 존재하고,\n",
        "그 숫자들이 속한 각 샘플들은 모두 25000개의 리스트로 들어갔기에 이런 1차원의 shape를 띄는 것이다.\n",
        "즉, 이 데이터는 개별 리뷰를 담은 파이썬 리스트 객체로 이루어진 넘파이 배열이다.\n",
        "\"\"\""
      ],
      "metadata": {
        "colab": {
          "base_uri": "https://localhost:8080/",
          "height": 93
        },
        "id": "Zl_oorukdJ1s",
        "outputId": "62ddc039-d15a-4f99-963f-9dedf37d3efb"
      },
      "execution_count": null,
      "outputs": [
        {
          "output_type": "stream",
          "name": "stdout",
          "text": [
            "(25000,) (25000,)\n"
          ]
        },
        {
          "output_type": "execute_result",
          "data": {
            "text/plain": [
              "'\\nshape가 1차원적으로 25000개가 들어가있다.\\n이 뜻은 25000개의 샘플이 들어가있는데 각 샘플마다 숫자들로 존재하고,\\n그 숫자들이 속한 각 샘플들은 모두 25000개의 리스트로 들어갔기에 이런 1차원의 shape를 띄는 것이다.\\n즉, 이 데이터는 개별 리뷰를 담은 파이썬 리스트 객체로 이루어진 넘파이 배열이다.\\n'"
            ],
            "application/vnd.google.colaboratory.intrinsic+json": {
              "type": "string"
            }
          },
          "metadata": {},
          "execution_count": 2
        }
      ]
    },
    {
      "cell_type": "code",
      "source": [
        "print(len(train_input[0]))\n",
        "\"\"\"\n",
        "첫번째 샘플의 길이를 확인함으로써 각 샘플은 리스트 객체로 이루어졌다는 것을 확인\n",
        "\"\"\""
      ],
      "metadata": {
        "colab": {
          "base_uri": "https://localhost:8080/",
          "height": 55
        },
        "id": "V6Q-_c7jd7zF",
        "outputId": "a5efedce-0158-4e92-f362-8a2ee83e425e"
      },
      "execution_count": null,
      "outputs": [
        {
          "output_type": "stream",
          "name": "stdout",
          "text": [
            "218\n"
          ]
        },
        {
          "output_type": "execute_result",
          "data": {
            "text/plain": [
              "'\\n첫번째 샘플의 길이를 확인함으로써 각 샘플은 리스트 객체로 이루어졌다는 것을 확인\\n'"
            ],
            "application/vnd.google.colaboratory.intrinsic+json": {
              "type": "string"
            }
          },
          "metadata": {},
          "execution_count": 3
        }
      ]
    },
    {
      "cell_type": "code",
      "source": [
        "print(train_input[0])\n",
        "\"\"\"\n",
        "어휘 사전에 없는 단어는 2로 표시, 0은 Padding을 의미\n",
        "현재 출력은 어떠한 처리를 하지 않았으므로 0은 있을 수 없다.\n",
        "\"\"\""
      ],
      "metadata": {
        "colab": {
          "base_uri": "https://localhost:8080/",
          "height": 94
        },
        "id": "PKN40r9VePw-",
        "outputId": "ab9348c9-bf7d-4816-c30b-438e58ff2824"
      },
      "execution_count": null,
      "outputs": [
        {
          "output_type": "stream",
          "name": "stdout",
          "text": [
            "[1, 14, 22, 16, 43, 2, 2, 2, 2, 65, 458, 2, 66, 2, 4, 173, 36, 256, 5, 25, 100, 43, 2, 112, 50, 2, 2, 9, 35, 480, 284, 5, 150, 4, 172, 112, 167, 2, 336, 385, 39, 4, 172, 2, 2, 17, 2, 38, 13, 447, 4, 192, 50, 16, 6, 147, 2, 19, 14, 22, 4, 2, 2, 469, 4, 22, 71, 87, 12, 16, 43, 2, 38, 76, 15, 13, 2, 4, 22, 17, 2, 17, 12, 16, 2, 18, 2, 5, 62, 386, 12, 8, 316, 8, 106, 5, 4, 2, 2, 16, 480, 66, 2, 33, 4, 130, 12, 16, 38, 2, 5, 25, 124, 51, 36, 135, 48, 25, 2, 33, 6, 22, 12, 215, 28, 77, 52, 5, 14, 407, 16, 82, 2, 8, 4, 107, 117, 2, 15, 256, 4, 2, 7, 2, 5, 2, 36, 71, 43, 2, 476, 26, 400, 317, 46, 7, 4, 2, 2, 13, 104, 88, 4, 381, 15, 297, 98, 32, 2, 56, 26, 141, 6, 194, 2, 18, 4, 226, 22, 21, 134, 476, 26, 480, 5, 144, 30, 2, 18, 51, 36, 28, 224, 92, 25, 104, 4, 226, 65, 16, 38, 2, 88, 12, 16, 283, 5, 16, 2, 113, 103, 32, 15, 16, 2, 19, 178, 32]\n"
          ]
        },
        {
          "output_type": "execute_result",
          "data": {
            "text/plain": [
              "'\\n어휘 사전에 없는 단어는 2로 표시, 0은 Padding을 의미\\n현재 출력은 어떠한 처리를 하지 않았으므로 0은 있을 수 없다.\\n'"
            ],
            "application/vnd.google.colaboratory.intrinsic+json": {
              "type": "string"
            }
          },
          "metadata": {},
          "execution_count": 4
        }
      ]
    },
    {
      "cell_type": "code",
      "source": [
        "# train, val set 분리\n",
        "from sklearn.model_selection import train_test_split\n",
        "\n",
        "train_input, val_input, train_target, val_target = train_test_split(\n",
        "    train_input, train_target, test_size=0.2, random_state=42\n",
        ")"
      ],
      "metadata": {
        "id": "l-CSD1HeeUFQ"
      },
      "execution_count": null,
      "outputs": []
    },
    {
      "cell_type": "code",
      "source": [
        "# 각 리뷰의 길이를 계산해서 리스트에 담아 시각화 해보기\n",
        "import numpy as np\n",
        "lengths = np.array([len(x) for x in train_input])"
      ],
      "metadata": {
        "id": "U2tkOx1dfA3P"
      },
      "execution_count": null,
      "outputs": []
    },
    {
      "cell_type": "code",
      "source": [
        "# 평균과 중간값 확인을 통해 샘플의 길이가 작은 쪽으로 치우쳐있는 것을 확인\n",
        "print(np.mean(lengths), np.median(lengths))"
      ],
      "metadata": {
        "colab": {
          "base_uri": "https://localhost:8080/"
        },
        "id": "WWePwHlsfQsl",
        "outputId": "da9984ea-6ca5-4bcf-f46f-7d297c44f650"
      },
      "execution_count": null,
      "outputs": [
        {
          "output_type": "stream",
          "name": "stdout",
          "text": [
            "239.00925 178.0\n"
          ]
        }
      ]
    },
    {
      "cell_type": "code",
      "source": [
        "# 시각화를 통해 확인\n",
        "import matplotlib.pyplot as plt\n",
        "plt.hist(lengths)\n",
        "plt.xlabel('length')\n",
        "plt.ylabel('frequency')\n",
        "plt.show()"
      ],
      "metadata": {
        "colab": {
          "base_uri": "https://localhost:8080/",
          "height": 279
        },
        "id": "a15ae0GSfVvx",
        "outputId": "d530eca1-1d4b-4cc8-9c66-da96e5cfd4af"
      },
      "execution_count": null,
      "outputs": [
        {
          "output_type": "display_data",
          "data": {
            "text/plain": [
              "<Figure size 432x288 with 1 Axes>"
            ],
            "image/png": "[encoded data removed]"
          },
          "metadata": {
            "needs_background": "light"
          }
        }
      ]
    },
    {
      "cell_type": "code",
      "source": [
        "# 모든 단어의 크기를 통일\n",
        "# 100으로 동일하게 Padding\n",
        "# 케라스는 Sequence Data를 처리하는 함수 pad_sequences()를 제공한다.\n",
        "from tensorflow.keras.preprocessing.sequence import pad_sequences\n",
        "train_seq = pad_sequences(train_input, maxlen=100)"
      ],
      "metadata": {
        "id": "6sL01CmWf4iL"
      },
      "execution_count": null,
      "outputs": []
    },
    {
      "cell_type": "code",
      "source": [
        "# 비교\n",
        "# train_input은 파이썬 리스트의 객체를 원소로 가지는 배열이었지만\n",
        "# train_seq는 2차원 배열이 되었다.\n",
        "print(train_input.shape, train_seq.shape)"
      ],
      "metadata": {
        "colab": {
          "base_uri": "https://localhost:8080/"
        },
        "id": "bpuAA2AZgvBt",
        "outputId": "ffab3234-f9ae-43fb-d25d-69b0bb99d1cd"
      },
      "execution_count": null,
      "outputs": [
        {
          "output_type": "stream",
          "name": "stdout",
          "text": [
            "(20000,) (20000, 100)\n"
          ]
        }
      ]
    },
    {
      "cell_type": "code",
      "source": [
        "print(train_seq[0])"
      ],
      "metadata": {
        "colab": {
          "base_uri": "https://localhost:8080/"
        },
        "id": "ehpNklkEg0KL",
        "outputId": "a6450ad0-1eeb-44c2-9489-34587360d1db"
      },
      "execution_count": null,
      "outputs": [
        {
          "output_type": "stream",
          "name": "stdout",
          "text": [
            "[ 10   4  20   9   2 364 352   5  45   6   2   2  33 269   8   2 142   2\n",
            "   5   2  17  73  17 204   5   2  19  55   2   2  92  66 104  14  20  93\n",
            "  76   2 151  33   4  58  12 188   2 151  12 215  69 224 142  73 237   6\n",
            "   2   7   2   2 188   2 103  14  31  10  10 451   7   2   5   2  80  91\n",
            "   2  30   2  34  14  20 151  50  26 131  49   2  84  46  50  37  80  79\n",
            "   6   2  46   7  14  20  10  10 470 158]\n"
          ]
        }
      ]
    },
    {
      "cell_type": "code",
      "source": [
        "# padding을 하기 전에 데이터를 확인함으로써 padding한 데이터가\n",
        "# 앞에서 잘렸는지 뒤에서 잘렸는지 알아낼 수 있음\n",
        "# >> 앞에서 잘림.\n",
        "\n",
        "# 음수 인덱스와 슬라이싱 연산자로 확인 가능\n",
        "# -x : 뒤에서 x칸만큼 앞 index를 나타냄.\n",
        "print(train_input[0][-10:])"
      ],
      "metadata": {
        "colab": {
          "base_uri": "https://localhost:8080/"
        },
        "id": "donDmIHyhLu1",
        "outputId": "99260d5c-991f-416f-df60-8a486e6c8442"
      },
      "execution_count": null,
      "outputs": [
        {
          "output_type": "stream",
          "name": "stdout",
          "text": [
            "[6, 2, 46, 7, 14, 20, 10, 10, 470, 158]\n"
          ]
        }
      ]
    },
    {
      "cell_type": "code",
      "source": [
        "# Padding 또한 앞에서 0이 추가된다.\n",
        "print(train_seq[5])"
      ],
      "metadata": {
        "colab": {
          "base_uri": "https://localhost:8080/"
        },
        "id": "CF6Go21ehqsb",
        "outputId": "d63bc3d0-f0d1-4801-ac00-c726d5ffdd29"
      },
      "execution_count": null,
      "outputs": [
        {
          "output_type": "stream",
          "name": "stdout",
          "text": [
            "[  0   0   0   0   1   2 195  19  49   2   2 190   4   2 352   2 183  10\n",
            "  10  13  82  79   4   2  36  71 269   8   2  25  19  49   7   4   2   2\n",
            "   2   2   2  10  10  48  25  40   2  11   2   2  40   2   2   5   4   2\n",
            "   2  95  14 238  56 129   2  10  10  21   2  94 364 352   2   2  11 190\n",
            "  24 484   2   7  94 205 405  10  10  87   2  34  49   2   7   2   2   2\n",
            "   2   2 290   2  46  48  64  18   4   2]\n"
          ]
        }
      ]
    },
    {
      "cell_type": "code",
      "source": [
        "# 순환 신경망 만들기\n",
        "\n",
        "from tensorflow import keras\n",
        "model = keras.Sequential()\n",
        "model.add(keras.layers.SimpleRNN(8, input_shape=(100,500)))\n",
        "# RNN의 기본 activation은 tanh를 사용\n",
        "model.add(keras.layers.Dense(1, activation='sigmoid'))"
      ],
      "metadata": {
        "id": "U0zslEqwh7I8"
      },
      "execution_count": null,
      "outputs": []
    },
    {
      "cell_type": "code",
      "source": [
        "# train_seq를 one-hot encoding을 시키기 위해 케라스 유틸리티 패키지를 사용\n",
        "\n",
        "train_oh = keras.utils.to_categorical(train_seq)"
      ],
      "metadata": {
        "id": "DzoT8DqpigZv"
      },
      "execution_count": null,
      "outputs": []
    },
    {
      "cell_type": "code",
      "source": [
        "print(train_oh.shape)\n",
        "\n",
        "\"\"\"\n",
        "(20000, 100, 500)\n",
        "(Sample의 개수, Sample 하나의 길이, Sample 하나의 단어 -> one-hot encoding 배열)\n",
        "\n",
        "이러한 이유에서 SimpleRNN의 input_shape를 (100, 500)으로 구성\n",
        "\"\"\""
      ],
      "metadata": {
        "colab": {
          "base_uri": "https://localhost:8080/",
          "height": 55
        },
        "id": "oxYA_YgJje9e",
        "outputId": "d3ce63f1-3f94-4871-e969-0780575b703e"
      },
      "execution_count": null,
      "outputs": [
        {
          "output_type": "stream",
          "name": "stdout",
          "text": [
            "(20000, 100, 500)\n"
          ]
        },
        {
          "output_type": "execute_result",
          "data": {
            "text/plain": [
              "'\\n(20000, 100, 500)\\n(Sample의 개수, Sample 하나의 길이, Sample 하나의 단어 -> one-hot encoding 배열)\\n\\n이러한 이유에서 SimpleRNN의 input_shape를 (100, 500)으로 구성\\n'"
            ],
            "application/vnd.google.colaboratory.intrinsic+json": {
              "type": "string"
            }
          },
          "metadata": {},
          "execution_count": 16
        }
      ]
    },
    {
      "cell_type": "code",
      "source": [
        "# one_hot encoding이 되었는지 출력을 통해 확인 (1)\n",
        "\n",
        "print(train_oh[0][0][:12])\n",
        "print(np.sum(train_oh[0][0]))"
      ],
      "metadata": {
        "colab": {
          "base_uri": "https://localhost:8080/"
        },
        "id": "Gx5G-ONVjxGH",
        "outputId": "8bf1c565-e830-4f36-ea0b-3ff62d4c3e61"
      },
      "execution_count": null,
      "outputs": [
        {
          "output_type": "stream",
          "name": "stdout",
          "text": [
            "[0. 0. 0. 0. 0. 0. 0. 0. 0. 0. 1. 0.]\n",
            "1.0\n"
          ]
        }
      ]
    },
    {
      "cell_type": "code",
      "source": [
        "# val_set도 마찬가지로 one-hot encoding\n",
        "\n",
        "val_seq = pad_sequences(val_input, maxlen=100)\n",
        "val_oh = keras.utils.to_categorical(val_seq)"
      ],
      "metadata": {
        "id": "0WxNGBdxkeh3"
      },
      "execution_count": null,
      "outputs": []
    },
    {
      "cell_type": "code",
      "source": [
        "# 모델 구조 출력\n",
        "\n",
        "model.summary()\n",
        "\n",
        "\"\"\"\n",
        "순환층 Param: 4072\n",
        "1) 입력 -> 순환층: 500 x 8 = 4000\n",
        "2) 순환층, Hidden State 순환: 8 x 8 = 64\n",
        "3) 순환층의 intercept: 8\n",
        "총 Param: 4000 + 64 + 8 = 4072 \n",
        "\n",
        "분류층(?) Param: 9\n",
        "\n",
        "1) 입력 -> Dense 층: 8 x 1 = 8\n",
        "2) Dense 층 intercept: 1\n",
        "총 Param: 8 + 1 = 9\n",
        "\"\"\""
      ],
      "metadata": {
        "colab": {
          "base_uri": "https://localhost:8080/",
          "height": 302
        },
        "id": "KdySKwQekpZQ",
        "outputId": "e05c966d-2168-4f4d-80ff-7854b8f05fb6"
      },
      "execution_count": null,
      "outputs": [
        {
          "output_type": "stream",
          "name": "stdout",
          "text": [
            "Model: \"sequential\"\n",
            "_________________________________________________________________\n",
            " Layer (type)                Output Shape              Param #   \n",
            "=================================================================\n",
            " simple_rnn (SimpleRNN)      (None, 8)                 4072      \n",
            "                                                                 \n",
            " dense (Dense)               (None, 1)                 9         \n",
            "                                                                 \n",
            "=================================================================\n",
            "Total params: 4,081\n",
            "Trainable params: 4,081\n",
            "Non-trainable params: 0\n",
            "_________________________________________________________________\n"
          ]
        },
        {
          "output_type": "execute_result",
          "data": {
            "text/plain": [
              "'\\n순환층 Param: 4072\\n1) 입력 -> 순환층: 500 x 8 = 4000\\n2) 순환층, Hidden State 순환: 8 x 8 = 64\\n3) 순환층의 intercept: 8\\n총 Param: 4000 + 64 + 8 = 4072 \\n\\n분류층(?) Param: 9\\n\\n1) 입력 -> Dense 층: 8 x 1 = 8\\n2) Dense 층 intercept: 1\\n총 Param: 8 + 1 = 9\\n'"
            ],
            "application/vnd.google.colaboratory.intrinsic+json": {
              "type": "string"
            }
          },
          "metadata": {},
          "execution_count": 19
        }
      ]
    },
    {
      "cell_type": "code",
      "source": [
        "# 순환 신경망 훈련 (using one-hot encoding)\n",
        "rmsprop = keras.optimizers.RMSprop(learning_rate=1e-4)\n",
        "model.compile(optimizer=rmsprop, loss='binary_crossentropy', metrics=['accuracy'])\n",
        "\n",
        "checkpoint_cb = keras.callbacks.ModelCheckpoint('best-simplernn-model.h5', save_best_only=True)\n",
        "early_stopping_cb = keras.callbacks.EarlyStopping(patience=3, restore_best_weights=True)\n",
        "\n",
        "history = model.fit(train_oh, train_target, epochs=100, batch_size=4,\n",
        "                    validation_data=(val_oh, val_target),\n",
        "                    callbacks=[checkpoint_cb, early_stopping_cb])"
      ],
      "metadata": {
        "colab": {
          "base_uri": "https://localhost:8080/"
        },
        "id": "AomNuLekl2Lf",
        "outputId": "a71c9518-1327-41a3-d225-a4cb67665a11"
      },
      "execution_count": null,
      "outputs": [
        {
          "output_type": "stream",
          "name": "stdout",
          "text": [
            "Epoch 1/100\n",
            "5000/5000 [==============================] - 253s 50ms/step - loss: 0.6932 - accuracy: 0.5186 - val_loss: 0.6801 - val_accuracy: 0.5924\n",
            "Epoch 2/100\n",
            "5000/5000 [==============================] - 242s 48ms/step - loss: 0.6543 - accuracy: 0.6382 - val_loss: 0.6266 - val_accuracy: 0.6824\n",
            "Epoch 3/100\n",
            "5000/5000 [==============================] - 241s 48ms/step - loss: 0.5935 - accuracy: 0.7103 - val_loss: 0.5688 - val_accuracy: 0.7164\n",
            "Epoch 4/100\n",
            "5000/5000 [==============================] - 240s 48ms/step - loss: 0.5429 - accuracy: 0.7445 - val_loss: 0.5299 - val_accuracy: 0.7526\n",
            "Epoch 5/100\n",
            "5000/5000 [==============================] - 240s 48ms/step - loss: 0.5041 - accuracy: 0.7686 - val_loss: 0.4992 - val_accuracy: 0.7658\n",
            "Epoch 6/100\n",
            "5000/5000 [==============================] - 242s 48ms/step - loss: 0.4790 - accuracy: 0.7830 - val_loss: 0.4745 - val_accuracy: 0.7796\n",
            "Epoch 7/100\n",
            "5000/5000 [==============================] - 240s 48ms/step - loss: 0.4599 - accuracy: 0.7929 - val_loss: 0.4683 - val_accuracy: 0.7814\n",
            "Epoch 8/100\n",
            "5000/5000 [==============================] - 242s 48ms/step - loss: 0.4466 - accuracy: 0.7998 - val_loss: 0.4629 - val_accuracy: 0.7790\n",
            "Epoch 9/100\n",
            "5000/5000 [==============================] - 242s 48ms/step - loss: 0.4366 - accuracy: 0.8023 - val_loss: 0.4478 - val_accuracy: 0.7884\n",
            "Epoch 10/100\n",
            "5000/5000 [==============================] - 243s 49ms/step - loss: 0.4309 - accuracy: 0.8074 - val_loss: 0.4460 - val_accuracy: 0.7916\n",
            "Epoch 11/100\n",
            "5000/5000 [==============================] - 245s 49ms/step - loss: 0.4249 - accuracy: 0.8091 - val_loss: 0.4469 - val_accuracy: 0.7902\n",
            "Epoch 12/100\n",
            "5000/5000 [==============================] - 244s 49ms/step - loss: 0.4201 - accuracy: 0.8116 - val_loss: 0.4439 - val_accuracy: 0.7900\n",
            "Epoch 13/100\n",
            "5000/5000 [==============================] - 244s 49ms/step - loss: 0.4160 - accuracy: 0.8123 - val_loss: 0.4435 - val_accuracy: 0.7920\n",
            "Epoch 14/100\n",
            "5000/5000 [==============================] - 246s 49ms/step - loss: 0.4140 - accuracy: 0.8143 - val_loss: 0.4505 - val_accuracy: 0.7922\n",
            "Epoch 15/100\n",
            "5000/5000 [==============================] - 245s 49ms/step - loss: 0.4125 - accuracy: 0.8158 - val_loss: 0.4558 - val_accuracy: 0.7934\n",
            "Epoch 16/100\n",
            "5000/5000 [==============================] - 244s 49ms/step - loss: 0.4108 - accuracy: 0.8169 - val_loss: 0.4504 - val_accuracy: 0.7934\n"
          ]
        }
      ]
    },
    {
      "cell_type": "code",
      "source": [
        "# 훈련 및 검증 손실 그래프\n",
        "\n",
        "plt.plot(history.history['loss'])\n",
        "plt.plot(history.history['val_loss'])\n",
        "plt.xlabel('epoch')\n",
        "plt.ylabel('loss')\n",
        "plt.legend(['train', 'val'])\n",
        "plt.show()"
      ],
      "metadata": {
        "id": "26mtig1ymtpM",
        "colab": {
          "base_uri": "https://localhost:8080/",
          "height": 279
        },
        "outputId": "c0352e8c-4778-4e09-a558-6b17b77625ac"
      },
      "execution_count": null,
      "outputs": [
        {
          "output_type": "display_data",
          "data": {
            "text/plain": [
              "<Figure size 432x288 with 1 Axes>"
            ],
            "image/png": "[encoded data removed]"
          },
          "metadata": {
            "needs_background": "light"
          }
        }
      ]
    },
    {
      "cell_type": "code",
      "source": [
        "\"\"\"\n",
        "RNN one-hot encoding의 단점\n",
        "입력 데이터의 크기가 너무크다보니 오래 걸린다.\n",
        "\"\"\"\n",
        "\n",
        "print(train_seq.nbytes, train_oh.nbytes)"
      ],
      "metadata": {
        "colab": {
          "base_uri": "https://localhost:8080/"
        },
        "id": "oboLtzXlQQGq",
        "outputId": "7dcacfea-15af-4ed2-81c4-03dc5c981290"
      },
      "execution_count": null,
      "outputs": [
        {
          "output_type": "stream",
          "name": "stdout",
          "text": [
            "8000000 4000000000\n"
          ]
        }
      ]
    },
    {
      "cell_type": "code",
      "source": [
        "\"\"\"\n",
        "Word Embedding\n",
        "숫자마다 고유한 실수 벡터를 부여하여 one-hot encoding의 단점을 커버한다.\n",
        "\"\"\"\n",
        "model2 = keras.Sequential()\n",
        "model2.add(keras.layers.Embedding(500, 16, input_length=100))\n",
        "model2.add(keras.layers.SimpleRNN(8))\n",
        "model2.add(keras.layers.Dense(1, activation='sigmoid'))"
      ],
      "metadata": {
        "id": "vjrW8E0mQga0"
      },
      "execution_count": null,
      "outputs": []
    },
    {
      "cell_type": "code",
      "source": [
        "model2.summary()"
      ],
      "metadata": {
        "colab": {
          "base_uri": "https://localhost:8080/"
        },
        "id": "z6GIklMDQ3wX",
        "outputId": "3dae5abc-fb59-4c97-d957-0b0ffb0e39e4"
      },
      "execution_count": null,
      "outputs": [
        {
          "output_type": "stream",
          "name": "stdout",
          "text": [
            "Model: \"sequential_1\"\n",
            "_________________________________________________________________\n",
            " Layer (type)                Output Shape              Param #   \n",
            "=================================================================\n",
            " embedding (Embedding)       (None, 100, 16)           8000      \n",
            "                                                                 \n",
            " simple_rnn_1 (SimpleRNN)    (None, 8)                 200       \n",
            "                                                                 \n",
            " dense_1 (Dense)             (None, 1)                 9         \n",
            "                                                                 \n",
            "=================================================================\n",
            "Total params: 8,209\n",
            "Trainable params: 8,209\n",
            "Non-trainable params: 0\n",
            "_________________________________________________________________\n"
          ]
        }
      ]
    },
    {
      "cell_type": "code",
      "source": [
        "# 모델 훈련\n",
        "\n",
        "rmsprop = keras.optimizers.RMSprop(learning_rate=1e-4)\n",
        "model2.compile(optimizer=rmsprop, loss='binary_crossentropy', metrics=['accuracy'])\n",
        "checkpoint_cb = keras.callbacks.ModelCheckpoint('best-embedding-model.h5',\n",
        "                                                save_best_only=True)\n",
        "early_stopping_cb = keras.callbacks.EarlyStopping(patience=3, restore_best_weights=True)\n",
        "history = model2.fit(train_seq, train_target, epochs=100, batch_size=64,\n",
        "                     validation_data=(val_seq, val_target),\n",
        "                     callbacks=[checkpoint_cb, early_stopping_cb])"
      ],
      "metadata": {
        "colab": {
          "base_uri": "https://localhost:8080/"
        },
        "id": "6vYbhgX1Q5Cc",
        "outputId": "f969f293-cb6f-4650-f641-f8adb54a2688"
      },
      "execution_count": null,
      "outputs": [
        {
          "output_type": "stream",
          "name": "stdout",
          "text": [
            "Epoch 1/100\n",
            "313/313 [==============================] - 32s 97ms/step - loss: 0.6723 - accuracy: 0.5857 - val_loss: 0.6447 - val_accuracy: 0.6522\n",
            "Epoch 2/100\n",
            "313/313 [==============================] - 31s 99ms/step - loss: 0.6255 - accuracy: 0.6825 - val_loss: 0.6104 - val_accuracy: 0.7090\n",
            "Epoch 3/100\n",
            "313/313 [==============================] - 29s 91ms/step - loss: 0.5942 - accuracy: 0.7222 - val_loss: 0.5853 - val_accuracy: 0.7290\n",
            "Epoch 4/100\n",
            "313/313 [==============================] - 29s 92ms/step - loss: 0.5703 - accuracy: 0.7441 - val_loss: 0.5673 - val_accuracy: 0.7422\n",
            "Epoch 5/100\n",
            "313/313 [==============================] - 29s 92ms/step - loss: 0.5506 - accuracy: 0.7586 - val_loss: 0.5537 - val_accuracy: 0.7486\n",
            "Epoch 6/100\n",
            "313/313 [==============================] - 30s 96ms/step - loss: 0.5334 - accuracy: 0.7714 - val_loss: 0.5404 - val_accuracy: 0.7558\n",
            "Epoch 7/100\n",
            "313/313 [==============================] - 29s 92ms/step - loss: 0.5183 - accuracy: 0.7800 - val_loss: 0.5292 - val_accuracy: 0.7614\n",
            "Epoch 8/100\n",
            "313/313 [==============================] - 29s 93ms/step - loss: 0.5045 - accuracy: 0.7871 - val_loss: 0.5179 - val_accuracy: 0.7704\n",
            "Epoch 9/100\n",
            "313/313 [==============================] - 29s 94ms/step - loss: 0.4927 - accuracy: 0.7890 - val_loss: 0.5093 - val_accuracy: 0.7708\n",
            "Epoch 10/100\n",
            "313/313 [==============================] - 29s 94ms/step - loss: 0.4817 - accuracy: 0.7958 - val_loss: 0.4990 - val_accuracy: 0.7750\n",
            "Epoch 11/100\n",
            "313/313 [==============================] - 29s 94ms/step - loss: 0.4715 - accuracy: 0.7983 - val_loss: 0.4892 - val_accuracy: 0.7794\n",
            "Epoch 12/100\n",
            "313/313 [==============================] - 28s 91ms/step - loss: 0.4621 - accuracy: 0.8032 - val_loss: 0.4936 - val_accuracy: 0.7726\n",
            "Epoch 13/100\n",
            "313/313 [==============================] - 29s 92ms/step - loss: 0.4547 - accuracy: 0.8056 - val_loss: 0.4813 - val_accuracy: 0.7764\n",
            "Epoch 14/100\n",
            "313/313 [==============================] - 29s 93ms/step - loss: 0.4463 - accuracy: 0.8094 - val_loss: 0.4741 - val_accuracy: 0.7796\n",
            "Epoch 15/100\n",
            "313/313 [==============================] - 28s 91ms/step - loss: 0.4412 - accuracy: 0.8084 - val_loss: 0.4735 - val_accuracy: 0.7778\n",
            "Epoch 16/100\n",
            "313/313 [==============================] - 28s 91ms/step - loss: 0.4356 - accuracy: 0.8116 - val_loss: 0.4697 - val_accuracy: 0.7846\n",
            "Epoch 17/100\n",
            "313/313 [==============================] - 28s 91ms/step - loss: 0.4306 - accuracy: 0.8144 - val_loss: 0.4663 - val_accuracy: 0.7856\n",
            "Epoch 18/100\n",
            "313/313 [==============================] - 29s 94ms/step - loss: 0.4269 - accuracy: 0.8151 - val_loss: 0.4746 - val_accuracy: 0.7790\n",
            "Epoch 19/100\n",
            "313/313 [==============================] - 29s 92ms/step - loss: 0.4243 - accuracy: 0.8166 - val_loss: 0.4676 - val_accuracy: 0.7848\n",
            "Epoch 20/100\n",
            "313/313 [==============================] - 29s 93ms/step - loss: 0.4199 - accuracy: 0.8181 - val_loss: 0.4667 - val_accuracy: 0.7834\n"
          ]
        }
      ]
    },
    {
      "cell_type": "code",
      "source": [
        "# 훈련 및 검증 손실 그래프\n",
        "\n",
        "plt.plot(history.history['loss'])\n",
        "plt.plot(history.history['val_loss'])\n",
        "plt.xlabel('epoch')\n",
        "plt.ylabel('loss')\n",
        "plt.legend(['train', 'val'])\n",
        "plt.show()"
      ],
      "metadata": {
        "colab": {
          "base_uri": "https://localhost:8080/",
          "height": 279
        },
        "id": "W-eTTk9FSEBa",
        "outputId": "8cf1c473-7e83-4b28-b0e4-398766c85a84"
      },
      "execution_count": null,
      "outputs": [
        {
          "output_type": "display_data",
          "data": {
            "text/plain": [
              "<Figure size 432x288 with 1 Axes>"
            ],
            "image/png": "[encoded data removed]"
          },
          "metadata": {
            "needs_background": "light"
          }
        }
      ]
    }
  ]
}