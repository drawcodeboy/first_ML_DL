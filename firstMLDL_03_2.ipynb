{
  "nbformat": 4,
  "nbformat_minor": 0,
  "metadata": {
    "colab": {
      "name": "firstMLDL_03_2.ipynb",
      "provenance": [],
      "collapsed_sections": [],
      "authorship_tag": "ABX9TyNXRzmf4G1lOczcL5fDp83p",
      "include_colab_link": true
    },
    "kernelspec": {
      "name": "python3",
      "display_name": "Python 3"
    },
    "language_info": {
      "name": "python"
    }
  },
  "cells": [
    {
      "cell_type": "markdown",
      "metadata": {
        "id": "view-in-github",
        "colab_type": "text"
      },
      "source": [
        "<a href=\"https://colab.research.google.com/github/drawcodeboy/first_ML_DL/blob/main/firstMLDL_03_2.ipynb\" target=\"_parent\"><img src=\"https://colab.research.google.com/assets/colab-badge.svg\" alt=\"Open In Colab\"/></a>"
      ]
    },
    {
      "cell_type": "markdown",
      "source": [
        "#Linear Regression\n",
        ">* KNN의 한계\n",
        ">* 선형 회귀(Linear Regression)란?\n",
        ">* Linear Regression의 대안: Polynomial Regression"
      ],
      "metadata": {
        "id": "qZ9u6QjIrvkm"
      }
    },
    {
      "cell_type": "markdown",
      "source": [
        "# K-최근접 이웃의 한계"
      ],
      "metadata": {
        "id": "0WGEIqK0sIgh"
      }
    },
    {
      "cell_type": "code",
      "execution_count": 3,
      "metadata": {
        "id": "yBrAi2ucrsWT"
      },
      "outputs": [],
      "source": [
        "# 데이터 준비\n",
        "\n",
        "import numpy as np\n",
        "\n",
        "perch_length = np.array(\n",
        "    [8.4, 13.7, 15.0, 16.2, 17.4, 18.0, 18.7, 19.0, 19.6, 20.0, \n",
        "     21.0, 21.0, 21.0, 21.3, 22.0, 22.0, 22.0, 22.0, 22.0, 22.5, \n",
        "     22.5, 22.7, 23.0, 23.5, 24.0, 24.0, 24.6, 25.0, 25.6, 26.5, \n",
        "     27.3, 27.5, 27.5, 27.5, 28.0, 28.7, 30.0, 32.8, 34.5, 35.0, \n",
        "     36.5, 36.0, 37.0, 37.0, 39.0, 39.0, 39.0, 40.0, 40.0, 40.0, \n",
        "     40.0, 42.0, 43.0, 43.0, 43.5, 44.0]\n",
        "     )\n",
        "perch_weight = np.array(\n",
        "    [5.9, 32.0, 40.0, 51.5, 70.0, 100.0, 78.0, 80.0, 85.0, 85.0, \n",
        "     110.0, 115.0, 125.0, 130.0, 120.0, 120.0, 130.0, 135.0, 110.0, \n",
        "     130.0, 150.0, 145.0, 150.0, 170.0, 225.0, 145.0, 188.0, 180.0, \n",
        "     197.0, 218.0, 300.0, 260.0, 265.0, 250.0, 250.0, 300.0, 320.0, \n",
        "     514.0, 556.0, 840.0, 685.0, 700.0, 700.0, 690.0, 900.0, 650.0, \n",
        "     820.0, 850.0, 900.0, 1015.0, 820.0, 1100.0, 1000.0, 1100.0, \n",
        "     1000.0, 1000.0]\n",
        "     )"
      ]
    },
    {
      "cell_type": "code",
      "source": [
        "from sklearn.model_selection import train_test_split\n",
        "\n",
        "train_input, test_input, train_target, test_target = train_test_split(\n",
        "    perch_length, perch_weight, random_state = 42\n",
        ")\n",
        "\n",
        "train_input = train_input.reshape(-1, 1)\n",
        "test_input = test_input.reshape(-1, 1)"
      ],
      "metadata": {
        "id": "gpwAlFKlsH5w"
      },
      "execution_count": 4,
      "outputs": []
    },
    {
      "cell_type": "code",
      "source": [
        "from sklearn.neighbors import KNeighborsRegressor\n",
        "\n",
        "knr = KNeighborsRegressor(n_neighbors = 3)\n",
        "\n",
        "knr.fit(train_input, train_target)"
      ],
      "metadata": {
        "colab": {
          "base_uri": "https://localhost:8080/"
        },
        "id": "6IGQfcgMs7so",
        "outputId": "ccebda17-6fcb-49cd-fc73-e432d2f7e96c"
      },
      "execution_count": 5,
      "outputs": [
        {
          "output_type": "execute_result",
          "data": {
            "text/plain": [
              "KNeighborsRegressor(n_neighbors=3)"
            ]
          },
          "metadata": {},
          "execution_count": 5
        }
      ]
    },
    {
      "cell_type": "code",
      "source": [
        "print(knr.predict([[50]]))\n",
        "\n",
        "# 훨씬 더 많이 나갈 것으로 예상한 농어의 무게가 1033.3333333g으로 예측된다"
      ],
      "metadata": {
        "colab": {
          "base_uri": "https://localhost:8080/"
        },
        "id": "7uAly5r9tLba",
        "outputId": "8e1a79e5-14ce-4b79-a7e0-ae6f9f6517b7"
      },
      "execution_count": 6,
      "outputs": [
        {
          "output_type": "stream",
          "name": "stdout",
          "text": [
            "[1033.33333333]\n"
          ]
        }
      ]
    },
    {
      "cell_type": "code",
      "source": [
        "import matplotlib.pyplot as plt\n",
        "\n",
        "distances, indexes = knr.kneighbors([[50]])\n",
        "\n",
        "plt.scatter(train_input, train_target)\n",
        "plt.scatter(train_input[indexes], train_target[indexes], marker = 'D')\n",
        "plt.scatter(50, 1033.33333333, marker = '^')\n",
        "plt.show()"
      ],
      "metadata": {
        "colab": {
          "base_uri": "https://localhost:8080/",
          "height": 265
        },
        "id": "_Q6eRNU5tbxW",
        "outputId": "3010ecf7-057e-4bec-c6de-b38192af8849"
      },
      "execution_count": 7,
      "outputs": [
        {
          "output_type": "display_data",
          "data": {
            "text/plain": [
              "<Figure size 432x288 with 1 Axes>"
            ],
            "image/png": "[encoded data removed]"
          },
          "metadata": {
            "needs_background": "light"
          }
        }
      ]
    },
    {
      "cell_type": "markdown",
      "source": [
        ">* 위 산점도를 보면 50cm 샘플 근처에 있는 샘플들은 45cm 근방이기 때문에 45cm 근방에 있는 샘플들의 평균을 구하여 예측값을 내놓는다.\n",
        "- -> <b>KNN의 한계</b>"
      ],
      "metadata": {
        "id": "tkv2yHQe9dae"
      }
    },
    {
      "cell_type": "markdown",
      "source": [
        "#Linear Regression\n",
        ">* feature가 하나인 경우 <b>어떤 직선을 학습</b>하는 알고리즘\n",
        "- 하나의 직선을 그리려면 <b>y = a * x + b</b>와 같은 식이 필요함 여기서 x를 feature, y를 결과값이라 본다면 모델을 통해서 a와 b를 찾는 것이다.\n",
        "- <b>a = coefficient(계수), b = intercept(절편)</b>\n",
        "- 머신러닝을 통해 모델이 찾은 coef_와 intercept_를 <b>Model Parameter</b>라고 한다.\n",
        "- 이런 것처럼 알고리즘의 훈련 과정은 최적의 Model Paremeter를 찾는 것과 같은데 이를 <b>모델 기반 학습</b>이라 하고, KNN과 같이 Model Parameter가 없는 경우를 <b>사례 기반 학습</b>이라 한다.\n",
        "\n",
        "#다항 회귀(Polynomial Regression)\n",
        ">* Linear Regression에서 현실에서 일어날 수 없는 일에 대한 데이터를 없애고자 <b>최적의 직선</b>이 아닌 <b>최적의 곡선</b>을 찾는 것이 맞다고 판단"
      ],
      "metadata": {
        "id": "nwVuTMW3-H7y"
      }
    },
    {
      "cell_type": "code",
      "source": [
        "# 모델 학습 및 KNN의 한계에 부딪히던 데이터 predict\n",
        "\n",
        "from sklearn.linear_model import LinearRegression\n",
        "lr = LinearRegression()\n",
        "\n",
        "lr.fit(train_input, train_target)\n",
        "\n",
        "print(lr.predict([[50]]))\n",
        "# -> 1033.3333333에서 1241.83860323로 예측"
      ],
      "metadata": {
        "colab": {
          "base_uri": "https://localhost:8080/"
        },
        "id": "FYyzHcBe9vPp",
        "outputId": "dd1d10af-08f7-44fe-8094-ea2efab8158c"
      },
      "execution_count": 28,
      "outputs": [
        {
          "output_type": "stream",
          "name": "stdout",
          "text": [
            "[1241.83860323]\n"
          ]
        }
      ]
    },
    {
      "cell_type": "code",
      "source": [
        "# lr의 객체 coef_, intercept_ 속성에 저장되어있다.\n",
        "\n",
        "print(lr.coef_, lr.intercept_)"
      ],
      "metadata": {
        "colab": {
          "base_uri": "https://localhost:8080/"
        },
        "id": "5LgN4FWc_fdA",
        "outputId": "e4595358-2201-4688-bfc2-48b1cbbb8bef"
      },
      "execution_count": 29,
      "outputs": [
        {
          "output_type": "stream",
          "name": "stdout",
          "text": [
            "[39.01714496] -709.0186449535477\n"
          ]
        }
      ]
    },
    {
      "cell_type": "code",
      "source": [
        "# 농어의 길이 15cm에서 50cm까지의 직선을 산점도로 그려보자.\n",
        "\n",
        "plt.scatter(train_input, train_target)\n",
        "plt.plot([15, 50], [15 * lr.coef_ + lr.intercept_, 50 * lr.coef_ + lr.intercept_])\n",
        "plt.show()"
      ],
      "metadata": {
        "colab": {
          "base_uri": "https://localhost:8080/",
          "height": 265
        },
        "id": "5ktDBcB5Aewc",
        "outputId": "3addad2d-0fcb-4cfb-d531-f3a7e27ecc56"
      },
      "execution_count": 30,
      "outputs": [
        {
          "output_type": "display_data",
          "data": {
            "text/plain": [
              "<Figure size 432x288 with 1 Axes>"
            ],
            "image/png": "[encoded data removed]"
          },
          "metadata": {
            "needs_background": "light"
          }
        }
      ]
    },
    {
      "cell_type": "code",
      "source": [
        "print(lr.score(train_input, train_target))\n",
        "print(lr.score(test_input, test_target))\n",
        "\n",
        "# 테스트 세트에 대한 점수가 너무 작음 -> Overfitting으로 볼 수도 있지만\n",
        "# 훈련 세트에 대한 점수가 그렇게 크지도 않다.\n",
        "\n",
        "# 산점도에서 특이사항 발견 x가 15일 때, 음수값이 측정되는데 이는 현실에서 있을 수 없는 일"
      ],
      "metadata": {
        "colab": {
          "base_uri": "https://localhost:8080/"
        },
        "id": "Zf1k2eCBBvh-",
        "outputId": "0a4e9526-f1c5-4c08-d3a5-be040054e43e"
      },
      "execution_count": 31,
      "outputs": [
        {
          "output_type": "stream",
          "name": "stdout",
          "text": [
            "0.939846333997604\n",
            "0.8247503123313558\n"
          ]
        }
      ]
    },
    {
      "cell_type": "code",
      "source": [
        "# Polynomial Regression으로 학습시켜보자.\n",
        "\n",
        "train_poly = np.column_stack((train_input ** 2, train_input)) # 제곱한 항과 1차 항을 set으로 만듬\n",
        "test_poly = np.column_stack((test_input ** 2, test_input))\n",
        "\n",
        "print(train_poly.shape, test_poly.shape) # shape 출력 결과 특이사항 없음"
      ],
      "metadata": {
        "colab": {
          "base_uri": "https://localhost:8080/"
        },
        "id": "gs02L4FzCVDj",
        "outputId": "22607e2f-184e-4515-bf48-ce0a12d5810f"
      },
      "execution_count": 33,
      "outputs": [
        {
          "output_type": "stream",
          "name": "stdout",
          "text": [
            "(42, 2) (14, 2)\n"
          ]
        }
      ]
    },
    {
      "cell_type": "code",
      "source": [
        "lr = LinearRegression()\n",
        "lr.fit(train_poly, train_target)\n",
        "\n",
        "print(lr.predict([[50 ** 2, 50]])) # 1573.98423528으로 선형 회귀를 한 것보다 높게 나옴\n",
        "\n",
        "print(lr.coef_, lr.intercept_) \n",
        "# 이 모델은 데이터를 학습하여 다음과 같은 Model Parameter를 만들어냈다.\n",
        "# predict_value = 1.01433211 * (feature)^2 - 21.55792498 * feature + 116.0502107827827"
      ],
      "metadata": {
        "colab": {
          "base_uri": "https://localhost:8080/"
        },
        "id": "OJVz0O9XDi9a",
        "outputId": "6939a765-596b-40ad-be11-1b9f1f9f7a8f"
      },
      "execution_count": 36,
      "outputs": [
        {
          "output_type": "stream",
          "name": "stdout",
          "text": [
            "[1573.98423528]\n",
            "[  1.01433211 -21.55792498] 116.0502107827827\n"
          ]
        }
      ]
    },
    {
      "cell_type": "code",
      "source": [
        "point = np.arange(15, 50 + 1)\n",
        "\n",
        "plt.scatter(train_input, train_target)\n",
        "plt.plot(point, lr.coef_[0] * point ** 2 + lr.coef_[1] * point + lr.intercept_)\n",
        "plt.scatter(50, 1574, marker = '^') # 농어 50cm에 대한 실제 무게 scatter plot에 입력\n",
        "plt.show()"
      ],
      "metadata": {
        "colab": {
          "base_uri": "https://localhost:8080/",
          "height": 265
        },
        "id": "Nj3bZaiFD6pp",
        "outputId": "cbe270fb-b15a-43d9-e6a6-a2a9c8bad289"
      },
      "execution_count": 37,
      "outputs": [
        {
          "output_type": "display_data",
          "data": {
            "text/plain": [
              "<Figure size 432x288 with 1 Axes>"
            ],
            "image/png": "[encoded data removed]"
          },
          "metadata": {
            "needs_background": "light"
          }
        }
      ]
    },
    {
      "cell_type": "code",
      "source": [
        "print(lr.score(train_poly, train_target))\n",
        "print(lr.score(test_poly, test_target))\n",
        "\n",
        "# 아직도 Underfitting이 남아있다."
      ],
      "metadata": {
        "colab": {
          "base_uri": "https://localhost:8080/"
        },
        "id": "UOraPTqwFTPz",
        "outputId": "4427c90d-9b86-4354-ec55-49c9bc7664d9"
      },
      "execution_count": 39,
      "outputs": [
        {
          "output_type": "stream",
          "name": "stdout",
          "text": [
            "0.9706807451768623\n",
            "0.9775935108325122\n"
          ]
        }
      ]
    }
  ]
}