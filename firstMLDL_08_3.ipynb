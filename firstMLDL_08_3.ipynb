{
  "nbformat": 4,
  "nbformat_minor": 0,
  "metadata": {
    "colab": {
      "provenance": [],
      "collapsed_sections": [],
      "authorship_tag": "ABX9TyNTVBPk4cGn4w7ggntEhacV",
      "include_colab_link": true
    },
    "kernelspec": {
      "name": "python3",
      "display_name": "Python 3"
    },
    "language_info": {
      "name": "python"
    }
  },
  "cells": [
    {
      "cell_type": "markdown",
      "metadata": {
        "id": "view-in-github",
        "colab_type": "text"
      },
      "source": [
        "<a href=\"https://colab.research.google.com/github/drawcodeboy/first_ML_DL/blob/main/firstMLDL_08_3.ipynb\" target=\"_parent\"><img src=\"https://colab.research.google.com/assets/colab-badge.svg\" alt=\"Open In Colab\"/></a>"
      ]
    },
    {
      "cell_type": "markdown",
      "source": [
        "# CNN의 시각화\n",
        "\n",
        ">* 훈련된 합성곱층의 가중치 분포 확인\n",
        ">* 필터의 가중치 시각화\n",
        ">* functional API를 이용한 모델 생성\n",
        ">* functional API가 왜 필요한가? (부분적인 모델)\n",
        ">* Feature Map 시각화, 필터를 통해 어느 부분이 제일 활성화 되었는가 눈으로 확인 할 수 있었다."
      ],
      "metadata": {
        "id": "7iQpHg9gES1L"
      }
    },
    {
      "cell_type": "code",
      "execution_count": 1,
      "metadata": {
        "colab": {
          "base_uri": "https://localhost:8080/"
        },
        "id": "Gnh_ovl-tIE9",
        "outputId": "b272a846-09fc-42df-95ab-fd78f0ce0476"
      },
      "outputs": [
        {
          "output_type": "stream",
          "name": "stdout",
          "text": [
            "Downloading data from https://storage.googleapis.com/tensorflow/tf-keras-datasets/train-labels-idx1-ubyte.gz\n",
            "32768/29515 [=================================] - 0s 0us/step\n",
            "40960/29515 [=========================================] - 0s 0us/step\n",
            "Downloading data from https://storage.googleapis.com/tensorflow/tf-keras-datasets/train-images-idx3-ubyte.gz\n",
            "26427392/26421880 [==============================] - 0s 0us/step\n",
            "26435584/26421880 [==============================] - 0s 0us/step\n",
            "Downloading data from https://storage.googleapis.com/tensorflow/tf-keras-datasets/t10k-labels-idx1-ubyte.gz\n",
            "16384/5148 [===============================================================================================] - 0s 0us/step\n",
            "Downloading data from https://storage.googleapis.com/tensorflow/tf-keras-datasets/t10k-images-idx3-ubyte.gz\n",
            "4423680/4422102 [==============================] - 0s 0us/step\n",
            "4431872/4422102 [==============================] - 0s 0us/step\n"
          ]
        }
      ],
      "source": [
        "from tensorflow import keras\n",
        "from sklearn.model_selection import train_test_split\n",
        "(train_input, train_target), (test_input, test_target) =\\\n",
        "    keras.datasets.fashion_mnist.load_data()\n",
        "train_scaled = train_input.reshape(-1, 28, 28, 1) / 255.0 #CNN을 위해 reshape\n",
        "train_scaled, val_scaled, train_target, val_target = train_test_split(\n",
        "    train_scaled, train_target, test_size=0.2, random_state=42\n",
        ")"
      ]
    },
    {
      "cell_type": "code",
      "source": [
        "model = keras.Sequential()\n",
        "model.add(keras.layers.Conv2D(32, kernel_size=3, activation='relu',\n",
        "                              padding='same', input_shape=(28, 28, 1)))\n",
        "model.add(keras.layers.MaxPooling2D(2))\n",
        "model.add(keras.layers.Conv2D(64, kernel_size=3, activation='relu',\n",
        "                              padding='same'))\n",
        "model.add(keras.layers.MaxPooling2D(2))\n",
        "model.add(keras.layers.Flatten())\n",
        "model.add(keras.layers.Dense(100, activation='relu'))\n",
        "model.add(keras.layers.Dropout(0.4))\n",
        "model.add(keras.layers.Dense(10, activation='softmax'))\n",
        "\n",
        "model.compile(optimizer='adam', loss='sparse_categorical_crossentropy',\n",
        "              metrics='accuracy')\n",
        "\n",
        "checkpoint_cb = keras.callbacks.ModelCheckpoint('best-cnn-model.h5',\n",
        "                                                save_best_only=True)\n",
        "early_stopping_cb = keras.callbacks.EarlyStopping(patience=2,\n",
        "                                                  restore_best_weights=True)\n",
        "\n",
        "history = model.fit(train_scaled, train_target, epochs=20,\n",
        "                    validation_data=(val_scaled, val_target),\n",
        "                    callbacks=[checkpoint_cb, early_stopping_cb])"
      ],
      "metadata": {
        "colab": {
          "base_uri": "https://localhost:8080/"
        },
        "id": "JyF0D3UNtJJh",
        "outputId": "815b2a3e-7ca3-4060-bc58-f6a00299cb9e"
      },
      "execution_count": 2,
      "outputs": [
        {
          "output_type": "stream",
          "name": "stdout",
          "text": [
            "Epoch 1/20\n",
            "1500/1500 [==============================] - 70s 45ms/step - loss: 0.5181 - accuracy: 0.8160 - val_loss: 0.3266 - val_accuracy: 0.8837\n",
            "Epoch 2/20\n",
            "1500/1500 [==============================] - 59s 39ms/step - loss: 0.3436 - accuracy: 0.8771 - val_loss: 0.2886 - val_accuracy: 0.8907\n",
            "Epoch 3/20\n",
            "1500/1500 [==============================] - 57s 38ms/step - loss: 0.2951 - accuracy: 0.8942 - val_loss: 0.2479 - val_accuracy: 0.9064\n",
            "Epoch 4/20\n",
            "1500/1500 [==============================] - 57s 38ms/step - loss: 0.2621 - accuracy: 0.9045 - val_loss: 0.2437 - val_accuracy: 0.9087\n",
            "Epoch 5/20\n",
            "1500/1500 [==============================] - 58s 39ms/step - loss: 0.2363 - accuracy: 0.9133 - val_loss: 0.2279 - val_accuracy: 0.9154\n",
            "Epoch 6/20\n",
            "1500/1500 [==============================] - 57s 38ms/step - loss: 0.2148 - accuracy: 0.9210 - val_loss: 0.2273 - val_accuracy: 0.9163\n",
            "Epoch 7/20\n",
            "1500/1500 [==============================] - 58s 39ms/step - loss: 0.2031 - accuracy: 0.9254 - val_loss: 0.2283 - val_accuracy: 0.9192\n",
            "Epoch 8/20\n",
            "1500/1500 [==============================] - 58s 38ms/step - loss: 0.1859 - accuracy: 0.9313 - val_loss: 0.2114 - val_accuracy: 0.9225\n",
            "Epoch 9/20\n",
            "1500/1500 [==============================] - 58s 39ms/step - loss: 0.1735 - accuracy: 0.9353 - val_loss: 0.2281 - val_accuracy: 0.9191\n",
            "Epoch 10/20\n",
            "1500/1500 [==============================] - 60s 40ms/step - loss: 0.1605 - accuracy: 0.9397 - val_loss: 0.2216 - val_accuracy: 0.9218\n"
          ]
        }
      ]
    },
    {
      "cell_type": "code",
      "source": [
        "model = keras.models.load_model('best-cnn-model.h5')"
      ],
      "metadata": {
        "id": "bKSzy1KRtjf-"
      },
      "execution_count": 3,
      "outputs": []
    },
    {
      "cell_type": "code",
      "source": [
        "\"\"\"\n",
        "keras.layer 속성을 통해 어떤 층이 있는 지 알 수 있음\n",
        "\"\"\"\n",
        "model.layers\n",
        "print(model.layers)"
      ],
      "metadata": {
        "colab": {
          "base_uri": "https://localhost:8080/"
        },
        "id": "kEz53viFts_H",
        "outputId": "5442a6aa-8926-4002-85c6-5d3a6229353d"
      },
      "execution_count": 4,
      "outputs": [
        {
          "output_type": "stream",
          "name": "stdout",
          "text": [
            "[<keras.layers.convolutional.Conv2D object at 0x7f882928b150>, <keras.layers.pooling.MaxPooling2D object at 0x7f8831d5ea50>, <keras.layers.convolutional.Conv2D object at 0x7f8831d74210>, <keras.layers.pooling.MaxPooling2D object at 0x7f882db5c610>, <keras.layers.core.flatten.Flatten object at 0x7f8829245e10>, <keras.layers.core.dense.Dense object at 0x7f882926ecd0>, <keras.layers.core.dropout.Dropout object at 0x7f882db5c690>, <keras.layers.core.dense.Dense object at 0x7f8832b4f790>]\n"
          ]
        }
      ]
    },
    {
      "cell_type": "code",
      "source": [
        "# 모델의 첫번째 원소 -> 첫번째 Layer 층의 weight에 대한 정보\n",
        "conv = model.layers[0]\n",
        "print(conv.weights[0].shape, conv.weights[1].shape)"
      ],
      "metadata": {
        "colab": {
          "base_uri": "https://localhost:8080/"
        },
        "id": "W5nCBbhBx28F",
        "outputId": "e3b6b21d-376f-4a91-a14a-2ec1342bd0e1"
      },
      "execution_count": 5,
      "outputs": [
        {
          "output_type": "stream",
          "name": "stdout",
          "text": [
            "(3, 3, 1, 32) (32,)\n"
          ]
        }
      ]
    },
    {
      "cell_type": "code",
      "source": [
        "# tensor 클래스의 객체를 numpy로 바꾸어 다루기 쉽게 함\n",
        "\n",
        "conv_weights = conv.weights[0].numpy()\n",
        "print(conv_weights.mean(), conv_weights.std())"
      ],
      "metadata": {
        "colab": {
          "base_uri": "https://localhost:8080/"
        },
        "id": "NomtPmEA3K5K",
        "outputId": "1e2d794e-bed4-42fb-c27b-791c7f3c37ed"
      },
      "execution_count": 6,
      "outputs": [
        {
          "output_type": "stream",
          "name": "stdout",
          "text": [
            "-0.030305061 0.25855651\n"
          ]
        }
      ]
    },
    {
      "cell_type": "code",
      "source": [
        "import matplotlib.pyplot as plt\n",
        "plt.hist(conv_weights.reshape(-1, 1))\n",
        "plt.xlabel('weight')\n",
        "plt.ylabel('count')\n",
        "plt.show()"
      ],
      "metadata": {
        "colab": {
          "base_uri": "https://localhost:8080/",
          "height": 279
        },
        "id": "fknzVJXy3wg0",
        "outputId": "cb54ea07-764c-4997-c073-a360faff820f"
      },
      "execution_count": 7,
      "outputs": [
        {
          "output_type": "display_data",
          "data": {
            "text/plain": [
              "<Figure size 432x288 with 1 Axes>"
            ],
            "image/png": "[encoded data removed]"
          },
          "metadata": {
            "needs_background": "light"
          }
        }
      ]
    },
    {
      "cell_type": "code",
      "source": [
        "\"\"\"\n",
        "    32개의 필터 가중치를 시각화하여 확인해보자.\n",
        "    subplot을 통해 32개의 이미지를 출력할 수 있게 만들어주고,\n",
        "    conv_weights에서 인덱싱을 아래와 같이 한 이유는\n",
        "    커널의 크기가 (3, 3)이고, 필터의 depth가 1이기 때문에\n",
        "    0번째 값을 선택하고, 나머지 필터 32개의 인덱싱을 for문을 돌면서\n",
        "    imshow를 통해 담는다. \n",
        "\"\"\"\n",
        "\n",
        "fig, axs = plt.subplots(2, 16, figsize=(15,2))\n",
        "for i in range(2):\n",
        "    for j in range(16):\n",
        "        axs[i, j].imshow(conv_weights[:,:,0, i * 16 + j], vmin=-0.5, vmax=0.5)\n",
        "        axs[i, j].axis('off')\n",
        "\n",
        "plt.show()"
      ],
      "metadata": {
        "id": "Y3zN_7H046RW",
        "colab": {
          "base_uri": "https://localhost:8080/",
          "height": 116
        },
        "outputId": "44a4a740-89ff-4ee0-c5bf-0ba78379937d"
      },
      "execution_count": 9,
      "outputs": [
        {
          "output_type": "display_data",
          "data": {
            "text/plain": [
              "<Figure size 1080x144 with 32 Axes>"
            ],
            "image/png": "[encoded data removed]"
          },
          "metadata": {
            "needs_background": "light"
          }
        }
      ]
    },
    {
      "cell_type": "code",
      "source": [
        "\"\"\"\n",
        "    훈련되지 않은 합성곱 신경망과 시각화 자료를 비교해보자.\n",
        "\"\"\"\n",
        "no_training_model = keras.Sequential()\n",
        "no_training_model.add(keras.layers.Conv2D(32, kernel_size=3, activation = 'relu', \n",
        "                                          padding='same', input_shape=(28,28,1)))"
      ],
      "metadata": {
        "id": "LT7FNzdX6urD"
      },
      "execution_count": 11,
      "outputs": []
    },
    {
      "cell_type": "code",
      "source": [
        "no_training_conv = no_training_model.layers[0]\n",
        "print(no_training_conv.weights[0].shape)"
      ],
      "metadata": {
        "colab": {
          "base_uri": "https://localhost:8080/"
        },
        "id": "jNgvWOXa7Z7E",
        "outputId": "4ca2f6f4-c8fd-4965-c5c8-4ead5fd1f3fb"
      },
      "execution_count": 12,
      "outputs": [
        {
          "output_type": "stream",
          "name": "stdout",
          "text": [
            "(3, 3, 1, 32)\n"
          ]
        }
      ]
    },
    {
      "cell_type": "code",
      "source": [
        "no_training_weights = no_training_conv.weights[0].numpy()\n",
        "print(no_training_weights.mean(), no_training_weights.std())\n",
        "\"\"\"\n",
        "    평균은 비슷하지만 표준편차가 더 작게 나온다.\n",
        "    표준편차가 작다는 것은 가중치의 분포가 어디에 몰려있지 않고,\n",
        "    균등하게 배포된 것과 비슷한 형태를 띈 것이라 해석할 수 있다.\n",
        "\"\"\""
      ],
      "metadata": {
        "colab": {
          "base_uri": "https://localhost:8080/"
        },
        "id": "tJalGRHU7qnJ",
        "outputId": "577b1c66-7286-4774-e4e1-59245f40de51"
      },
      "execution_count": 13,
      "outputs": [
        {
          "output_type": "stream",
          "name": "stdout",
          "text": [
            "-0.00084549724 0.08509006\n"
          ]
        }
      ]
    },
    {
      "cell_type": "code",
      "source": [
        "plt.hist(no_training_weights.reshape(-1, 1))\n",
        "plt.xlabel('weight')\n",
        "plt.ylabel('count')\n",
        "plt.show()"
      ],
      "metadata": {
        "colab": {
          "base_uri": "https://localhost:8080/",
          "height": 279
        },
        "id": "963Mfh2v76eu",
        "outputId": "db5fff21-6bd2-49d7-e4c3-fa94c62485ca"
      },
      "execution_count": 14,
      "outputs": [
        {
          "output_type": "display_data",
          "data": {
            "text/plain": [
              "<Figure size 432x288 with 1 Axes>"
            ],
            "image/png": "[encoded data removed]"
          },
          "metadata": {
            "needs_background": "light"
          }
        }
      ]
    },
    {
      "cell_type": "code",
      "source": [
        "# 똑같이 32개의 필터 시각화 해보기\n",
        "\n",
        "fig, axs = plt.subplots(2, 16, figsize=(15,2))\n",
        "for i in range(2):\n",
        "    for j in range(16):\n",
        "        axs[i, j].imshow(no_training_weights[:,:,0,i*16+j], vmin=-0.5, vmax=0.5)\n",
        "        axs[i, j].axis('off')\n",
        "plt.show()\n",
        "\n",
        "\"\"\"\n",
        "    훈련된 32개의 필터와 달리 훈련되지 않은 32개의 필터는 꽤 밋밋해보인다.\n",
        "    tensorflow가 신경망의 가중치를 처은 초기화할 때 균등 분포에서 랜덤하게\n",
        "    값을 선택하여 이러한 상태이다.\n",
        "\n",
        "    훈련되 32개의 필터는 패션 MNIST 데이터 셋의 분류 정확도를 높이기 위해\n",
        "    유용한 패턴을 학습했다는 사실을 알 수 있다.\n",
        "\"\"\""
      ],
      "metadata": {
        "colab": {
          "base_uri": "https://localhost:8080/",
          "height": 116
        },
        "id": "1P0uNe508EwR",
        "outputId": "75a7baab-94fe-4318-eaa8-a166583fb7b0"
      },
      "execution_count": 16,
      "outputs": [
        {
          "output_type": "display_data",
          "data": {
            "text/plain": [
              "<Figure size 1080x144 with 32 Axes>"
            ],
            "image/png": "[encoded data removed]"
          },
          "metadata": {
            "needs_background": "light"
          }
        }
      ]
    },
    {
      "cell_type": "code",
      "source": [
        "\"\"\"\n",
        "    함수형 API를 이용하여 Feature Map 시각화\n",
        "\"\"\"\n",
        "\n",
        "print(model.input)"
      ],
      "metadata": {
        "colab": {
          "base_uri": "https://localhost:8080/"
        },
        "id": "XhH5Jekx9ne8",
        "outputId": "5c67f4cd-11d0-4f6d-95ba-61a9c317f8fd"
      },
      "execution_count": 17,
      "outputs": [
        {
          "output_type": "stream",
          "name": "stdout",
          "text": [
            "KerasTensor(type_spec=TensorSpec(shape=(None, 28, 28, 1), dtype=tf.float32, name='conv2d_input'), name='conv2d_input', description=\"created by layer 'conv2d_input'\")\n"
          ]
        }
      ]
    },
    {
      "cell_type": "code",
      "source": [
        "# model.input을 통해 input을 가져오기\n",
        "# model.layers[0].output, 첫번째층(conv2D)를 가져옴으로써 output 지정\n",
        "conv_acti = keras.Model(model.input, model.layers[0].output)"
      ],
      "metadata": {
        "id": "5ozDUBF2_HzU"
      },
      "execution_count": 18,
      "outputs": []
    },
    {
      "cell_type": "code",
      "source": [
        "(train_X, train_Y), (test_X, test_Y) =\\\n",
        "    keras.datasets.fashion_mnist.load_data()\n",
        "plt.imshow(train_X[0], cmap='gray_r')\n",
        "plt.show()"
      ],
      "metadata": {
        "colab": {
          "base_uri": "https://localhost:8080/",
          "height": 265
        },
        "id": "T7cbwRvK_epA",
        "outputId": "89c72ec5-73e6-4caa-9583-1d572101b742"
      },
      "execution_count": 19,
      "outputs": [
        {
          "output_type": "display_data",
          "data": {
            "text/plain": [
              "<Figure size 432x288 with 1 Axes>"
            ],
            "image/png": "[encoded data removed]"
          },
          "metadata": {
            "needs_background": "light"
          }
        }
      ]
    },
    {
      "cell_type": "code",
      "source": [
        "# Feature Map 시각화\n",
        "# Sample 하나를 Feature Map을 시각화 하기 위해\n",
        "# 전처리\n",
        "\n",
        "inputs = train_X[0:1].reshape(-1, 28, 28, 1) / 255.0 # normalization\n",
        "feature_maps = conv_acti.predict(inputs)"
      ],
      "metadata": {
        "id": "Wr1Ld4zL_2d4"
      },
      "execution_count": 20,
      "outputs": []
    },
    {
      "cell_type": "code",
      "source": [
        "print(feature_maps.shape) # 32개의 필터를 활용한 feature map"
      ],
      "metadata": {
        "colab": {
          "base_uri": "https://localhost:8080/"
        },
        "id": "2QNUtUSXCaSc",
        "outputId": "cbd21dc4-3123-4934-d985-85d0e202aaf2"
      },
      "execution_count": 21,
      "outputs": [
        {
          "output_type": "stream",
          "name": "stdout",
          "text": [
            "(1, 28, 28, 32)\n"
          ]
        }
      ]
    },
    {
      "cell_type": "code",
      "source": [
        "# 32개의 필터를 통해 처리된 이미지\n",
        "\n",
        "fig, axs = plt.subplots(4, 8, figsize=(15,8))\n",
        "for i in range(4):\n",
        "    for j in range(8):\n",
        "        axs[i, j].imshow(feature_maps[0,:,:,i*8+j])\n",
        "        axs[i, j].axis('off')\n",
        "plt.show()"
      ],
      "metadata": {
        "colab": {
          "base_uri": "https://localhost:8080/",
          "height": 480
        },
        "id": "ugtBe2QMCd05",
        "outputId": "6a1e7487-fd1d-4b58-fd49-d2cd7d430a80"
      },
      "execution_count": 23,
      "outputs": [
        {
          "output_type": "display_data",
          "data": {
            "text/plain": [
              "<Figure size 1080x576 with 32 Axes>"
            ],
            "image/png": "[encoded data removed]"
          },
          "metadata": {
            "needs_background": "light"
          }
        }
      ]
    },
    {
      "cell_type": "code",
      "source": [
        "# 두번째 합성곱층 feature map 시각화\n",
        "\n",
        "conv2_acti = keras.Model(model.input, model.layers[2].output) # 풀링 층 중간에 껴있어서 3번째"
      ],
      "metadata": {
        "id": "vaT9gsTlDCqj"
      },
      "execution_count": 25,
      "outputs": []
    },
    {
      "cell_type": "code",
      "source": [
        "inputs = train_input[0:1].reshape(-1, 28, 28, 1) / 255.0\n",
        "feature_maps = conv2_acti.predict(inputs)"
      ],
      "metadata": {
        "id": "VlcyMSbBDjh8"
      },
      "execution_count": 28,
      "outputs": []
    },
    {
      "cell_type": "code",
      "source": [
        "print(feature_maps.shape)"
      ],
      "metadata": {
        "colab": {
          "base_uri": "https://localhost:8080/"
        },
        "id": "Ol2CrRlsDxh_",
        "outputId": "046d82ad-5b39-4f22-8438-8939468414bc"
      },
      "execution_count": 29,
      "outputs": [
        {
          "output_type": "stream",
          "name": "stdout",
          "text": [
            "(1, 14, 14, 64)\n"
          ]
        }
      ]
    },
    {
      "cell_type": "code",
      "source": [
        "fig, axs = plt.subplots(8, 8, figsize=(12,12))\n",
        "for i in range(8):\n",
        "    for j in range(8):\n",
        "        axs[i, j].imshow(feature_maps[0,:,:,i * 8 + j])\n",
        "        axs[i, j].axis('off')\n",
        "plt.show()"
      ],
      "metadata": {
        "colab": {
          "base_uri": "https://localhost:8080/",
          "height": 683
        },
        "id": "MUAJQbjlD3r7",
        "outputId": "2a061ce2-b723-4f85-abc4-dee3340e10f3"
      },
      "execution_count": 30,
      "outputs": [
        {
          "output_type": "display_data",
          "data": {
            "text/plain": [
              "<Figure size 864x864 with 64 Axes>"
            ],
            "image/png": "[encoded data removed]"
          },
          "metadata": {
            "needs_background": "light"
          }
        }
      ]
    }
  ]
}