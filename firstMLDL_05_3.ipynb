{
  "nbformat": 4,
  "nbformat_minor": 0,
  "metadata": {
    "colab": {
      "provenance": [],
      "collapsed_sections": [],
      "authorship_tag": "ABX9TyPQce3aRrxLXLnUwJzY1FV8",
      "include_colab_link": true
    },
    "kernelspec": {
      "name": "python3",
      "display_name": "Python 3"
    },
    "language_info": {
      "name": "python"
    }
  },
  "cells": [
    {
      "cell_type": "markdown",
      "metadata": {
        "id": "view-in-github",
        "colab_type": "text"
      },
      "source": [
        "<a href=\"https://colab.research.google.com/github/drawcodeboy/first_ML_DL/blob/main/firstMLDL_05_3.ipynb\" target=\"_parent\"><img src=\"https://colab.research.google.com/assets/colab-badge.svg\" alt=\"Open In Colab\"/></a>"
      ]
    },
    {
      "cell_type": "markdown",
      "source": [
        "# Tree Ensemble \n",
        ">* Random Forest\n",
        ">* Extra Tree\n",
        ">* Gradient Boosting\n",
        ">* Histogram-based Gradient Boosting"
      ],
      "metadata": {
        "id": "U8pApdn-ESHy"
      }
    },
    {
      "cell_type": "code",
      "execution_count": 2,
      "metadata": {
        "colab": {
          "base_uri": "https://localhost:8080/"
        },
        "id": "ffG1xmaXxXaQ",
        "outputId": "9abea38c-b7de-458c-f955-644295499341"
      },
      "outputs": [
        {
          "output_type": "stream",
          "name": "stdout",
          "text": [
            "<class 'pandas.core.frame.DataFrame'>\n",
            "RangeIndex: 6497 entries, 0 to 6496\n",
            "Data columns (total 4 columns):\n",
            " #   Column   Non-Null Count  Dtype  \n",
            "---  ------   --------------  -----  \n",
            " 0   alcohol  6497 non-null   float64\n",
            " 1   sugar    6497 non-null   float64\n",
            " 2   pH       6497 non-null   float64\n",
            " 3   class    6497 non-null   float64\n",
            "dtypes: float64(4)\n",
            "memory usage: 203.2 KB\n"
          ]
        }
      ],
      "source": [
        "import numpy as np\n",
        "import pandas as pd\n",
        "from sklearn.model_selection import train_test_split\n",
        "wine = pd.read_csv('http://bit.ly/wine_csv_data')\n",
        "wine.info()"
      ]
    },
    {
      "cell_type": "code",
      "source": [
        "data = wine[['alcohol', 'sugar', 'pH']].to_numpy()\n",
        "target = wine['class'].to_numpy()"
      ],
      "metadata": {
        "id": "98jc2yNDx4z4"
      },
      "execution_count": 3,
      "outputs": []
    },
    {
      "cell_type": "code",
      "source": [
        "train_input, test_input, train_target, test_target = train_test_split(\n",
        "    data, target, test_size = 0.2, random_state = 42\n",
        ")"
      ],
      "metadata": {
        "id": "zOWI31fKyG3D"
      },
      "execution_count": 4,
      "outputs": []
    },
    {
      "cell_type": "markdown",
      "source": [
        "# Random Forest\n",
        ">* Bootstrap Sample\n",
        ">* 분류 모델은 노드를 분할 할 때, 전체 특성 개수의 제곱근 만큼 랜덤하게 가져오고, 회귀는 전체 특성을 사용한다.\n",
        ">* 샘플(Bootstrap)을 랜덤, 특성 또한 랜덤하게 가져오기 때문에 훈련 세트에 Overfitting 되는 것을 막아준다.\n",
        ">* 검증 세트와 테스트 세트에서도 안정적인 성능을 낼 수 있다.\n",
        ">* 훈련 세트와 검증 세트의 점수를 비교하면 과대적합을 파악하는데 용이하다.\n",
        ">* OOB(Out of bag) Sample"
      ],
      "metadata": {
        "id": "IDJNnY_2Eccm"
      }
    },
    {
      "cell_type": "code",
      "source": [
        "from sklearn.model_selection import cross_validate\n",
        "from sklearn.ensemble import RandomForestClassifier\n",
        "rf = RandomForestClassifier(n_jobs = -1, random_state = 42)\n",
        "# 훈련 세트, 검증 세트 점수 비교\n",
        "scores = cross_validate(rf, train_input, train_target, return_train_score = True, n_jobs = -1)\n",
        "print(np.mean(scores['train_score']), np.mean(scores['test_score'])) # test_score = 교차 검증 점수"
      ],
      "metadata": {
        "colab": {
          "base_uri": "https://localhost:8080/"
        },
        "id": "gjsM_66RyTic",
        "outputId": "f68465cb-4dfa-4e51-b3a8-f5e3097a127f"
      },
      "execution_count": 5,
      "outputs": [
        {
          "output_type": "stream",
          "name": "stdout",
          "text": [
            "0.9973541965122431 0.8905151032797809\n"
          ]
        }
      ]
    },
    {
      "cell_type": "code",
      "source": [
        "# 특성 중요도 파악\n",
        "\n",
        "# 당도의 중요도가 감소하고 다른 특성의 중요도들이 증가한 것을 파악할 수 있다.\n",
        "# (단일 트리 모델에 비해서)\n",
        "# Random Forest가 특성의 일부를 랜덤하게 선택하여 결정 트리를 훈련하기 때문이다.\n",
        "# 그 결과 하나의 특성에 과도하게 집중하지 않고 좀 더 많은 특성이 훈련에 기여할 기회를 얻는다.\n",
        "rf.fit(train_input, train_target)\n",
        "print(rf.feature_importances_)"
      ],
      "metadata": {
        "colab": {
          "base_uri": "https://localhost:8080/"
        },
        "id": "ODIlcI11zI5b",
        "outputId": "2da709c0-ba76-4251-e0fb-6912d15d42d5"
      },
      "execution_count": 7,
      "outputs": [
        {
          "output_type": "stream",
          "name": "stdout",
          "text": [
            "[0.23167441 0.50039841 0.26792718]\n"
          ]
        }
      ]
    },
    {
      "cell_type": "code",
      "source": [
        "# OOB(Out of bag) Sample, Bootstrap Sample에 이용되지 않고 남은 샘플이다. \n",
        "# 이 샘플에 대한 평가를 검증 세트의 역할로 가져올 수 있다.\n",
        "\n",
        "rf = RandomForestClassifier(oob_score = True, n_jobs = -1, random_state =42)\n",
        "rf.fit(train_input, train_target)\n",
        "print(rf.oob_score_)"
      ],
      "metadata": {
        "colab": {
          "base_uri": "https://localhost:8080/"
        },
        "id": "NE_-0ePz07Gc",
        "outputId": "b4c4366d-ba27-408e-86d8-50498225e55b"
      },
      "execution_count": 8,
      "outputs": [
        {
          "output_type": "stream",
          "name": "stdout",
          "text": [
            "0.8934000384837406\n"
          ]
        }
      ]
    },
    {
      "cell_type": "markdown",
      "source": [
        "# Extra Tree\n",
        ">* Random Forest와 달리 Bootstrap Sample을 사용하지 않는다.\n",
        ">* 즉, 결정 트리를 만들 때 전체 훈련 세트를 사용\n",
        ">* 노드를 분할할 때, 가장 좋은 분할이 아닌 무작위로 분할\n",
        ">* 성능은 낮아지지만 Overfitting을 막고 검증 세트에 대한 점수를 높인다.\n",
        ">* 보통 엑스트라 트리가 무작위성이 더 크기 때문에 랜덤 포레스트보다 많은 결정 트리를 훈련해야 한다.\n",
        ">* 랜덤하게 노드를 분할하기 때문에 계산속도는 랜덤 포레스트보다 빠르다."
      ],
      "metadata": {
        "id": "W4UhOTc9GZOQ"
      }
    },
    {
      "cell_type": "code",
      "source": [
        "# Extra Tree\n",
        "\n",
        "from sklearn.ensemble import ExtraTreesClassifier\n",
        "et = ExtraTreesClassifier(n_jobs = -1, random_state = 42)\n",
        "scores = cross_validate(et, train_input, train_target,\n",
        "                        return_train_score = True, n_jobs = -1)\n",
        "print(np.mean(scores['train_score']), np.mean(scores['test_score']))"
      ],
      "metadata": {
        "colab": {
          "base_uri": "https://localhost:8080/"
        },
        "id": "M4miq2jg1G9H",
        "outputId": "960992de-f4bb-48fc-b6a8-0098ae1d0324"
      },
      "execution_count": 9,
      "outputs": [
        {
          "output_type": "stream",
          "name": "stdout",
          "text": [
            "0.9974503966084433 0.8887848893166506\n"
          ]
        }
      ]
    },
    {
      "cell_type": "code",
      "source": [
        "et.fit(train_input, train_target)\n",
        "print(et.feature_importances_)\n",
        "# Decision Tree보다 당도에 대한 의존성이 낮아짐"
      ],
      "metadata": {
        "colab": {
          "base_uri": "https://localhost:8080/"
        },
        "id": "MAUONfnj3AVm",
        "outputId": "bbc5dcaa-d413-4b2f-f662-cddac0dc4c2e"
      },
      "execution_count": 10,
      "outputs": [
        {
          "output_type": "stream",
          "name": "stdout",
          "text": [
            "[0.20183568 0.52242907 0.27573525]\n"
          ]
        }
      ]
    },
    {
      "cell_type": "markdown",
      "source": [
        "# Gradient Boosting\n",
        ">* 깊이가 얕은 결정 트리를 사용하여 이전 트리의 오차를 보완하는 방식으로 앙상블한다.\n",
        ">* 깊이가 얕기 때문에 Overfitting에 강하고, 높은 일반화 성능을 기대할 수 있다.\n",
        ">* 경사하강법 사용 (Classification = Logistic Loss Function, Regression = Mean Square Error Function)\n",
        ">* 학습률을 증가시키고, 트리의 개수를 증가시켜도 되려 성능이 향상되고 Overfitting은 거의 일어나지 않는다.\n",
        ">* subsample 매개변수를 통해 훈련 세트의 비율을 정할 수 있는데 이를 조정함으로써 확률적 경사 하강법이나 미니배치 경사 하강법과 비슷하게 할 수 있다."
      ],
      "metadata": {
        "id": "imgRsdcwHOuN"
      }
    },
    {
      "cell_type": "code",
      "source": [
        "from sklearn.ensemble import GradientBoostingClassifier\n",
        "gb = GradientBoostingClassifier(random_state = 42)\n",
        "scores = cross_validate(gb, train_input, train_target, return_train_score = True, n_jobs = -1)\n",
        "print(np.mean(scores['train_score']), np.mean(scores['test_score']))"
      ],
      "metadata": {
        "colab": {
          "base_uri": "https://localhost:8080/"
        },
        "id": "koTdkfPr3huj",
        "outputId": "ef5c4099-8760-46b3-9f37-2aa2cbea2701"
      },
      "execution_count": 11,
      "outputs": [
        {
          "output_type": "stream",
          "name": "stdout",
          "text": [
            "0.8881086892152563 0.8720430147331015\n"
          ]
        }
      ]
    },
    {
      "cell_type": "code",
      "source": [
        "# n_estimators(Decision Tree 개수)를 100 -> 500\n",
        "# learning_rate를 0.1 -> 0.2\n",
        "gb = GradientBoostingClassifier(n_estimators = 500, learning_rate = 0.2, random_state = 42)\n",
        "scores = cross_validate(gb, train_input, train_target, return_train_score = True, n_jobs = -1)\n",
        "print(np.mean(scores['train_score']), np.mean(scores['test_score']))"
      ],
      "metadata": {
        "colab": {
          "base_uri": "https://localhost:8080/"
        },
        "id": "jQyei5eO5DBN",
        "outputId": "d8cd016d-4f49-4023-ae1c-3e750d1d96dc"
      },
      "execution_count": 13,
      "outputs": [
        {
          "output_type": "stream",
          "name": "stdout",
          "text": [
            "0.9464595437171814 0.8780082549788999\n"
          ]
        }
      ]
    },
    {
      "cell_type": "code",
      "source": [
        "# 일부 feature(당도)에 더 집중한다.\n",
        "gb.fit(train_input, train_target)\n",
        "print(gb.feature_importances_)"
      ],
      "metadata": {
        "colab": {
          "base_uri": "https://localhost:8080/"
        },
        "id": "eD30nDQt5Vbz",
        "outputId": "b869e713-b614-4083-f29c-fb5fff70570a"
      },
      "execution_count": 15,
      "outputs": [
        {
          "output_type": "stream",
          "name": "stdout",
          "text": [
            "[0.15872278 0.68010884 0.16116839]\n"
          ]
        }
      ]
    },
    {
      "cell_type": "markdown",
      "source": [
        "# Histogram-Based Gradient Boosting\n",
        ">* 입력 특성을 256개의 구간으로 나눈다.\n",
        ">* 즉, 노드를 분할할 때 최적의 분할을 매우 빠르게 찾을 수 있다.\n",
        ">* 트리 개수 지정 매개변수 = max_iter\n",
        ">* Histogram-Based Gradient Boosting을 제공하는 라이브러리: XGBoost, LightGBM\n",
        "\n",
        "### + permutation_importance()\n",
        ">* 특성 중요도를 계산하기 위한 함수\n",
        ">* 특성을 하나씩 랜덤하게 섞어서 모델의 성능이 변화하는지 관찰하여 어떤 특성이 중요한지 계산\n",
        ">* 사이킷런에서 제공하는 모든 Estimator 모델에 사용가능하다.\n",
        ">* 반환하는 객체: importances, importances_mean, importances_std"
      ],
      "metadata": {
        "id": "jkuxxsZkIPMf"
      }
    },
    {
      "cell_type": "code",
      "source": [
        "# Histogram-Based Gradient Boosting\n",
        "\n",
        "from sklearn.ensemble import HistGradientBoostingClassifier\n",
        "hgb = HistGradientBoostingClassifier(random_state = 42)\n",
        "scores = cross_validate(hgb, train_input, train_target, return_train_score = True)\n",
        "print(np.mean(scores['train_score']), np.mean(scores['test_score']))"
      ],
      "metadata": {
        "colab": {
          "base_uri": "https://localhost:8080/"
        },
        "id": "SM4QGozy5u4X",
        "outputId": "95c02820-340d-423f-d1e6-63565cae8790"
      },
      "execution_count": 16,
      "outputs": [
        {
          "output_type": "stream",
          "name": "stdout",
          "text": [
            "0.9321723946453317 0.8801241948619236\n"
          ]
        }
      ]
    },
    {
      "cell_type": "code",
      "source": [
        "from sklearn.inspection import permutation_importance\n",
        "\n",
        "hgb.fit(train_input, train_target)\n",
        "result = permutation_importance(hgb, train_input, train_target, \n",
        "                                n_repeats = 10, random_state = 42, n_jobs = -1)\n",
        "print(result.importances_mean)"
      ],
      "metadata": {
        "colab": {
          "base_uri": "https://localhost:8080/"
        },
        "id": "AqUZZCxm7NHi",
        "outputId": "ca24d4e6-75f2-478f-f625-a29884ddcac9"
      },
      "execution_count": 17,
      "outputs": [
        {
          "output_type": "stream",
          "name": "stdout",
          "text": [
            "[0.08876275 0.23438522 0.08027708]\n"
          ]
        }
      ]
    },
    {
      "cell_type": "code",
      "source": [
        "result = permutation_importance(hgb, test_input, test_target,\n",
        "                                n_repeats = 10, random_state = 42, n_jobs = -1)\n",
        "print(result.importances_mean)"
      ],
      "metadata": {
        "colab": {
          "base_uri": "https://localhost:8080/"
        },
        "id": "YRaQTYBABas5",
        "outputId": "7d463698-dd91-49b5-a94c-57f94ff912ae"
      },
      "execution_count": 18,
      "outputs": [
        {
          "output_type": "stream",
          "name": "stdout",
          "text": [
            "[0.05969231 0.20238462 0.049     ]\n"
          ]
        }
      ]
    },
    {
      "cell_type": "code",
      "source": [
        "hgb.score(test_input, test_target)\n",
        "\n",
        "# 87%로 RandomSearch에서는 86%이었지만\n",
        "# 앙상블 모델이 단일 트리 모델에서보다 성능이 좋다는 것으로 판단할 수 있다."
      ],
      "metadata": {
        "colab": {
          "base_uri": "https://localhost:8080/"
        },
        "id": "kpMXyggtBmcE",
        "outputId": "9c2075ea-3fd1-4c47-e7fa-bb0155a1cff1"
      },
      "execution_count": 21,
      "outputs": [
        {
          "output_type": "execute_result",
          "data": {
            "text/plain": [
              "0.8723076923076923"
            ]
          },
          "metadata": {},
          "execution_count": 21
        }
      ]
    },
    {
      "cell_type": "code",
      "source": [
        "from xgboost import XGBClassifier\n",
        "xgb = XGBClassifier(tree_method = 'hist', random_state = 42)\n",
        "scores = cross_validate(xgb, train_input, train_target, return_train_score = True)\n",
        "print(np.mean(scores['train_score']), np.mean(scores['test_score']))"
      ],
      "metadata": {
        "colab": {
          "base_uri": "https://localhost:8080/"
        },
        "id": "dOzYuL0oB3_j",
        "outputId": "bf2bdee0-a2fe-47bd-d407-9dd770a404dd"
      },
      "execution_count": 22,
      "outputs": [
        {
          "output_type": "stream",
          "name": "stdout",
          "text": [
            "0.8824322471423747 0.8726214185237284\n"
          ]
        }
      ]
    },
    {
      "cell_type": "code",
      "source": [
        "from lightgbm import LGBMClassifier\n",
        "lgb = LGBMClassifier(random_state = 42)\n",
        "scores = cross_validate(lgb, train_input, train_target, return_train_score = True, n_jobs=-1)\n",
        "print(np.mean(scores['train_score']), np.mean(scores['test_score']))"
      ],
      "metadata": {
        "colab": {
          "base_uri": "https://localhost:8080/"
        },
        "id": "QCQLCxmVCja7",
        "outputId": "c5b84e1d-408a-464d-fb4c-5200a5d98871"
      },
      "execution_count": 23,
      "outputs": [
        {
          "output_type": "stream",
          "name": "stdout",
          "text": [
            "0.9338079582727165 0.8789710890649293\n"
          ]
        }
      ]
    },
    {
      "cell_type": "code",
      "source": [],
      "metadata": {
        "id": "rAzo2w4SC3O7"
      },
      "execution_count": null,
      "outputs": []
    }
  ]
}