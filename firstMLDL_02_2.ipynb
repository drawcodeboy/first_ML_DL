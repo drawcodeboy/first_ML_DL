{
  "nbformat": 4,
  "nbformat_minor": 0,
  "metadata": {
    "colab": {
      "name": "firstMLDL_02_2.ipynb",
      "provenance": [],
      "authorship_tag": "ABX9TyP+l4mCraOGc+8lnWlm3r1x",
      "include_colab_link": true
    },
    "kernelspec": {
      "name": "python3",
      "display_name": "Python 3"
    },
    "language_info": {
      "name": "python"
    }
  },
  "cells": [
    {
      "cell_type": "markdown",
      "metadata": {
        "id": "view-in-github",
        "colab_type": "text"
      },
      "source": [
        "<a href=\"https://colab.research.google.com/github/drawcodeboy/first_ML_DL/blob/main/firstMLDL_02_2.ipynb\" target=\"_parent\"><img src=\"https://colab.research.google.com/assets/colab-badge.svg\" alt=\"Open In Colab\"/></a>"
      ]
    },
    {
      "cell_type": "markdown",
      "source": [
        "#Scaling\n",
        ">* 스케일링이 왜 필요한가\n",
        ">* 데이터 준비 (np.column_stack(), np.concatenate())\n",
        ">* np.ones(), np.zeros()\n",
        ">* train_test_split()\n",
        ">* 넘파이 배열 인덱싱\n",
        ">* 넘파이 브로드캐스팅\n",
        ">* kneighbors 메서드\n",
        ">* Data Preprocessing: Scaling"
      ],
      "metadata": {
        "id": "4f9bVdrbAIiX"
      }
    },
    {
      "cell_type": "code",
      "execution_count": 2,
      "metadata": {
        "id": "r6_MkSPVzDDr"
      },
      "outputs": [],
      "source": [
        "# 데이터 가져오기\n",
        "fish_length = [25.4, 26.3, 26.5, 29.0, 29.0, 29.7, 29.7, 30.0, 30.0, 30.7, 31.0, 31.0, \n",
        "                31.5, 32.0, 32.0, 32.0, 33.0, 33.0, 33.5, 33.5, 34.0, 34.0, 34.5, 35.0, \n",
        "                35.0, 35.0, 35.0, 36.0, 36.0, 37.0, 38.5, 38.5, 39.5, 41.0, 41.0, 9.8, \n",
        "                10.5, 10.6, 11.0, 11.2, 11.3, 11.8, 11.8, 12.0, 12.2, 12.4, 13.0, 14.3, 15.0]\n",
        "fish_weight = [242.0, 290.0, 340.0, 363.0, 430.0, 450.0, 500.0, 390.0, 450.0, 500.0, 475.0, 500.0, \n",
        "                500.0, 340.0, 600.0, 600.0, 700.0, 700.0, 610.0, 650.0, 575.0, 685.0, 620.0, 680.0, \n",
        "                700.0, 725.0, 720.0, 714.0, 850.0, 1000.0, 920.0, 955.0, 925.0, 975.0, 950.0, 6.7, \n",
        "                7.5, 7.0, 9.7, 9.8, 8.7, 10.0, 9.9, 9.8, 12.2, 13.4, 12.2, 19.7, 19.9]\n"
      ]
    },
    {
      "cell_type": "code",
      "source": [
        "import numpy as np\n",
        "\n",
        "# 기존 데이터 리스트 만들던 방식\n",
        "# fish_data = [[l, w] for l, w in zip (fish_length, fish_height)]\n",
        "\n",
        "# np.column_stack(): 전달받은 리스트를 일렬로 세운 다음 차례대로 나란히 연결\n",
        "# 연결할 리스트는 파이썬 튜플로 전달\n",
        "\n",
        "# 튜플(tuple)이란?\n",
        "# 리스트와 매우 유사하다. 리스트처럼 원소에 순서가 있지만 한 번 만들어진 튜플은 수정할 수 없다.\n",
        "fish_data = np.column_stack((fish_length, fish_weight))\n",
        "\n",
        "# 앞에 5개만 뽑아보자\n",
        "print(fish_data[:5])"
      ],
      "metadata": {
        "colab": {
          "base_uri": "https://localhost:8080/"
        },
        "id": "-9qIh8rZzT9n",
        "outputId": "9c939f37-4c5c-4d11-d253-06801ddaacf6"
      },
      "execution_count": 6,
      "outputs": [
        {
          "output_type": "stream",
          "name": "stdout",
          "text": [
            "[[ 25.4 242. ]\n",
            " [ 26.3 290. ]\n",
            " [ 26.5 340. ]\n",
            " [ 29.  363. ]\n",
            " [ 29.  430. ]]\n"
          ]
        }
      ]
    },
    {
      "cell_type": "code",
      "source": [
        "# 동일한 방법으로 target data도 만들어보자.\n",
        "\n",
        "# 기존 target 만들던 방식\n",
        "# fish_target = [1] * 35 + [0] * 14\n",
        "\n",
        "# np.ones(), np.zeros(): 원하는 개수만큼 1 혹은 0을 채워 배열을 만들어주는 함수\n",
        "# np.concatenate(): 1차원을 따라 배열을 연결하는 함수, column_stack과 마찬가지로 tuple로 전달\n",
        "\n",
        "fish_target = np.concatenate((np.ones(35), np.zeros(14)))\n",
        "print(fish_target)"
      ],
      "metadata": {
        "colab": {
          "base_uri": "https://localhost:8080/"
        },
        "id": "CEDrG9Bo0sV7",
        "outputId": "54a4256c-a1b6-4e19-adec-7acbe1e21ac7"
      },
      "execution_count": 8,
      "outputs": [
        {
          "output_type": "stream",
          "name": "stdout",
          "text": [
            "[1. 1. 1. 1. 1. 1. 1. 1. 1. 1. 1. 1. 1. 1. 1. 1. 1. 1. 1. 1. 1. 1. 1. 1.\n",
            " 1. 1. 1. 1. 1. 1. 1. 1. 1. 1. 1. 0. 0. 0. 0. 0. 0. 0. 0. 0. 0. 0. 0. 0.\n",
            " 0.]\n"
          ]
        }
      ]
    },
    {
      "cell_type": "code",
      "source": [
        "# 사이킷런을 이용하여 train데이터와 test데이터를 split (random으로 섞는 것까지)\n",
        "from sklearn.model_selection import train_test_split\n",
        "\n",
        "train_input, test_input, train_target, test_target = train_test_split(\n",
        "    fish_data, fish_target, random_state = 42\n",
        ")\n",
        "\n",
        "# 이 함수는 기본적으로 test set으로 전체 데이터에서 25%정도만 떼어낸다.\n",
        "print(train_input.shape, test_target.shape)\n",
        "\n",
        "# 도미와 빙어가 잘 섞였는가\n",
        "print(test_target)\n",
        "# 두 생선의 비율은 2.5 : 이다. 하지만, 테스트 세트에서 도미와 빙어의 비율이 3.3 : 1이다.\n",
        "# 이러한 경우 Sampling bias 현상이 나타나 모델이 올바르게 학습할 수 없을 것이다.\n",
        "\n",
        "# train_test_split 함수에서 stratify 매개변수에 target data를 전달하면 클래스 비율에 맞게 데이터를 나눈다.\n",
        "train_input, test_input, train_target, test_target = train_test_split(\n",
        "    fish_data, fish_target, stratify = fish_target, random_state = 42\n",
        ")\n",
        "\n",
        "print(test_target)\n",
        "# >> 데이터 준비 끝"
      ],
      "metadata": {
        "colab": {
          "base_uri": "https://localhost:8080/"
        },
        "id": "tDB7yVBR1wV1",
        "outputId": "fe17b443-5f26-4c8d-e43b-bcceb62062ab"
      },
      "execution_count": 12,
      "outputs": [
        {
          "output_type": "stream",
          "name": "stdout",
          "text": [
            "(36, 2) (13,)\n",
            "[1. 0. 0. 0. 1. 1. 1. 1. 1. 1. 1. 1. 1.]\n",
            "[0. 0. 1. 0. 1. 0. 1. 1. 1. 1. 1. 1. 1.]\n"
          ]
        }
      ]
    },
    {
      "cell_type": "code",
      "source": [
        "# 수상한 도미 한 마리\n",
        "\n",
        "from sklearn.neighbors import KNeighborsClassifier\n",
        "kn = KNeighborsClassifier()\n",
        "kn.fit(train_input, train_target)\n",
        "kn.score(test_input, test_target)"
      ],
      "metadata": {
        "colab": {
          "base_uri": "https://localhost:8080/"
        },
        "id": "RQ8eVt_e2hca",
        "outputId": "25bcedcb-04b4-4d48-92dd-b9486393f200"
      },
      "execution_count": 13,
      "outputs": [
        {
          "output_type": "execute_result",
          "data": {
            "text/plain": [
              "1.0"
            ]
          },
          "metadata": {},
          "execution_count": 13
        }
      ]
    },
    {
      "cell_type": "code",
      "source": [
        "# 수상한 도미에 대한 분류 값 예측\n",
        "print(kn.predict([[25, 150]]))\n",
        "\n",
        "# 빙어로 예측하게 된다."
      ],
      "metadata": {
        "colab": {
          "base_uri": "https://localhost:8080/"
        },
        "id": "s70jCLCs36m7",
        "outputId": "b0f95b92-a3f9-4cde-e9ae-21f900d1ad54"
      },
      "execution_count": 14,
      "outputs": [
        {
          "output_type": "stream",
          "name": "stdout",
          "text": [
            "[0.]\n"
          ]
        }
      ]
    },
    {
      "cell_type": "code",
      "source": [
        "# 산점도(scatter plot)을 그려서 확인\n",
        "\n",
        "import matplotlib.pyplot as plt\n",
        "plt.scatter(train_input[:,0], train_input[:,1])\n",
        "plt.scatter(25, 150, marker = '^') # marker = '^'는 삼각형으로 표시\n",
        "plt.xlabel('length')\n",
        "plt.ylabel('weight')\n",
        "plt.show()\n",
        "\n",
        "# 산점도로 보아도 다른 도미 데이터에 더 가깝다."
      ],
      "metadata": {
        "colab": {
          "base_uri": "https://localhost:8080/",
          "height": 279
        },
        "id": "bmy6YAVL4GXq",
        "outputId": "820ddc1a-dca9-4cba-9f78-6c8574043d49"
      },
      "execution_count": 17,
      "outputs": [
        {
          "output_type": "display_data",
          "data": {
            "text/plain": [
              "<Figure size 432x288 with 1 Axes>"
            ],
            "image/png": "[encoded data removed]"
          },
          "metadata": {
            "needs_background": "light"
          }
        }
      ]
    },
    {
      "cell_type": "code",
      "source": [
        "# 주어진 샘플에서 가장 가까운 이웃을 찾아주는 kneighbor() 메서드를 사용해보자.\n",
        "\n",
        "distances, indexes = kn.kneighbors([[25, 150]])\n",
        "\n",
        "# indexes 배열을 사용하여 이웃 샘플을 따로 구분하여 scatter plot에 나타내보자.\n",
        "\n",
        "plt.scatter(train_input[:,0], train_input[:,1])\n",
        "plt.scatter(25, 150, marker = '^')\n",
        "# 넘파이 배열의 인덱싱 사용\n",
        "# marker = 'D'는 마름모\n",
        "plt.scatter(train_input[indexes, 0], train_input[indexes, 1], marker = 'D')\n",
        "plt.xlabel('length')\n",
        "plt.ylabel('weight')\n",
        "plt.show()\n",
        "\n",
        "# 결과 scatter plot을 보면 가장 가까운 이웃 데이터(5개) 중에\n",
        "# 4개가 빙어, 1개가 도미다.\n",
        "\n",
        "# 직접 데이터를 확인해보자. (input과 test 둘 다)\n",
        "print(train_input[indexes])\n",
        "print(train_target[indexes])\n",
        "\n",
        "# scatter plot을 직관적으로 보면 가장 가까운 거리를 빙어 4개로 채택하는 것이 이상하다.\n",
        "# distances 배열을 출력해보자.\n",
        "\n",
        "print(distances)\n",
        "# [[ 92.00086956 130.48375378 130.73859415 138.32150953 138.39320793]]\n",
        "# 이상하다. scatter plot에 나타난 거리에 대한 비율에 비해 거리가 너무 천차만별이다.\n",
        "# 어림짐작으로 보아도 92 거리 보다 족히 몇 배는 되어 보이지만 거리가 130인 게 이상하다.\n",
        "\n",
        "# x축의 범위가 좁고, y축의 범위가 그에 비해 너무 넓다.\n",
        "# 이 때문에 y축에서는 거리가 조금이라도 멀어져도 도미 샘플이 이웃으로 선택되지 못 했던 것이다."
      ],
      "metadata": {
        "colab": {
          "base_uri": "https://localhost:8080/",
          "height": 408
        },
        "id": "0K24Mb2l4yOz",
        "outputId": "31f96179-d120-4dc1-c268-ee0db5542ceb"
      },
      "execution_count": 22,
      "outputs": [
        {
          "output_type": "display_data",
          "data": {
            "text/plain": [
              "<Figure size 432x288 with 1 Axes>"
            ],
            "image/png": "[encoded data removed]"
          },
          "metadata": {
            "needs_background": "light"
          }
        },
        {
          "output_type": "stream",
          "name": "stdout",
          "text": [
            "[[[ 25.4 242. ]\n",
            "  [ 15.   19.9]\n",
            "  [ 14.3  19.7]\n",
            "  [ 13.   12.2]\n",
            "  [ 12.2  12.2]]]\n",
            "[[1. 0. 0. 0. 0.]]\n",
            "[[ 92.00086956 130.48375378 130.73859415 138.32150953 138.39320793]]\n"
          ]
        }
      ]
    },
    {
      "cell_type": "code",
      "source": [
        "# 이를 눈으로 명확히 눈으로 확인하기 위해 matplotlib에서 x축의 범위를 조절해보자.\n",
        "# xlim()\n",
        "\n",
        "plt.scatter(train_input[:,0], train_input[:,1])\n",
        "plt.scatter(25, 150, marker = '^')\n",
        "plt.xlim((0, 1000)) # << here\n",
        "plt.scatter(train_input[indexes, 0], train_input[indexes, 1], marker = 'D')\n",
        "plt.xlabel('length')\n",
        "plt.ylabel('weight')\n",
        "plt.show()\n",
        "\n",
        "# 산점도가 거의 일직선으로 나타난다.\n",
        "# 확실히 이런 데이터라면 x축은 모델링 하는 데에 있어서 큰 영향을 미치지 못 한다.\n",
        "\n",
        "# 이를 두 feature의 scale이 다르다고 한다.\n",
        "# 즉, 데이터를 표현하는 기준이 다르다면 알고리즘이 올바르게 예측 할 수 없다.\n",
        "# feature 값을 일정한 기준으로 맞춰야 한다. 이런 작업을 Data Preprocessing이라한다."
      ],
      "metadata": {
        "colab": {
          "base_uri": "https://localhost:8080/",
          "height": 279
        },
        "id": "OGMONb496Osh",
        "outputId": "d2426baa-7cfb-4e6f-f778-431c46222c38"
      },
      "execution_count": 23,
      "outputs": [
        {
          "output_type": "display_data",
          "data": {
            "text/plain": [
              "<Figure size 432x288 with 1 Axes>"
            ],
            "image/png": "[encoded data removed]"
          },
          "metadata": {
            "needs_background": "light"
          }
        }
      ]
    },
    {
      "cell_type": "code",
      "source": [
        "# 표준점수, Standard Score (Z Score)\n",
        "# 각 feature 값이 평균에서 표준편차의 몇 배만큼 떨어져 있는지를 나타낸다.\n",
        "# standard score = (feature - mean) / std\n",
        "\n",
        "# 평균, 표준편차를 구하는 함수\n",
        "mean = np.mean(train_input, axis = 0)\n",
        "std = np.std(train_input, axis = 0)\n",
        "\n",
        "# 각 feature마다 평균과 표준편차가 구해졌다.\n",
        "print(mean, std)\n",
        "\n",
        "# 이제 원본 데이터에서 평균을 빼고 표준편차로 나누어 표준점수로 변환\n",
        "train_scaled = (train_input - mean) / std\n",
        "# 위 식은 어떻게 계산되는가? 넘파이는 똑똑하게도 train_input의 모든 행에서 mean에 있는\n",
        "# 두 평균 값을 빼준다. 그다음 std에 있는 표준편차를 모든 행에 적용한다.\n",
        "# 이런 넘파이 기능을 Broadcasting이라한다."
      ],
      "metadata": {
        "colab": {
          "base_uri": "https://localhost:8080/"
        },
        "id": "XsDaBs5n8voF",
        "outputId": "f2eaedbc-75d6-4332-ca78-4241b0ff0c58"
      },
      "execution_count": 25,
      "outputs": [
        {
          "output_type": "stream",
          "name": "stdout",
          "text": [
            "[ 27.29722222 454.09722222] [  9.98244253 323.29893931]\n"
          ]
        }
      ]
    },
    {
      "cell_type": "code",
      "source": [
        "# train_scaled의 scatter plot\n",
        "plt.scatter(train_scaled[:,0], train_scaled[:,1])\n",
        "\n",
        "# 수상한 도미 데이터도 전처리 시켜줘야 한다.\n",
        "new = ([25, 100] - mean) / std\n",
        "plt.scatter(new[0], new[1], marker = '^')\n",
        "plt.xlabel('length')\n",
        "plt.ylabel('weight')\n",
        "plt.show()\n",
        "\n",
        "# 산점도는 표준점수로 스케일링한 것과 비슷하다.\n",
        "# 달라진 점은 두 feature의 범위가 -1.5 ~ 1.5로 비슷해졌다는 것이다."
      ],
      "metadata": {
        "colab": {
          "base_uri": "https://localhost:8080/",
          "height": 279
        },
        "id": "bD-LV7X_-D7I",
        "outputId": "bcd6391a-3021-4319-faea-14683876e74c"
      },
      "execution_count": 26,
      "outputs": [
        {
          "output_type": "display_data",
          "data": {
            "text/plain": [
              "<Figure size 432x288 with 1 Axes>"
            ],
            "image/png": "[encoded data removed]"
          },
          "metadata": {
            "needs_background": "light"
          }
        }
      ]
    },
    {
      "cell_type": "code",
      "source": [
        "# 전처리 데이터로 다시 훈련\n",
        "\n",
        "kn.fit(train_scaled, train_target)\n",
        "\n",
        "test_scaled = (test_input - mean) / std\n",
        "kn.score(test_scaled, test_target) # Accuracy = 100%\n",
        "\n",
        "# 수상한 도미에 대한 predict 값 -> 도미로 분류\n",
        "print(kn.predict([new]))"
      ],
      "metadata": {
        "colab": {
          "base_uri": "https://localhost:8080/"
        },
        "id": "s5zP-FIE-zCN",
        "outputId": "023e7ec2-05ee-4f9a-c880-13966276019a"
      },
      "execution_count": 28,
      "outputs": [
        {
          "output_type": "stream",
          "name": "stdout",
          "text": [
            "[1.]\n"
          ]
        }
      ]
    },
    {
      "cell_type": "code",
      "source": [
        "# 마지막으로 kneighbors()함수로 이웃을 구하고, scatter plot을 그려보자.\n",
        "\n",
        "distances, indexes = kn.kneighbors([new])\n",
        "plt.scatter(train_scaled[:,0], train_scaled[:,1])\n",
        "plt.scatter(new[0], new[1])\n",
        "plt.scatter(train_scaled[indexes, 0], train_scaled[indexes, 1], marker = 'D')\n",
        "plt.xlabel('length')\n",
        "plt.ylabel('weight')\n",
        "plt.show()"
      ],
      "metadata": {
        "colab": {
          "base_uri": "https://localhost:8080/",
          "height": 279
        },
        "id": "cwWlk1w6_WM7",
        "outputId": "94f9f8e1-85c2-4d32-a391-9caa44b68b72"
      },
      "execution_count": 30,
      "outputs": [
        {
          "output_type": "display_data",
          "data": {
            "text/plain": [
              "<Figure size 432x288 with 1 Axes>"
            ],
            "image/png": "[encoded data removed]"
          },
          "metadata": {
            "needs_background": "light"
          }
        }
      ]
    }
  ]
}